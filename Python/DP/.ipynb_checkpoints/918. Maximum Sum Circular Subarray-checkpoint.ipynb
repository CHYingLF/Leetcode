{
 "cells": [
  {
   "cell_type": "code",
   "execution_count": null,
   "id": "natural-transcript",
   "metadata": {},
   "outputs": [],
   "source": []
  },
  {
   "cell_type": "markdown",
   "id": "seven-singer",
   "metadata": {},
   "source": [
    "# Method 1"
   ]
  },
  {
   "cell_type": "markdown",
   "id": "italic-kazakhstan",
   "metadata": {},
   "source": [
    "Brute force\n",
    "\n",
    "T=O(n^2), S=O(n)"
   ]
  },
  {
   "cell_type": "code",
   "execution_count": 13,
   "id": "guided-canon",
   "metadata": {},
   "outputs": [
    {
     "name": "stdout",
     "output_type": "stream",
     "text": [
      "[1, -2, 3, -2]\n",
      "[-1, 1, 1, -1]\n",
      "[2, -1, 2, -3]\n",
      "[0, 0, 0, 0]\n"
     ]
    },
    {
     "data": {
      "text/plain": [
       "3"
      ]
     },
     "execution_count": 13,
     "metadata": {},
     "output_type": "execute_result"
    }
   ],
   "source": [
    "class Solution:\n",
    "    def maxSubarraySumCircular(self, nums) -> int:\n",
    "        max_sum,sub=max(nums),nums[:]\n",
    "        n=len(nums)\n",
    "        \n",
    "        for i in range(1,n):\n",
    "            print(sub)\n",
    "            for j in range(n):\n",
    "                sub[j]+=nums[(i+j)%n]\n",
    "                max_sum=max(max_sum,sub[j])\n",
    "        \n",
    "        print(sub)\n",
    "        return max(max_sum,sum(nums))\n",
    "    \n",
    "s=Solution()\n",
    "nums=[1,-2,3,-2]\n",
    "s.maxSubarraySumCircular(nums)"
   ]
  },
  {
   "cell_type": "markdown",
   "id": "international-profession",
   "metadata": {},
   "source": [
    "# Method 2*"
   ]
  },
  {
   "cell_type": "markdown",
   "id": "verbal-advice",
   "metadata": {},
   "source": [
    "\n",
    "1. maximum occurs in between: 53. maximum subarray\n",
    "\n",
    "2. maximum occurs at prefix and suffix: max(the max subarray sum, the total sum - the min subarray sum)\n",
    "\n",
    "3. use cum_max and cum_min to keep track of max_subarray and min_subarray at current index.\n",
    "\n",
    "T=O(n), S=O(1)"
   ]
  },
  {
   "cell_type": "code",
   "execution_count": 15,
   "id": "interpreted-right",
   "metadata": {},
   "outputs": [
    {
     "data": {
      "text/plain": [
       "3"
      ]
     },
     "execution_count": 15,
     "metadata": {},
     "output_type": "execute_result"
    }
   ],
   "source": [
    "class Solution:\n",
    "    def maxSubarraySumCircular(self, nums) -> int:\n",
    "        cum_max,cum_min,max_sum,min_sum=0,0,nums[0],nums[0]\n",
    "        total=0\n",
    "        \n",
    "        for a in nums:\n",
    "            cum_max=max(cum_max+a,a)\n",
    "            max_sum=max(max_sum,cum_max)\n",
    "            cum_min=min(cum_min+a,a)\n",
    "            min_sum=min(min_sum,cum_min)\n",
    "            \n",
    "            total+=a\n",
    "            \n",
    "            \n",
    "        return max(max_sum,total-min_sum) if max_sum>0 else max_sum\n",
    "\n",
    "s=Solution()\n",
    "nums=[1,-2,3,-2]\n",
    "s.maxSubarraySumCircular(nums)"
   ]
  },
  {
   "cell_type": "code",
   "execution_count": 2,
   "id": "characteristic-polls",
   "metadata": {},
   "outputs": [
    {
     "ename": "TypeError",
     "evalue": "can only concatenate tuple (not \"int\") to tuple",
     "output_type": "error",
     "traceback": [
      "\u001b[1;31m---------------------------------------------------------------------------\u001b[0m",
      "\u001b[1;31mTypeError\u001b[0m                                 Traceback (most recent call last)",
      "\u001b[1;32m<ipython-input-2-09b3916547e7>\u001b[0m in \u001b[0;36m<module>\u001b[1;34m\u001b[0m\n\u001b[0;32m     13\u001b[0m \u001b[0ms\u001b[0m\u001b[1;33m=\u001b[0m\u001b[0mSolution\u001b[0m\u001b[1;33m(\u001b[0m\u001b[1;33m)\u001b[0m\u001b[1;33m\u001b[0m\u001b[1;33m\u001b[0m\u001b[0m\n\u001b[0;32m     14\u001b[0m \u001b[0mnums\u001b[0m\u001b[1;33m=\u001b[0m\u001b[1;33m[\u001b[0m\u001b[1;36m1\u001b[0m\u001b[1;33m,\u001b[0m\u001b[1;33m-\u001b[0m\u001b[1;36m2\u001b[0m\u001b[1;33m,\u001b[0m\u001b[1;36m3\u001b[0m\u001b[1;33m,\u001b[0m\u001b[1;33m-\u001b[0m\u001b[1;36m2\u001b[0m\u001b[1;33m]\u001b[0m\u001b[1;33m\u001b[0m\u001b[1;33m\u001b[0m\u001b[0m\n\u001b[1;32m---> 15\u001b[1;33m \u001b[0ms\u001b[0m\u001b[1;33m.\u001b[0m\u001b[0mmaxSubarraySumCircular\u001b[0m\u001b[1;33m(\u001b[0m\u001b[0mnums\u001b[0m\u001b[1;33m)\u001b[0m\u001b[1;33m\u001b[0m\u001b[1;33m\u001b[0m\u001b[0m\n\u001b[0m",
      "\u001b[1;32m<ipython-input-2-09b3916547e7>\u001b[0m in \u001b[0;36mmaxSubarraySumCircular\u001b[1;34m(self, nums)\u001b[0m\n\u001b[0;32m      4\u001b[0m \u001b[1;33m\u001b[0m\u001b[0m\n\u001b[0;32m      5\u001b[0m         \u001b[1;32mfor\u001b[0m \u001b[0ma\u001b[0m \u001b[1;32min\u001b[0m \u001b[0mnums\u001b[0m\u001b[1;33m:\u001b[0m\u001b[1;33m\u001b[0m\u001b[1;33m\u001b[0m\u001b[0m\n\u001b[1;32m----> 6\u001b[1;33m             \u001b[0mcum_max\u001b[0m\u001b[1;33m=\u001b[0m\u001b[0mmax\u001b[0m\u001b[1;33m(\u001b[0m\u001b[0mcum_max\u001b[0m\u001b[1;33m+\u001b[0m\u001b[0ma\u001b[0m\u001b[1;33m,\u001b[0m\u001b[0ma\u001b[0m\u001b[1;33m)\u001b[0m\u001b[1;33m\u001b[0m\u001b[1;33m\u001b[0m\u001b[0m\n\u001b[0m\u001b[0;32m      7\u001b[0m             \u001b[0mmax_sum\u001b[0m\u001b[1;33m=\u001b[0m\u001b[0mmax\u001b[0m\u001b[1;33m(\u001b[0m\u001b[0mmax_sum\u001b[0m\u001b[1;33m,\u001b[0m\u001b[0mcum_max\u001b[0m\u001b[1;33m)\u001b[0m\u001b[1;33m\u001b[0m\u001b[1;33m\u001b[0m\u001b[0m\n\u001b[0;32m      8\u001b[0m             \u001b[0mcum_min\u001b[0m\u001b[1;33m=\u001b[0m\u001b[0mmin\u001b[0m\u001b[1;33m(\u001b[0m\u001b[0mcum_min\u001b[0m\u001b[1;33m+\u001b[0m\u001b[0ma\u001b[0m\u001b[1;33m,\u001b[0m\u001b[0ma\u001b[0m\u001b[1;33m)\u001b[0m\u001b[1;33m\u001b[0m\u001b[1;33m\u001b[0m\u001b[0m\n",
      "\u001b[1;31mTypeError\u001b[0m: can only concatenate tuple (not \"int\") to tuple"
     ]
    }
   ],
   "source": [
    "class Solution:\n",
    "    def maxSubarraySumCircular(self, nums) -> int:\n",
    "        cum_max=cum_min=min_sum=max_sum=0,0,nums[0],nums[0]\n",
    "        \n",
    "        for a in nums:\n",
    "            cum_max=max(cum_max+a,a)\n",
    "            max_sum=max(max_sum,cum_max)\n",
    "            cum_min=min(cum_min+a,a)\n",
    "            min_sum=min(min_sum,cum_min)\n",
    "            \n",
    "        return max(max_sum,sum(nums)-min_sum)\n",
    "    \n",
    "s=Solution()\n",
    "nums=[1,-2,3,-2]\n",
    "s.maxSubarraySumCircular(nums)"
   ]
  }
 ],
 "metadata": {
  "kernelspec": {
   "display_name": "Python 3",
   "language": "python",
   "name": "python3"
  },
  "language_info": {
   "codemirror_mode": {
    "name": "ipython",
    "version": 3
   },
   "file_extension": ".py",
   "mimetype": "text/x-python",
   "name": "python",
   "nbconvert_exporter": "python",
   "pygments_lexer": "ipython3",
   "version": "3.8.3"
  }
 },
 "nbformat": 4,
 "nbformat_minor": 5
}
