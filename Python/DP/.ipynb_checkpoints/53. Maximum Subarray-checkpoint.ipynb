{
 "cells": [
  {
   "cell_type": "code",
   "execution_count": null,
   "id": "existing-boards",
   "metadata": {},
   "outputs": [],
   "source": []
  },
  {
   "cell_type": "markdown",
   "id": "closing-exhibition",
   "metadata": {},
   "source": [
    "# Method 1\n",
    "\n",
    "Kadane’s Algorithm — (Dynamic Programming)\n",
    "\n",
    "local_maximum[i] = max( A[i], A[i] + local_maximum[i-1])"
   ]
  },
  {
   "cell_type": "code",
   "execution_count": 5,
   "id": "smoking-excellence",
   "metadata": {},
   "outputs": [
    {
     "data": {
      "text/plain": [
       "-1"
      ]
     },
     "execution_count": 5,
     "metadata": {},
     "output_type": "execute_result"
    }
   ],
   "source": [
    "class Solution:\n",
    "    def maxSubArray(self, nums) -> int:\n",
    "        cum_max,max_sum=0,nums[0]\n",
    "        \n",
    "        for a in nums:\n",
    "            cum_max=max(cum_max+a,a)\n",
    "            max_sum=max(max_sum,cum_max)\n",
    "            \n",
    "        return max_sum\n",
    "    \n",
    "s=Solution()\n",
    "nums=[-1]\n",
    "s.maxSubArray(nums)"
   ]
  }
 ],
 "metadata": {
  "kernelspec": {
   "display_name": "Python 3",
   "language": "python",
   "name": "python3"
  },
  "language_info": {
   "codemirror_mode": {
    "name": "ipython",
    "version": 3
   },
   "file_extension": ".py",
   "mimetype": "text/x-python",
   "name": "python",
   "nbconvert_exporter": "python",
   "pygments_lexer": "ipython3",
   "version": "3.8.3"
  }
 },
 "nbformat": 4,
 "nbformat_minor": 5
}
