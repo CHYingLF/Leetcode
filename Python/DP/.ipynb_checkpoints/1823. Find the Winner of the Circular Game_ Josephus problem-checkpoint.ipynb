{
 "cells": [
  {
   "cell_type": "code",
   "execution_count": null,
   "id": "cellular-senator",
   "metadata": {},
   "outputs": [],
   "source": []
  },
  {
   "cell_type": "markdown",
   "id": "central-taylor",
   "metadata": {},
   "source": [
    "# Method 1"
   ]
  },
  {
   "cell_type": "markdown",
   "id": "selected-freeware",
   "metadata": {},
   "source": [
    "Use deque to simulate the process"
   ]
  },
  {
   "cell_type": "code",
   "execution_count": 8,
   "id": "brutal-laugh",
   "metadata": {},
   "outputs": [
    {
     "data": {
      "text/plain": [
       "4"
      ]
     },
     "execution_count": 8,
     "metadata": {},
     "output_type": "execute_result"
    }
   ],
   "source": [
    "class Solution:\n",
    "    def findTheWinner(self, n: int, k: int) -> int:\n",
    "        queue=collections.deque(range(1,n+1))\n",
    "        \n",
    "        while queue:\n",
    "            for i in range(k-1):\n",
    "                queue.append(queue.popleft())\n",
    "        \n",
    "            out=queue.popleft()\n",
    "            \n",
    "        return out\n",
    "    \n",
    "s=Solution()\n",
    "s.findTheWinner(5,6)"
   ]
  },
  {
   "cell_type": "markdown",
   "id": "suburban-violation",
   "metadata": {},
   "source": [
    "# Method 2"
   ]
  },
  {
   "cell_type": "markdown",
   "id": "surprising-community",
   "metadata": {},
   "source": [
    "In the end,n = 1,\n",
    "the index of winner index is 0 (base-0)\n",
    "\n",
    "We think with one step back,\n",
    "when n = 2,\n",
    "the index of winner is 0 + k,\n",
    "but we have only n peopple,\n",
    "so the winner index is (0 + k) % 2 (base-0)\n",
    "\n",
    "We think with one more step back,\n",
    "when n = 3,\n",
    "the index of winner is f(2) + k,\n",
    "but we have only n peopple,\n",
    "so the winner index is (f(2) + k) % 3 (base-0)\n",
    "\n",
    "We think with n more step back,\n",
    "the index of winner is f(n-1) + k,\n",
    "but we have only n peopple,\n",
    "so the winner index is (f(n-1) + k) % n (base-0)\n",
    "\n",
    "T=O(n), S=O(1)"
   ]
  },
  {
   "cell_type": "code",
   "execution_count": 9,
   "id": "blank-private",
   "metadata": {},
   "outputs": [],
   "source": [
    "class Solution:\n",
    "    def findTheWinner(self, n: int, k: int) -> int:\n",
    "        res=0\n",
    "        \n",
    "        for i in range(2,n+1):\n",
    "            res=(k+res)%i\n",
    "            \n",
    "        return res+1"
   ]
  }
 ],
 "metadata": {
  "kernelspec": {
   "display_name": "Python 3",
   "language": "python",
   "name": "python3"
  },
  "language_info": {
   "codemirror_mode": {
    "name": "ipython",
    "version": 3
   },
   "file_extension": ".py",
   "mimetype": "text/x-python",
   "name": "python",
   "nbconvert_exporter": "python",
   "pygments_lexer": "ipython3",
   "version": "3.8.3"
  }
 },
 "nbformat": 4,
 "nbformat_minor": 5
}
