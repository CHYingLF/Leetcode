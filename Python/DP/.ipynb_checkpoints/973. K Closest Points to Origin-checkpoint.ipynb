{
 "cells": [
  {
   "cell_type": "code",
   "execution_count": 4,
   "id": "parental-python",
   "metadata": {},
   "outputs": [
    {
     "data": {
      "text/plain": [
       "9"
      ]
     },
     "execution_count": 4,
     "metadata": {},
     "output_type": "execute_result"
    }
   ],
   "source": [
    "a=[1,2,3,6,7]\n",
    "b=[0,3,2]\n",
    "[a[c] for c in b]\n",
    "3**2"
   ]
  },
  {
   "cell_type": "markdown",
   "id": "sorted-modem",
   "metadata": {},
   "source": [
    "# Method 1"
   ]
  },
  {
   "cell_type": "code",
   "execution_count": null,
   "id": "inner-future",
   "metadata": {},
   "outputs": [],
   "source": [
    "class Solution:\n",
    "    def kClosest(self, points: List[List[int]], k: int) -> List[List[int]]:\n",
    "            \n",
    "        return sorted(points,key=lambda x: x[0]**2 + x[1]**2)[:k]"
   ]
  },
  {
   "cell_type": "markdown",
   "id": "prepared-plate",
   "metadata": {},
   "source": [
    "# Method 2"
   ]
  },
  {
   "cell_type": "code",
   "execution_count": null,
   "id": "talented-button",
   "metadata": {},
   "outputs": [],
   "source": [
    "class Solution:\n",
    "    def kClosest(self, points: List[List[int]], k: int) -> List[List[int]]:\n",
    "        dis=[]\n",
    "        for [a,b] in points:\n",
    "            dis.append([-a**2-b**2,a,b])\n",
    "        heapq.heapify(dis)\n",
    "        \n",
    "        while len(dis)>k: heapq.heappop(dis)\n",
    "            \n",
    "        return [[a[1],a[2]] for a in dis]"
   ]
  }
 ],
 "metadata": {
  "kernelspec": {
   "display_name": "Python 3",
   "language": "python",
   "name": "python3"
  },
  "language_info": {
   "codemirror_mode": {
    "name": "ipython",
    "version": 3
   },
   "file_extension": ".py",
   "mimetype": "text/x-python",
   "name": "python",
   "nbconvert_exporter": "python",
   "pygments_lexer": "ipython3",
   "version": "3.8.3"
  }
 },
 "nbformat": 4,
 "nbformat_minor": 5
}
