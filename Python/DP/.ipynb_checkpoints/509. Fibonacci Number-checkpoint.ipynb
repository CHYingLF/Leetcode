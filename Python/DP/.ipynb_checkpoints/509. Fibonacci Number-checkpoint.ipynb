{
 "cells": [
  {
   "cell_type": "code",
   "execution_count": 25,
   "id": "about-shelter",
   "metadata": {},
   "outputs": [],
   "source": []
  },
  {
   "cell_type": "markdown",
   "id": "above-coach",
   "metadata": {},
   "source": [
    "# Method 1"
   ]
  },
  {
   "cell_type": "markdown",
   "id": "simplified-vacuum",
   "metadata": {},
   "source": [
    "simple loop"
   ]
  },
  {
   "cell_type": "code",
   "execution_count": 17,
   "id": "european-failure",
   "metadata": {},
   "outputs": [
    {
     "data": {
      "text/plain": [
       "1"
      ]
     },
     "execution_count": 17,
     "metadata": {},
     "output_type": "execute_result"
    }
   ],
   "source": [
    "class Solution:\n",
    "    def fib(self, n: int) -> int:\n",
    "        if n==0: return a0\n",
    "        a0,a1=0,1\n",
    "        \n",
    "        for i in range(n-1):\n",
    "            a1,a0=a0+a1,a1\n",
    "            \n",
    "        return a1\n",
    "    \n",
    "s=Solution()\n",
    "s.fib(2)"
   ]
  },
  {
   "cell_type": "markdown",
   "id": "loving-closer",
   "metadata": {},
   "source": [
    "Use list"
   ]
  },
  {
   "cell_type": "code",
   "execution_count": 18,
   "id": "cardiovascular-steel",
   "metadata": {},
   "outputs": [
    {
     "data": {
      "text/plain": [
       "1"
      ]
     },
     "execution_count": 18,
     "metadata": {},
     "output_type": "execute_result"
    }
   ],
   "source": [
    "class Solution:\n",
    "    def fib(self, n: int) -> int:\n",
    "        if n==0: return a0\n",
    "        memo=[0,1]\n",
    "        \n",
    "        for i in range(n-1):\n",
    "            memo=[memo[1],memo[0]+memo[1]]\n",
    "            \n",
    "        return memo[1]\n",
    "    \n",
    "s=Solution()\n",
    "s.fib(2)"
   ]
  },
  {
   "cell_type": "markdown",
   "id": "naval-international",
   "metadata": {},
   "source": [
    "Use turple"
   ]
  },
  {
   "cell_type": "code",
   "execution_count": 21,
   "id": "accurate-giving",
   "metadata": {},
   "outputs": [
    {
     "data": {
      "text/plain": [
       "3"
      ]
     },
     "execution_count": 21,
     "metadata": {},
     "output_type": "execute_result"
    }
   ],
   "source": [
    "class Solution:\n",
    "    def fib(self, n: int) -> int:\n",
    "        if n==0: return a0\n",
    "        memo=(0,1)\n",
    "        \n",
    "        for i in range(n-1):\n",
    "            memo=[memo[1],memo[0]+memo[1]]\n",
    "            \n",
    "        return memo[1]\n",
    "    \n",
    "s=Solution()\n",
    "s.fib(4)"
   ]
  },
  {
   "cell_type": "markdown",
   "id": "original-battle",
   "metadata": {},
   "source": [
    "# Method 2*"
   ]
  },
  {
   "cell_type": "markdown",
   "id": "amino-escape",
   "metadata": {},
   "source": [
    "recursive"
   ]
  },
  {
   "cell_type": "code",
   "execution_count": 28,
   "id": "beautiful-bullet",
   "metadata": {},
   "outputs": [
    {
     "data": {
      "text/plain": [
       "3"
      ]
     },
     "execution_count": 28,
     "metadata": {},
     "output_type": "execute_result"
    }
   ],
   "source": [
    "class Solution:\n",
    "    def fib(self, n: int) -> int:\n",
    "        if n==0 : return 0\n",
    "        if n==1 : return 1\n",
    "        \n",
    "        return self.fib(n-1)+self.fib(n-2)\n",
    "    \n",
    "s=Solution()\n",
    "s.fib(4)"
   ]
  }
 ],
 "metadata": {
  "kernelspec": {
   "display_name": "Python 3",
   "language": "python",
   "name": "python3"
  },
  "language_info": {
   "codemirror_mode": {
    "name": "ipython",
    "version": 3
   },
   "file_extension": ".py",
   "mimetype": "text/x-python",
   "name": "python",
   "nbconvert_exporter": "python",
   "pygments_lexer": "ipython3",
   "version": "3.8.3"
  }
 },
 "nbformat": 4,
 "nbformat_minor": 5
}
