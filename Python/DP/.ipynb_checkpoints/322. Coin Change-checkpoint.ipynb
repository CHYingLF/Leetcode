{
 "cells": [
  {
   "cell_type": "code",
   "execution_count": null,
   "id": "hispanic-tours",
   "metadata": {},
   "outputs": [],
   "source": []
  },
  {
   "cell_type": "markdown",
   "id": "cheap-coverage",
   "metadata": {},
   "source": [
    "# Method 1"
   ]
  },
  {
   "cell_type": "code",
   "execution_count": null,
   "id": "broadband-chorus",
   "metadata": {},
   "outputs": [],
   "source": [
    "class Solution:\n",
    "    def coinChange(self, coins: List[int], amount: int) -> int:\n",
    "        DP=[amount+1]*(amount+1)\n",
    "        DP[0]=0\n",
    "        for c in coins:\n",
    "            if c<=amount:DP[c]=1\n",
    "            \n",
    "        for i in range(1,amount+1):\n",
    "            for coin in coins:\n",
    "                if i>=coin:\n",
    "                    DP[i]=min(DP[i],DP[i-coin]+1)\n",
    "                    \n",
    "        return DP[amount] if DP[amount]!=amount+1 else -1\n",
    "        "
   ]
  }
 ],
 "metadata": {
  "kernelspec": {
   "display_name": "Python 3",
   "language": "python",
   "name": "python3"
  },
  "language_info": {
   "codemirror_mode": {
    "name": "ipython",
    "version": 3
   },
   "file_extension": ".py",
   "mimetype": "text/x-python",
   "name": "python",
   "nbconvert_exporter": "python",
   "pygments_lexer": "ipython3",
   "version": "3.8.3"
  }
 },
 "nbformat": 4,
 "nbformat_minor": 5
}
