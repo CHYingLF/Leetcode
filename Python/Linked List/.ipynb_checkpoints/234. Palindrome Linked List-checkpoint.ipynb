{
 "cells": [
  {
   "cell_type": "code",
   "execution_count": null,
   "id": "boxed-support",
   "metadata": {},
   "outputs": [],
   "source": []
  },
  {
   "cell_type": "markdown",
   "id": "accepting-development",
   "metadata": {},
   "source": [
    "# Method 1"
   ]
  },
  {
   "cell_type": "markdown",
   "id": "recent-immunology",
   "metadata": {},
   "source": [
    "T=O(n), S=O(1)\n",
    "\n",
    "1. find the middle of the linked list, use fast and slow\n",
    "2. reverse the list simultaneously"
   ]
  },
  {
   "cell_type": "code",
   "execution_count": null,
   "id": "developing-morocco",
   "metadata": {},
   "outputs": [],
   "source": [
    "# Definition for singly-linked list.\n",
    "# class ListNode:\n",
    "#     def __init__(self, val=0, next=None):\n",
    "#         self.val = val\n",
    "#         self.next = next\n",
    "class Solution:\n",
    "    def isPalindrome(self, head: Optional[ListNode]) -> bool:\n",
    "        rev,slow,fast=None,head,head\n",
    "        \n",
    "        while fast and fast.next:\n",
    "            fast=fast.next.next\n",
    "            rev,rev.next,slow= slow,rev,slow.next\n",
    "            \n",
    "        if fast: slow=slow.next\n",
    "            \n",
    "        while rev and rev.val==slow.val:\n",
    "            rev,slow=rev.next,slow.next\n",
    "            \n",
    "        return not rev"
   ]
  }
 ],
 "metadata": {
  "kernelspec": {
   "display_name": "Python 3",
   "language": "python",
   "name": "python3"
  },
  "language_info": {
   "codemirror_mode": {
    "name": "ipython",
    "version": 3
   },
   "file_extension": ".py",
   "mimetype": "text/x-python",
   "name": "python",
   "nbconvert_exporter": "python",
   "pygments_lexer": "ipython3",
   "version": "3.8.3"
  }
 },
 "nbformat": 4,
 "nbformat_minor": 5
}
