{
 "cells": [
  {
   "cell_type": "code",
   "execution_count": null,
   "id": "vanilla-royal",
   "metadata": {},
   "outputs": [],
   "source": []
  },
  {
   "cell_type": "markdown",
   "id": "average-cycling",
   "metadata": {},
   "source": [
    "# Method 1"
   ]
  },
  {
   "cell_type": "markdown",
   "id": "noted-detection",
   "metadata": {},
   "source": [
    "start from begining every time"
   ]
  },
  {
   "cell_type": "code",
   "execution_count": null,
   "id": "parallel-happiness",
   "metadata": {},
   "outputs": [],
   "source": [
    "# Definition for singly-linked list.\n",
    "# class ListNode:\n",
    "#     def __init__(self, val=0, next=None):\n",
    "#         self.val = val\n",
    "#         self.next = next\n",
    "class Solution:\n",
    "    def insertionSortList(self, head: Optional[ListNode]) -> Optional[ListNode]:\n",
    "        dummy = ListNode(-5001)\n",
    "        new =dummy\n",
    "        \n",
    "        while head:\n",
    "            new = dummy\n",
    "            while new.next and new.next.val<head.val:\n",
    "                new = new.next\n",
    "            temp=new.next\n",
    "            new.next = ListNode(head.val)\n",
    "            new.next.next = temp\n",
    "            head = head.next\n",
    "            \n",
    "        return dummy.next"
   ]
  },
  {
   "cell_type": "markdown",
   "id": "recorded-orchestra",
   "metadata": {},
   "source": [
    "Start from new not from begining "
   ]
  },
  {
   "cell_type": "code",
   "execution_count": null,
   "id": "starting-screw",
   "metadata": {},
   "outputs": [],
   "source": [
    "# Definition for singly-linked list.\n",
    "# class ListNode:\n",
    "#     def __init__(self, val=0, next=None):\n",
    "#         self.val = val\n",
    "#         self.next = next\n",
    "class Solution:\n",
    "    def insertionSortList(self, head: Optional[ListNode]) -> Optional[ListNode]:\n",
    "        dummy = ListNode(-5001)\n",
    "        new =dummy\n",
    "        \n",
    "        while head:\n",
    "            new = dummy if new.val>head.val else new\n",
    "            while new.next and new.next.val<head.val:\n",
    "                new = new.next\n",
    "            temp=new.next\n",
    "            new.next = ListNode(head.val)\n",
    "            new.next.next = temp\n",
    "            head = head.next\n",
    "            \n",
    "        return dummy.next"
   ]
  }
 ],
 "metadata": {
  "kernelspec": {
   "display_name": "Python 3",
   "language": "python",
   "name": "python3"
  },
  "language_info": {
   "codemirror_mode": {
    "name": "ipython",
    "version": 3
   },
   "file_extension": ".py",
   "mimetype": "text/x-python",
   "name": "python",
   "nbconvert_exporter": "python",
   "pygments_lexer": "ipython3",
   "version": "3.8.3"
  }
 },
 "nbformat": 4,
 "nbformat_minor": 5
}
