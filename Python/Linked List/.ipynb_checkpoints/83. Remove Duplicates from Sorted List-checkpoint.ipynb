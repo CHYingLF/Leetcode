{
 "cells": [
  {
   "cell_type": "code",
   "execution_count": null,
   "id": "equipped-uzbekistan",
   "metadata": {},
   "outputs": [],
   "source": []
  },
  {
   "cell_type": "markdown",
   "id": "personalized-duncan",
   "metadata": {},
   "source": [
    "# Method 1\n",
    "\n",
    "Use slow, fast\n",
    "\n",
    "1. slow form the new linked list\n",
    "2. fast, skip duplicate value"
   ]
  },
  {
   "cell_type": "code",
   "execution_count": null,
   "id": "respective-series",
   "metadata": {},
   "outputs": [],
   "source": [
    "# Definition for singly-linked list.\n",
    "# class ListNode:\n",
    "#     def __init__(self, val=0, next=None):\n",
    "#         self.val = val\n",
    "#         self.next = next\n",
    "class Solution:\n",
    "    def deleteDuplicates(self, head: Optional[ListNode]) -> Optional[ListNode]:\n",
    "        if not head: return head\n",
    "        slow,fast=head,head.next\n",
    "        \n",
    "        while fast:\n",
    "            if fast.val!=slow.val:\n",
    "                slow.next=fast\n",
    "                slow=slow.next\n",
    "            fast=fast.next\n",
    "        \n",
    "        slow.next=fast\n",
    "        return head\n",
    "            \n",
    "                "
   ]
  }
 ],
 "metadata": {
  "kernelspec": {
   "display_name": "Python 3",
   "language": "python",
   "name": "python3"
  },
  "language_info": {
   "codemirror_mode": {
    "name": "ipython",
    "version": 3
   },
   "file_extension": ".py",
   "mimetype": "text/x-python",
   "name": "python",
   "nbconvert_exporter": "python",
   "pygments_lexer": "ipython3",
   "version": "3.8.3"
  }
 },
 "nbformat": 4,
 "nbformat_minor": 5
}
