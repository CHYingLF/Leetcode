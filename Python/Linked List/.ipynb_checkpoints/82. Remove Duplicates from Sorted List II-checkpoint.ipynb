{
 "cells": [
  {
   "cell_type": "code",
   "execution_count": null,
   "id": "decreased-hindu",
   "metadata": {},
   "outputs": [],
   "source": []
  },
  {
   "cell_type": "markdown",
   "id": "average-fossil",
   "metadata": {},
   "source": [
    "# Method 1\n",
    "\n",
    "1. Use dummy head\n",
    "\n",
    "2. loop head by second\n",
    "\n",
    "3. record the length of each first node, if length==0, linked to new linked list\n",
    "\n",
    "4. After loop, need to properly ended."
   ]
  },
  {
   "cell_type": "code",
   "execution_count": null,
   "id": "according-ability",
   "metadata": {},
   "outputs": [],
   "source": [
    "# Definition for singly-linked list.\n",
    "# class ListNode:\n",
    "#     def __init__(self, val=0, next=None):\n",
    "#         self.val = val\n",
    "#         self.next = next\n",
    "class Solution:\n",
    "    def deleteDuplicates(self, head: Optional[ListNode]) -> Optional[ListNode]:\n",
    "        if not head: return head\n",
    "        Dummy = ListNode()\n",
    "        d, first, second = Dummy, head, head.next\n",
    "        length = 0\n",
    "        \n",
    "        while second:\n",
    "            if first.val != second.val:\n",
    "                if not length:\n",
    "                    d.next = first\n",
    "                    d = d.next\n",
    "                first, length = second, 0 \n",
    "            else:\n",
    "                length+=1\n",
    "                \n",
    "            second = second.next\n",
    "        \n",
    "        d.next = first if not length else None\n",
    "        return Dummy.next\n",
    "            "
   ]
  }
 ],
 "metadata": {
  "kernelspec": {
   "display_name": "Python 3",
   "language": "python",
   "name": "python3"
  },
  "language_info": {
   "codemirror_mode": {
    "name": "ipython",
    "version": 3
   },
   "file_extension": ".py",
   "mimetype": "text/x-python",
   "name": "python",
   "nbconvert_exporter": "python",
   "pygments_lexer": "ipython3",
   "version": "3.8.3"
  }
 },
 "nbformat": 4,
 "nbformat_minor": 5
}
