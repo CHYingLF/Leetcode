{
 "cells": [
  {
   "cell_type": "code",
   "execution_count": 2,
   "id": "strange-granny",
   "metadata": {},
   "outputs": [
    {
     "data": {
      "text/plain": [
       "(3, 10)"
      ]
     },
     "execution_count": 2,
     "metadata": {},
     "output_type": "execute_result"
    }
   ],
   "source": [
    "divmod(100,30)"
   ]
  },
  {
   "cell_type": "markdown",
   "id": "rolled-spain",
   "metadata": {},
   "source": [
    "# Method 1"
   ]
  },
  {
   "cell_type": "code",
   "execution_count": null,
   "id": "perfect-selection",
   "metadata": {},
   "outputs": [],
   "source": [
    "# Definition for singly-linked list.\n",
    "# class ListNode:\n",
    "#     def __init__(self, val=0, next=None):\n",
    "#         self.val = val\n",
    "#         self.next = next\n",
    "class Solution:\n",
    "    def addTwoNumbers(self, l1: Optional[ListNode], l2: Optional[ListNode]) -> Optional[ListNode]:\n",
    "        \n",
    "        def reverse(li):\n",
    "            prev=None\n",
    "            while li: li.next, prev, li = prev, li, li.next\n",
    "            return prev\n",
    "        \n",
    "        l1, l2 = reverse(l1), reverse(l2)\n",
    "        dummy = ListNode()\n",
    "        prev, count = dummy, 0\n",
    "        \n",
    "        while l1 or l2 or count:\n",
    "            num1=num2=0\n",
    "            if l1: num1, l1 = l1.val, l1.next\n",
    "            if l2: num2, l2 = l2.val, l2.next\n",
    "                \n",
    "            su=num1+num2+count\n",
    "            \n",
    "            prev.next = ListNode(su%10)\n",
    "            prev = prev.next\n",
    "            count=su//10\n",
    "            \n",
    "        return reverse(dummy.next)"
   ]
  },
  {
   "cell_type": "markdown",
   "id": "english-penetration",
   "metadata": {},
   "source": [
    "# Method 2"
   ]
  },
  {
   "cell_type": "markdown",
   "id": "drawn-attraction",
   "metadata": {},
   "source": [
    "Use stack"
   ]
  },
  {
   "cell_type": "code",
   "execution_count": null,
   "id": "otherwise-friendship",
   "metadata": {},
   "outputs": [],
   "source": [
    "# Definition for singly-linked list.\n",
    "# class ListNode:\n",
    "#     def __init__(self, val=0, next=None):\n",
    "#         self.val = val\n",
    "#         self.next = next\n",
    "class Solution:\n",
    "    def addTwoNumbers(self, l1: Optional[ListNode], l2: Optional[ListNode]) -> Optional[ListNode]:\n",
    "        \n",
    "        s1,s2=[],[]\n",
    "        while l1:\n",
    "            s1.append(l1.val)\n",
    "            l1 = l1.next\n",
    "        while l2:\n",
    "            s2.append(l2.val)\n",
    "            l2 = l2.next\n",
    "            \n",
    "        d, carry = None, 0\n",
    "        while s1 or s2 or carry:\n",
    "            num1=num2=0\n",
    "            \n",
    "            if s1: num1 = s1.pop()\n",
    "            if s2: num2 = s2.pop()\n",
    "            \n",
    "            carry, digit = divmod(num1+num2+carry,10)\n",
    "            prev = ListNode(digit,d)\n",
    "            d = prev\n",
    "            \n",
    "        return d"
   ]
  }
 ],
 "metadata": {
  "kernelspec": {
   "display_name": "Python 3",
   "language": "python",
   "name": "python3"
  },
  "language_info": {
   "codemirror_mode": {
    "name": "ipython",
    "version": 3
   },
   "file_extension": ".py",
   "mimetype": "text/x-python",
   "name": "python",
   "nbconvert_exporter": "python",
   "pygments_lexer": "ipython3",
   "version": "3.8.3"
  }
 },
 "nbformat": 4,
 "nbformat_minor": 5
}
