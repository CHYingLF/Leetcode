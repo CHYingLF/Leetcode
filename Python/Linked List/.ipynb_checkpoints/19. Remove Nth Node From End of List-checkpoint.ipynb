{
 "cells": [
  {
   "cell_type": "code",
   "execution_count": null,
   "id": "sized-corrections",
   "metadata": {},
   "outputs": [],
   "source": []
  },
  {
   "cell_type": "markdown",
   "id": "legal-depth",
   "metadata": {},
   "source": [
    "# Method 1"
   ]
  },
  {
   "cell_type": "markdown",
   "id": "technological-religion",
   "metadata": {},
   "source": [
    "One pass\n",
    "\n",
    "T=O(n)\n",
    "S=O(1)"
   ]
  },
  {
   "cell_type": "code",
   "execution_count": null,
   "id": "fallen-disposition",
   "metadata": {},
   "outputs": [],
   "source": [
    "# Definition for singly-linked list.\n",
    "# class ListNode:\n",
    "#     def __init__(self, val=0, next=None):\n",
    "#         self.val = val\n",
    "#         self.next = next\n",
    "class Solution:\n",
    "    def removeNthFromEnd(self, head: Optional[ListNode], n: int) -> Optional[ListNode]:\n",
    "        Dummy = ListNode(0)\n",
    "        Dummy.next = head\n",
    "        node1 = node2 = Dummy\n",
    "        for i in range(n): node2 = node2.next\n",
    "            \n",
    "        while node2 and node2.next:\n",
    "            node1, node2 = node1.next, node2.next\n",
    "            \n",
    "        node1.next = node1.next.next\n",
    "            \n",
    "        return Dummy.next\n",
    "            \n",
    "            \n",
    "            "
   ]
  }
 ],
 "metadata": {
  "kernelspec": {
   "display_name": "Python 3",
   "language": "python",
   "name": "python3"
  },
  "language_info": {
   "codemirror_mode": {
    "name": "ipython",
    "version": 3
   },
   "file_extension": ".py",
   "mimetype": "text/x-python",
   "name": "python",
   "nbconvert_exporter": "python",
   "pygments_lexer": "ipython3",
   "version": "3.8.3"
  }
 },
 "nbformat": 4,
 "nbformat_minor": 5
}
