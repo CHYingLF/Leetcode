{
 "cells": [
  {
   "cell_type": "code",
   "execution_count": 1,
   "id": "front-courtesy",
   "metadata": {},
   "outputs": [
    {
     "name": "stdout",
     "output_type": "stream",
     "text": [
      "4 3\n"
     ]
    }
   ],
   "source": [
    "a=3\n",
    "b=4\n",
    "\n",
    "a,b=b,a\n",
    "\n",
    "print(a,b)"
   ]
  },
  {
   "cell_type": "markdown",
   "id": "forced-clinic",
   "metadata": {},
   "source": [
    "# Method 1\n",
    "\n",
    "Use cur to follow head, prev to follow cur"
   ]
  },
  {
   "cell_type": "code",
   "execution_count": null,
   "id": "brave-silence",
   "metadata": {},
   "outputs": [],
   "source": [
    "class Solution:\n",
    "    def reverseList(self, head: Optional[ListNode]) -> Optional[ListNode]:\n",
    "        prev=None\n",
    "        \n",
    "        while head:\n",
    "            cur=head\n",
    "            head=head.next\n",
    "            cur.next=prev\n",
    "            prev=cur\n",
    "            \n",
    "        return prev"
   ]
  },
  {
   "cell_type": "markdown",
   "id": "backed-england",
   "metadata": {},
   "source": [
    "# Method 2\n",
    "\n",
    "Use prev to reverse"
   ]
  },
  {
   "cell_type": "code",
   "execution_count": null,
   "id": "worse-tobacco",
   "metadata": {},
   "outputs": [],
   "source": [
    "class Solution:\n",
    "    def reverseList(self, head: Optional[ListNode]) -> Optional[ListNode]:\n",
    "        prev=None\n",
    "        \n",
    "        while head:\n",
    "            head.next,prev,head = prev,head,head.next\n",
    "            \n",
    "        return prev"
   ]
  },
  {
   "cell_type": "markdown",
   "id": "fuzzy-election",
   "metadata": {},
   "source": [
    "# Method 3*"
   ]
  },
  {
   "cell_type": "markdown",
   "id": "speaking-physics",
   "metadata": {},
   "source": [
    "recursive"
   ]
  },
  {
   "cell_type": "code",
   "execution_count": null,
   "id": "suffering-subdivision",
   "metadata": {},
   "outputs": [],
   "source": [
    "class Solution:\n",
    "    def reverseList(self, head: Optional[ListNode],prev=None) -> Optional[ListNode]:\n",
    "        if not head: return prev\n",
    "        \n",
    "        Next=head.next\n",
    "        head.next=prev        \n",
    "        \n",
    "        return self.reverseList(Next,head)"
   ]
  }
 ],
 "metadata": {
  "kernelspec": {
   "display_name": "Python 3",
   "language": "python",
   "name": "python3"
  },
  "language_info": {
   "codemirror_mode": {
    "name": "ipython",
    "version": 3
   },
   "file_extension": ".py",
   "mimetype": "text/x-python",
   "name": "python",
   "nbconvert_exporter": "python",
   "pygments_lexer": "ipython3",
   "version": "3.8.3"
  }
 },
 "nbformat": 4,
 "nbformat_minor": 5
}
