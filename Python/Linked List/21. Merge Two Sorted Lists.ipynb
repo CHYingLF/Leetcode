{
 "cells": [
  {
   "cell_type": "code",
   "execution_count": null,
   "id": "northern-luther",
   "metadata": {},
   "outputs": [],
   "source": []
  },
  {
   "cell_type": "markdown",
   "id": "subsequent-documentary",
   "metadata": {},
   "source": [
    "# Method 1\n",
    "\n",
    "Switch\n",
    "\n",
    "T=O(m)"
   ]
  },
  {
   "cell_type": "code",
   "execution_count": null,
   "id": "welsh-dancing",
   "metadata": {},
   "outputs": [],
   "source": [
    "class Solution:\n",
    "    def mergeTwoLists(self, list1: Optional[ListNode], list2: Optional[ListNode]) -> Optional[ListNode]:\n",
    "        head1,head2=list1,list2\n",
    "        Dummy=ListNode(0)\n",
    "        Next=Dummy\n",
    "        while head1 and head2:\n",
    "            if head1.val<head2.val:\n",
    "                Next.next=head1\n",
    "                head1=head1.next\n",
    "            else:\n",
    "                Next.next=head2\n",
    "                head2=head2.next\n",
    "                \n",
    "            Next=Next.next\n",
    "            \n",
    "        Next.next=head1 or head2\n",
    "        \n",
    "        return Dummy.next"
   ]
  },
  {
   "cell_type": "markdown",
   "id": "eligible-wealth",
   "metadata": {},
   "source": [
    "# Method 2"
   ]
  },
  {
   "cell_type": "markdown",
   "id": "broken-validity",
   "metadata": {},
   "source": [
    "recursive\n",
    "\n",
    "T=O(m)"
   ]
  },
  {
   "cell_type": "code",
   "execution_count": null,
   "id": "senior-kennedy",
   "metadata": {},
   "outputs": [],
   "source": [
    "class Solution:\n",
    "    def mergeTwoLists(self, list1: Optional[ListNode], list2: Optional[ListNode]) -> Optional[ListNode]:\n",
    "        if not list1: return list2\n",
    "        if not list2: return list1\n",
    "        \n",
    "        if list1.val<=list2.val:\n",
    "            list1.next=self.mergeTwoLists(list1.next,list2)\n",
    "            return list1\n",
    "        if list2.val<list1.val:\n",
    "            list2.next=self.mergeTwoLists(list1,list2.next)\n",
    "            return list2"
   ]
  }
 ],
 "metadata": {
  "kernelspec": {
   "display_name": "Python 3",
   "language": "python",
   "name": "python3"
  },
  "language_info": {
   "codemirror_mode": {
    "name": "ipython",
    "version": 3
   },
   "file_extension": ".py",
   "mimetype": "text/x-python",
   "name": "python",
   "nbconvert_exporter": "python",
   "pygments_lexer": "ipython3",
   "version": "3.8.3"
  }
 },
 "nbformat": 4,
 "nbformat_minor": 5
}
