{
 "cells": [
  {
   "cell_type": "code",
   "execution_count": 2,
   "id": "defensive-target",
   "metadata": {},
   "outputs": [
    {
     "data": {
      "text/plain": [
       "2"
      ]
     },
     "execution_count": 2,
     "metadata": {},
     "output_type": "execute_result"
    }
   ],
   "source": [
    "def test(a):\n",
    "    return 2\n",
    "\n",
    "test(1)"
   ]
  },
  {
   "cell_type": "markdown",
   "id": "outstanding-destination",
   "metadata": {},
   "source": [
    "# Method 1*"
   ]
  },
  {
   "cell_type": "code",
   "execution_count": null,
   "id": "involved-contrary",
   "metadata": {},
   "outputs": [],
   "source": [
    "# Definition for a binary tree node.\n",
    "# class TreeNode:\n",
    "#     def __init__(self, val=0, left=None, right=None):\n",
    "#         self.val = val\n",
    "#         self.left = left\n",
    "#         self.right = right\n",
    "class Solution:\n",
    "    def invertTree(self, root: Optional[TreeNode]) -> Optional[TreeNode]:\n",
    "        \n",
    "        def reverse(root):\n",
    "            if not root : return\n",
    "            root.left, root.right = root.right, root.left\n",
    "            \n",
    "            reverse(root.left)\n",
    "            reverse(root.right)\n",
    "        \n",
    "        reverse(root)\n",
    "        return root"
   ]
  },
  {
   "cell_type": "markdown",
   "id": "green-collector",
   "metadata": {},
   "source": [
    "Or, consider return value"
   ]
  },
  {
   "cell_type": "code",
   "execution_count": null,
   "id": "unable-swiss",
   "metadata": {},
   "outputs": [],
   "source": [
    "# Definition for a binary tree node.\n",
    "# class TreeNode:\n",
    "#     def __init__(self, val=0, left=None, right=None):\n",
    "#         self.val = val\n",
    "#         self.left = left\n",
    "#         self.right = right\n",
    "class Solution:\n",
    "    def invertTree(self, root: TreeNode) -> TreeNode:\n",
    "        if not root:\n",
    "            return None\n",
    "        if not root.left and not root.right:\n",
    "            return root\n",
    "        root.left,root.right = self.invertTree(root.right),self.invertTree(root.left)\n",
    "        return root"
   ]
  },
  {
   "cell_type": "markdown",
   "id": "military-detection",
   "metadata": {},
   "source": [
    "or reverse first then recursive"
   ]
  },
  {
   "cell_type": "code",
   "execution_count": null,
   "id": "reflected-audio",
   "metadata": {},
   "outputs": [],
   "source": [
    "# Definition for a binary tree node.\n",
    "# class TreeNode:\n",
    "#     def __init__(self, val=0, left=None, right=None):\n",
    "#         self.val = val\n",
    "#         self.left = left\n",
    "#         self.right = right\n",
    "class Solution:\n",
    "    def invertTree(self, root: TreeNode) -> TreeNode:\n",
    "        if not root: return None\n",
    "        \n",
    "        root.left, root.right = root.right, root.left\n",
    "        self.invertTree(root.left)\n",
    "        self.invertTree(root.right)\n",
    "        \n",
    "        return root"
   ]
  },
  {
   "cell_type": "markdown",
   "id": "second-syndicate",
   "metadata": {},
   "source": [
    "or return directly"
   ]
  },
  {
   "cell_type": "code",
   "execution_count": null,
   "id": "isolated-maldives",
   "metadata": {},
   "outputs": [],
   "source": [
    "# Definition for a binary tree node.\n",
    "# class TreeNode:\n",
    "#     def __init__(self, val=0, left=None, right=None):\n",
    "#         self.val = val\n",
    "#         self.left = left\n",
    "#         self.right = right\n",
    "class Solution:\n",
    "    def invertTree(self, root: TreeNode) -> TreeNode:\n",
    "        if not root: return root\n",
    "        \n",
    "        root.left, root.right = self.invertTree(root.right), self.invertTree(root.left)\n",
    "        \n",
    "        return root\n",
    "        "
   ]
  }
 ],
 "metadata": {
  "kernelspec": {
   "display_name": "Python 3",
   "language": "python",
   "name": "python3"
  },
  "language_info": {
   "codemirror_mode": {
    "name": "ipython",
    "version": 3
   },
   "file_extension": ".py",
   "mimetype": "text/x-python",
   "name": "python",
   "nbconvert_exporter": "python",
   "pygments_lexer": "ipython3",
   "version": "3.8.3"
  }
 },
 "nbformat": 4,
 "nbformat_minor": 5
}
