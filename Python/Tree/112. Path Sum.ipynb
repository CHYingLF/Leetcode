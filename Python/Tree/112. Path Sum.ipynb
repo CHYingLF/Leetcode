{
 "cells": [
  {
   "cell_type": "code",
   "execution_count": null,
   "id": "micro-spencer",
   "metadata": {},
   "outputs": [],
   "source": []
  },
  {
   "cell_type": "markdown",
   "id": "distinct-audio",
   "metadata": {},
   "source": [
    "# Method 1"
   ]
  },
  {
   "cell_type": "markdown",
   "id": "driving-resolution",
   "metadata": {},
   "source": [
    "1. Use targetSum-root.val to keep track of the sum along the path\n",
    "\n",
    "2. leaf node as the final case\n",
    "\n",
    "3. recursive on left and right node\n",
    "\n",
    "T= O(logn)\n",
    "\n",
    "S= O(1)"
   ]
  },
  {
   "cell_type": "code",
   "execution_count": null,
   "id": "familiar-thousand",
   "metadata": {},
   "outputs": [],
   "source": [
    "# Definition for a binary tree node.\n",
    "# class TreeNode:\n",
    "#     def __init__(self, val=0, left=None, right=None):\n",
    "#         self.val = val\n",
    "#         self.left = left\n",
    "#         self.right = right\n",
    "class Solution:\n",
    "    def hasPathSum(self, root: Optional[TreeNode], targetSum: int) -> bool:\n",
    "        if not root : return False\n",
    "        if not root.left and not root.right:\n",
    "            return targetSum - root.val == 0\n",
    "        \n",
    "        if self.hasPathSum(root.left, targetSum-root.val): return True\n",
    "        if self.hasPathSum(root.right, targetSum-root.val): return True\n",
    "        \n",
    "        return False\n",
    "            \n",
    "            \n",
    "                "
   ]
  },
  {
   "cell_type": "markdown",
   "id": "august-scenario",
   "metadata": {},
   "source": [
    "# Method 2*"
   ]
  },
  {
   "cell_type": "markdown",
   "id": "silent-softball",
   "metadata": {},
   "source": [
    "Iterative"
   ]
  },
  {
   "cell_type": "code",
   "execution_count": null,
   "id": "familiar-hughes",
   "metadata": {},
   "outputs": [],
   "source": [
    "# Definition for a binary tree node.\n",
    "# class TreeNode:\n",
    "#     def __init__(self, val=0, left=None, right=None):\n",
    "#         self.val = val\n",
    "#         self.left = left\n",
    "#         self.right = right\n",
    "class Solution:\n",
    "    def hasPathSum(self, root: Optional[TreeNode], targetSum: int) -> bool:\n",
    "        if not root: return False\n",
    "        stack = [(root, targetSum-root.val)]\n",
    "        \n",
    "        while stack:\n",
    "            node, val = stack.pop()\n",
    "            \n",
    "            if not (node.left or node.right) and val==0:\n",
    "                return True\n",
    "            \n",
    "            if node.left:\n",
    "                stack.append((node.left, val-node.left.val))\n",
    "            if node.right:\n",
    "                stack.append((node.right, val-node.right.val))\n",
    "                \n",
    "        return False\n",
    "                "
   ]
  }
 ],
 "metadata": {
  "kernelspec": {
   "display_name": "Python 3",
   "language": "python",
   "name": "python3"
  },
  "language_info": {
   "codemirror_mode": {
    "name": "ipython",
    "version": 3
   },
   "file_extension": ".py",
   "mimetype": "text/x-python",
   "name": "python",
   "nbconvert_exporter": "python",
   "pygments_lexer": "ipython3",
   "version": "3.8.3"
  }
 },
 "nbformat": 4,
 "nbformat_minor": 5
}
