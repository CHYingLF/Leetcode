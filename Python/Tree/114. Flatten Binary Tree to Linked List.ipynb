{
 "cells": [
  {
   "cell_type": "code",
   "execution_count": 2,
   "id": "cleared-secondary",
   "metadata": {},
   "outputs": [
    {
     "data": {
      "text/plain": [
       "[]"
      ]
     },
     "execution_count": 2,
     "metadata": {},
     "output_type": "execute_result"
    }
   ],
   "source": [
    "a=[1]\n",
    "a[1:]"
   ]
  },
  {
   "cell_type": "markdown",
   "id": "elegant-jefferson",
   "metadata": {},
   "source": [
    "# Method 1"
   ]
  },
  {
   "cell_type": "code",
   "execution_count": null,
   "id": "indoor-october",
   "metadata": {},
   "outputs": [],
   "source": [
    "# Definition for a binary tree node.\n",
    "# class TreeNode:\n",
    "#     def __init__(self, val=0, left=None, right=None):\n",
    "#         self.val = val\n",
    "#         self.left = left\n",
    "#         self.right = right\n",
    "class Solution:\n",
    "    def flatten(self, root: Optional[TreeNode]) -> None:\n",
    "        \"\"\"\n",
    "        Do not return anything, modify root in-place instead.\n",
    "        \"\"\"\n",
    "        self.val = []\n",
    "        def preorder(node):\n",
    "            if not node : return\n",
    "            self.val.append(node.val)\n",
    "            preorder(node.left)\n",
    "            preorder(node.right)\n",
    "            \n",
    "        node = root\n",
    "        preorder(node)\n",
    "        node = root\n",
    "        for val in self.val[1:]:\n",
    "            node.left, node.right = None, TreeNode(val)\n",
    "            node = node.right\n",
    "        \n",
    "        "
   ]
  },
  {
   "cell_type": "markdown",
   "id": "directed-appraisal",
   "metadata": {},
   "source": [
    "# Method 2*\n",
    "\n",
    "1. mirror-postorder traversal\n",
    "\n",
    "2. \\__init__(self):\n",
    "\n",
    "Basically, the traversing order after flattening is pre order traversal in (root, left, right), like\n",
    "\n",
    "1\n",
    " \\\n",
    "  2\n",
    "   \\\n",
    "    3\n",
    "     \\\n",
    "      4\n",
    "       \\\n",
    "        5\n",
    "         \\\n",
    "          6\n",
    "from the original tree:\n",
    "\n",
    "    1\n",
    "   / \\\n",
    "  2   5\n",
    " / \\   \\\n",
    "3   4   6\n",
    "If we traverse the flattened tree in the reverse way, we would notice that [6->5->4->3->2->1] is in (right, left, root) order of the original tree. So the reverse order after flattening is post order traversal in (right, left, root) order like [6->5->4->3->2->1].\n",
    "\n",
    "The idea is to traverse the original tree in this order by\n",
    "\n",
    "public void flatten(TreeNode root) {\n",
    "    if (root == null)\n",
    "        return;\n",
    "    flatten(root.right);\n",
    "    flatten(root.left);\n",
    "}\n",
    "and then set each node's right pointer as the previous one in [6->5->4->3->2->1], as such the right pointer behaves similar to a link in the flattened tree(though technically, it's still a right child reference from the tree data structure's perspective) and set the left child as null before the end of one recursion by\n",
    "\n",
    "private TreeNode prev = null;\n",
    "\n",
    "public void flatten(TreeNode root) {\n",
    "    if (root == null)\n",
    "        return;\n",
    "    flatten(root.right);\n",
    "    flatten(root.left);\n",
    "    root.right = prev;\n",
    "    root.left = null;\n",
    "    prev = root;\n",
    "}"
   ]
  },
  {
   "cell_type": "code",
   "execution_count": null,
   "id": "behind-bandwidth",
   "metadata": {},
   "outputs": [],
   "source": [
    "# Definition for a binary tree node.\n",
    "# class TreeNode:\n",
    "#     def __init__(self, val=0, left=None, right=None):\n",
    "#         self.val = val\n",
    "#         self.left = left\n",
    "#         self.right = right\n",
    "class Solution:\n",
    "    def __init__(self):\n",
    "        self.prev = None\n",
    "    \n",
    "    def flatten(self, root):\n",
    "        if not root: return None\n",
    "        \n",
    "        self.flatten(root.right)\n",
    "        self.flatten(root.left)\n",
    "        \n",
    "        root.right = self.prev\n",
    "        root.left = None\n",
    "        self.prev = root"
   ]
  }
 ],
 "metadata": {
  "kernelspec": {
   "display_name": "Python 3",
   "language": "python",
   "name": "python3"
  },
  "language_info": {
   "codemirror_mode": {
    "name": "ipython",
    "version": 3
   },
   "file_extension": ".py",
   "mimetype": "text/x-python",
   "name": "python",
   "nbconvert_exporter": "python",
   "pygments_lexer": "ipython3",
   "version": "3.8.3"
  }
 },
 "nbformat": 4,
 "nbformat_minor": 5
}
