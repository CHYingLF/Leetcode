{
 "cells": [
  {
   "cell_type": "code",
   "execution_count": 15,
   "id": "contrary-ghana",
   "metadata": {},
   "outputs": [
    {
     "name": "stdout",
     "output_type": "stream",
     "text": [
      "0 1 1 1 1 1 0 0\n"
     ]
    },
    {
     "data": {
      "text/plain": [
       "[1, 2, 3, 4, 5]"
      ]
     },
     "execution_count": 15,
     "metadata": {},
     "output_type": "execute_result"
    }
   ],
   "source": [
    "print(1^1,0^1,1&1,3&1,5&1,7&1,8&1,10&1)\n",
    "a=[1,2,5,4,3]\n",
    "sorted(a)"
   ]
  },
  {
   "cell_type": "markdown",
   "id": "infrared-empire",
   "metadata": {},
   "source": [
    "# Method 1"
   ]
  },
  {
   "cell_type": "code",
   "execution_count": null,
   "id": "integrated-absorption",
   "metadata": {},
   "outputs": [],
   "source": [
    "# Definition for a binary tree node.\n",
    "# class TreeNode:\n",
    "#     def __init__(self, val=0, left=None, right=None):\n",
    "#         self.val = val\n",
    "#         self.left = left\n",
    "#         self.right = right\n",
    "class Solution:\n",
    "    def zigzagLevelOrder(self, root: Optional[TreeNode]) -> List[List[int]]:\n",
    "        if not root : return None\n",
    "        dq, direction, res = deque([root]), 1, []\n",
    "        \n",
    "        while dq:\n",
    "\n",
    "            for i in range(len(dq)):\n",
    "                node = dq.popleft()\n",
    "                if node.left: dq.append(node.left)\n",
    "                if node.right: dq.append(node.right)\n",
    "                \n",
    "            res = res + [temp[::direction]]\n",
    "            direction*=-1\n",
    "            \n",
    "        return res\n",
    "            \n",
    "                "
   ]
  }
 ],
 "metadata": {
  "kernelspec": {
   "display_name": "Python 3",
   "language": "python",
   "name": "python3"
  },
  "language_info": {
   "codemirror_mode": {
    "name": "ipython",
    "version": 3
   },
   "file_extension": ".py",
   "mimetype": "text/x-python",
   "name": "python",
   "nbconvert_exporter": "python",
   "pygments_lexer": "ipython3",
   "version": "3.8.3"
  }
 },
 "nbformat": 4,
 "nbformat_minor": 5
}
