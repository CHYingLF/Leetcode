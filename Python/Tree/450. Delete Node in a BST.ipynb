{
 "cells": [
  {
   "cell_type": "code",
   "execution_count": null,
   "id": "outstanding-delight",
   "metadata": {},
   "outputs": [],
   "source": []
  },
  {
   "cell_type": "markdown",
   "id": "instrumental-payroll",
   "metadata": {},
   "source": [
    "# Method 1*\n",
    "\n",
    "Space complexity is O(h)\n",
    "\n",
    "Time complexity is O(h)\n",
    "\n",
    "1. if key value is less than root value, find the node in the left subtree\n",
    "\n",
    "2. if key value is greater than root value, find the node in right subtree\n",
    "\n",
    "3. if we found the node (root.value == key), start to delete it\\\n",
    "    1) if it doesn't have right children, we delete the node then new root would be root.left\\\n",
    "    2) if it has no left children, we delete the node then new root would be root.right\\\n",
    "    3) if the node have both left and right children,  we replace its value with the minmimum value in the right subtree and then delete that minimum node in the right subtree"
   ]
  },
  {
   "cell_type": "code",
   "execution_count": null,
   "id": "perceived-south",
   "metadata": {},
   "outputs": [],
   "source": [
    "# Definition for a binary tree node.\n",
    "# class TreeNode:\n",
    "#     def __init__(self, val=0, left=None, right=None):\n",
    "#         self.val = val\n",
    "#         self.left = left\n",
    "#         self.right = right\n",
    "class Solution:\n",
    "    def deleteNode(self, root: Optional[TreeNode], key: int) -> Optional[TreeNode]:\n",
    "        if not root: return root\n",
    "        \n",
    "        if key<root.val: \n",
    "            root.left = self.deleteNode(root.left, key)\n",
    "        elif key>root.val:\n",
    "            root.right = self.deleteNode(root.right, key)\n",
    "        else:\n",
    "            if not root.left:\n",
    "                return root.right\n",
    "            if not root.right:\n",
    "                return root.left\n",
    "            \n",
    "            mini = root.right\n",
    "            \n",
    "            while mini.left: mini = mini.left\n",
    "            root.val = mini.val\n",
    "            root.right = self.deleteNode(root.right, mini.val)\n",
    "            \n",
    "        return root\n",
    "        \n",
    "        "
   ]
  }
 ],
 "metadata": {
  "kernelspec": {
   "display_name": "Python 3",
   "language": "python",
   "name": "python3"
  },
  "language_info": {
   "codemirror_mode": {
    "name": "ipython",
    "version": 3
   },
   "file_extension": ".py",
   "mimetype": "text/x-python",
   "name": "python",
   "nbconvert_exporter": "python",
   "pygments_lexer": "ipython3",
   "version": "3.8.3"
  }
 },
 "nbformat": 4,
 "nbformat_minor": 5
}
