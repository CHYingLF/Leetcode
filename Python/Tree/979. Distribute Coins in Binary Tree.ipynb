{
 "cells": [
  {
   "cell_type": "code",
   "execution_count": 1,
   "id": "educated-aspect",
   "metadata": {},
   "outputs": [
    {
     "name": "stdout",
     "output_type": "stream",
     "text": [
      "0 [1, 2, 3, 4]\n",
      "1 [1, 2, 3]\n",
      "2 [1, 2]\n",
      "3 [1]\n",
      "4 []\n"
     ]
    }
   ],
   "source": [
    "a=[1,2,3,4,5]\n",
    "\n",
    "for i in range(len(a)):\n",
    "    a.pop()\n",
    "    print(i,a)"
   ]
  },
  {
   "cell_type": "markdown",
   "id": "specified-shelter",
   "metadata": {},
   "source": [
    "# Method 1*\n",
    "\n",
    "1. postorder\n",
    "\n",
    "2. return coin move needed to parent node\n",
    "\n",
    "3. self.res count movements needed both from left and right for each node\n",
    "\n",
    "4. passing back the result to the parent node based on the number of Moves from each Node: currNodeValue + left + right - 1"
   ]
  },
  {
   "cell_type": "code",
   "execution_count": null,
   "id": "knowing-pressing",
   "metadata": {},
   "outputs": [],
   "source": [
    "# Definition for a binary tree node.\n",
    "# class TreeNode:\n",
    "#     def __init__(self, val=0, left=None, right=None):\n",
    "#         self.val = val\n",
    "#         self.left = left\n",
    "#         self.right = right\n",
    "class Solution:\n",
    "    def distributeCoins(self, root: Optional[TreeNode]) -> int:\n",
    "        self.res = 0\n",
    "        def postorder(root):\n",
    "            if not root: return 0\n",
    "            left = postorder(root.left)\n",
    "            right = postorder(root.right)\n",
    "            \n",
    "            self.res += abs(left)+abs(right)\n",
    "            \n",
    "            return root.val+left+right-1\n",
    "        \n",
    "        postorder(root)\n",
    "        return self.res\n",
    "            \n",
    "        "
   ]
  }
 ],
 "metadata": {
  "kernelspec": {
   "display_name": "Python 3",
   "language": "python",
   "name": "python3"
  },
  "language_info": {
   "codemirror_mode": {
    "name": "ipython",
    "version": 3
   },
   "file_extension": ".py",
   "mimetype": "text/x-python",
   "name": "python",
   "nbconvert_exporter": "python",
   "pygments_lexer": "ipython3",
   "version": "3.8.3"
  }
 },
 "nbformat": 4,
 "nbformat_minor": 5
}
