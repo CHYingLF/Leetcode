{
 "cells": [
  {
   "cell_type": "code",
   "execution_count": 13,
   "id": "signal-nothing",
   "metadata": {},
   "outputs": [
    {
     "name": "stdout",
     "output_type": "stream",
     "text": [
      "False\n",
      "True\n",
      "False False\n",
      "2\n"
     ]
    }
   ],
   "source": [
    "a=1\n",
    "b=2\n",
    "print((a==1 & b)==2) # = print(a==1 & b==2)\n",
    "print((a==1) & (b==2))\n",
    "print(a & 1 == b,a==1 & b)\n",
    "print(1+True)"
   ]
  },
  {
   "cell_type": "markdown",
   "id": "grave-debate",
   "metadata": {},
   "source": [
    "# Method 1\n",
    "\n",
    "Iterative, inorder traversal"
   ]
  },
  {
   "cell_type": "code",
   "execution_count": null,
   "id": "weird-spice",
   "metadata": {},
   "outputs": [],
   "source": [
    "# Definition for a binary tree node.\n",
    "# class TreeNode:\n",
    "#     def __init__(self, val=0, left=None, right=None):\n",
    "#         self.val = val\n",
    "#         self.left = left\n",
    "#         self.right = right\n",
    "class Solution:\n",
    "    def kthSmallest(self, root: Optional[TreeNode], k: int) -> int:\n",
    "        stack = []\n",
    "        \n",
    "        while root or stack:\n",
    "            while root:\n",
    "                stack.append(root)\n",
    "                root = root.left\n",
    "                \n",
    "            root, k = stack.pop(), k-1\n",
    "            if k==0: return root.val\n",
    "            root = root.right\n",
    "            "
   ]
  },
  {
   "cell_type": "markdown",
   "id": "honey-miracle",
   "metadata": {},
   "source": [
    "# Method 2\n",
    "\n",
    "recursive"
   ]
  },
  {
   "cell_type": "code",
   "execution_count": null,
   "id": "finnish-devil",
   "metadata": {},
   "outputs": [],
   "source": [
    "# Definition for a binary tree node.\n",
    "# class TreeNode:\n",
    "#     def __init__(self, val=0, left=None, right=None):\n",
    "#         self.val = val\n",
    "#         self.left = left\n",
    "#         self.right = right\n",
    "class Solution:\n",
    "    def kthSmallest(self, root: Optional[TreeNode], k: int) -> int:\n",
    "        self.k, self.res = k, 0\n",
    "        def inorder(node):\n",
    "            if not node : return False\n",
    "            if inorder(node.left) : return True\n",
    "            self.k-=1\n",
    "            self.res = node.val\n",
    "            if self.k == 0: return True\n",
    "            if inorder(node.right) : return True\n",
    "        \n",
    "        inorder(root)\n",
    "        return self.res"
   ]
  }
 ],
 "metadata": {
  "kernelspec": {
   "display_name": "Python 3",
   "language": "python",
   "name": "python3"
  },
  "language_info": {
   "codemirror_mode": {
    "name": "ipython",
    "version": 3
   },
   "file_extension": ".py",
   "mimetype": "text/x-python",
   "name": "python",
   "nbconvert_exporter": "python",
   "pygments_lexer": "ipython3",
   "version": "3.8.3"
  }
 },
 "nbformat": 4,
 "nbformat_minor": 5
}
