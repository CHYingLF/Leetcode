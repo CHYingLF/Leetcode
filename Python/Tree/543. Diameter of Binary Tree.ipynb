{
 "cells": [
  {
   "cell_type": "code",
   "execution_count": null,
   "id": "incident-albania",
   "metadata": {},
   "outputs": [],
   "source": []
  },
  {
   "cell_type": "markdown",
   "id": "secondary-oasis",
   "metadata": {},
   "source": [
    "# Method 1*"
   ]
  },
  {
   "cell_type": "markdown",
   "id": "animal-grace",
   "metadata": {},
   "source": [
    "Recursively Calculate the diameter of each node\n",
    "\n",
    "1. the diameter of each node = left node max length + right node max length\n",
    "\n",
    "T=O(n), S=O(1)"
   ]
  },
  {
   "cell_type": "code",
   "execution_count": null,
   "id": "rough-hazard",
   "metadata": {},
   "outputs": [],
   "source": [
    "# Definition for a binary tree node.\n",
    "# class TreeNode:\n",
    "#     def __init__(self, val=0, left=None, right=None):\n",
    "#         self.val = val\n",
    "#         self.left = left\n",
    "#         self.right = right\n",
    "class Solution:\n",
    "    def diameterOfBinaryTree(self, root: Optional[TreeNode]) -> int:\n",
    "        self.ans = 0\n",
    "        \n",
    "        def depth(p):\n",
    "            if not p: return 0\n",
    "            left, right = depth(p.left), depth(p.right)\n",
    "            \n",
    "            self.ans = max(self.ans, left+right)\n",
    "            return 1+max(left, right)\n",
    "        \n",
    "        depth(root)\n",
    "        return self.ans"
   ]
  }
 ],
 "metadata": {
  "kernelspec": {
   "display_name": "Python 3",
   "language": "python",
   "name": "python3"
  },
  "language_info": {
   "codemirror_mode": {
    "name": "ipython",
    "version": 3
   },
   "file_extension": ".py",
   "mimetype": "text/x-python",
   "name": "python",
   "nbconvert_exporter": "python",
   "pygments_lexer": "ipython3",
   "version": "3.8.3"
  }
 },
 "nbformat": 4,
 "nbformat_minor": 5
}
