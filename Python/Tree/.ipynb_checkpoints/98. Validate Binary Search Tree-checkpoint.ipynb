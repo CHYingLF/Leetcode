{
 "cells": [
  {
   "cell_type": "code",
   "execution_count": null,
   "id": "precise-blues",
   "metadata": {},
   "outputs": [],
   "source": []
  },
  {
   "cell_type": "markdown",
   "id": "several-fiber",
   "metadata": {},
   "source": [
    "# Method 1\n",
    "\n",
    "Recursive\n",
    "\n",
    "Pass two values, lessthan and greatthan, recursively compare all the nodes\n",
    "\n",
    "T=O(n)\n",
    "S=O(n)"
   ]
  },
  {
   "cell_type": "code",
   "execution_count": null,
   "id": "limiting-jason",
   "metadata": {},
   "outputs": [],
   "source": [
    "# Definition for a binary tree node.\n",
    "# class TreeNode:\n",
    "#     def __init__(self, val=0, left=None, right=None):\n",
    "#         self.val = val\n",
    "#         self.left = left\n",
    "#         self.right = right\n",
    "class Solution:\n",
    "    def isValidBST(self, root: Optional[TreeNode]) -> bool:\n",
    "        \n",
    "        def check(node, lt, gt):\n",
    "            if not node: return True\n",
    "            if node.val>=lt or node.val<=gt: return False\n",
    "            if not check(node.left, node.val,gt): return False\n",
    "            if not check(node.right, lt,node.val): return False\n",
    "            \n",
    "            return True\n",
    "            \n",
    "            \n",
    "        if not check(root, float(\"Inf\"),-float(\"Inf\")):\n",
    "            return False\n",
    "        \n",
    "        return True"
   ]
  },
  {
   "cell_type": "markdown",
   "id": "collect-heather",
   "metadata": {},
   "source": [
    "# Method 2\n",
    "\n",
    "Inorder traversal"
   ]
  },
  {
   "cell_type": "code",
   "execution_count": null,
   "id": "smooth-massachusetts",
   "metadata": {},
   "outputs": [],
   "source": [
    "# Definition for a binary tree node.\n",
    "# class TreeNode:\n",
    "#     def __init__(self, val=0, left=None, right=None):\n",
    "#         self.val = val\n",
    "#         self.left = left\n",
    "#         self.right = right\n",
    "class Solution:\n",
    "    def isValidBST(self, root: Optional[TreeNode]) -> bool:\n",
    "        self.output = []\n",
    "        \n",
    "        def inorder(node):\n",
    "            if not node : return\n",
    "            inorder(node.left)\n",
    "            self.output.append(node.val)\n",
    "            inorder(node.right)\n",
    "            \n",
    "        inorder(root)\n",
    "        \n",
    "        for i in range(1,len(self.output)):\n",
    "            if self.output[i-1] >= self.output[i]:\n",
    "                return False\n",
    "            \n",
    "        return True"
   ]
  },
  {
   "cell_type": "markdown",
   "id": "acute-export",
   "metadata": {},
   "source": [
    "# Method 3\n",
    "\n",
    "Iterative inorder traversal"
   ]
  },
  {
   "cell_type": "code",
   "execution_count": null,
   "id": "suited-debut",
   "metadata": {},
   "outputs": [],
   "source": [
    "# Definition for a binary tree node.\n",
    "# class TreeNode:\n",
    "#     def __init__(self, val=0, left=None, right=None):\n",
    "#         self.val = val\n",
    "#         self.left = left\n",
    "#         self.right = right\n",
    "class Solution:\n",
    "    def isValidBST(self, root: Optional[TreeNode]) -> bool:\n",
    "        stack, pre = [], None\n",
    "        \n",
    "        while(root or stack):\n",
    "            while root:\n",
    "                stack.append(root)\n",
    "                root = root.left\n",
    "                \n",
    "            root = stack.pop()\n",
    "            \n",
    "            if(pre and root.val <= pre.val): return False\n",
    "            \n",
    "            pre = root\n",
    "            root = root.right\n",
    "            \n",
    "        return True"
   ]
  }
 ],
 "metadata": {
  "kernelspec": {
   "display_name": "Python 3",
   "language": "python",
   "name": "python3"
  },
  "language_info": {
   "codemirror_mode": {
    "name": "ipython",
    "version": 3
   },
   "file_extension": ".py",
   "mimetype": "text/x-python",
   "name": "python",
   "nbconvert_exporter": "python",
   "pygments_lexer": "ipython3",
   "version": "3.8.3"
  }
 },
 "nbformat": 4,
 "nbformat_minor": 5
}
