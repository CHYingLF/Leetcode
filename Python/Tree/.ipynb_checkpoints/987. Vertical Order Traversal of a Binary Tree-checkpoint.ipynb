{
 "cells": [
  {
   "cell_type": "code",
   "execution_count": null,
   "id": "elder-bosnia",
   "metadata": {},
   "outputs": [],
   "source": []
  },
  {
   "cell_type": "markdown",
   "id": "engaged-beast",
   "metadata": {},
   "source": [
    "# Method 1*\n",
    "\n",
    "Use hashmap and stack\n",
    "\n",
    "layer by layer, BFS\n",
    "\n",
    "record node and col, layer by layer(BFS), record node.val into each col key in sorted way\n",
    "\n",
    "since it is layer by layer, row number is automatically sorted\n",
    "\n",
    "T=O(n), S=O(n)"
   ]
  },
  {
   "cell_type": "code",
   "execution_count": null,
   "id": "split-decrease",
   "metadata": {},
   "outputs": [],
   "source": [
    "# Definition for a binary tree node.\n",
    "# class TreeNode:\n",
    "#     def __init__(self, val=0, left=None, right=None):\n",
    "#         self.val = val\n",
    "#         self.left = left\n",
    "#         self.right = right\n",
    "class Solution:\n",
    "    def verticalTraversal(self, root: Optional[TreeNode]) -> List[List[int]]:\n",
    "        s = collections.defaultdict(list)\n",
    "        stack = [(root,0)]\n",
    "        \n",
    "        while stack:\n",
    "            tmp = []\n",
    "            d = collections.defaultdict(list)\n",
    "            for node, c in stack:\n",
    "                d[c].append(node.val)\n",
    "                \n",
    "                if node.left: tmp.append((node.left, c-1))\n",
    "                if node.right: tmp.append((node.right, c+1))\n",
    "            for i in d: s[i].extend(sorted(d[i]))\n",
    "            stack = tmp\n",
    "            \n",
    "        return [s[i] for i in sorted(s)]"
   ]
  }
 ],
 "metadata": {
  "kernelspec": {
   "display_name": "Python 3",
   "language": "python",
   "name": "python3"
  },
  "language_info": {
   "codemirror_mode": {
    "name": "ipython",
    "version": 3
   },
   "file_extension": ".py",
   "mimetype": "text/x-python",
   "name": "python",
   "nbconvert_exporter": "python",
   "pygments_lexer": "ipython3",
   "version": "3.8.3"
  }
 },
 "nbformat": 4,
 "nbformat_minor": 5
}
