{
 "cells": [
  {
   "cell_type": "code",
   "execution_count": null,
   "id": "automatic-arrival",
   "metadata": {},
   "outputs": [],
   "source": []
  },
  {
   "cell_type": "markdown",
   "id": "religious-operation",
   "metadata": {},
   "source": [
    "# Method 1"
   ]
  },
  {
   "cell_type": "code",
   "execution_count": null,
   "id": "together-treasurer",
   "metadata": {},
   "outputs": [],
   "source": [
    "# Definition for a binary tree node.\n",
    "# class TreeNode:\n",
    "#     def __init__(self, val=0, left=None, right=None):\n",
    "#         self.val = val\n",
    "#         self.left = left\n",
    "#         self.right = right\n",
    "class Solution:\n",
    "    def insertIntoBST(self, root: Optional[TreeNode], val: int) -> Optional[TreeNode]:\n",
    "        if not root: return TreeNode(val)\n",
    "        \n",
    "        if val<root.val:\n",
    "            root.left = self.insertIntoBST(root.left,val)\n",
    "        if val>root.val:\n",
    "            root.right = self.insertIntoBST(root.right,val)\n",
    "        \n",
    "        return root\n",
    "        "
   ]
  },
  {
   "cell_type": "markdown",
   "id": "filled-chain",
   "metadata": {},
   "source": [
    "# Method 2"
   ]
  },
  {
   "cell_type": "code",
   "execution_count": null,
   "id": "expected-berry",
   "metadata": {},
   "outputs": [],
   "source": [
    "# Definition for a binary tree node.\n",
    "# class TreeNode:\n",
    "#     def __init__(self, val=0, left=None, right=None):\n",
    "#         self.val = val\n",
    "#         self.left = left\n",
    "#         self.right = right\n",
    "class Solution:\n",
    "    def insertIntoBST(self, root: Optional[TreeNode], val: int) -> Optional[TreeNode]:\n",
    "        if not root: return TreeNode(val)\n",
    "        node = root\n",
    "        \n",
    "        while node:\n",
    "            if val<node.val: \n",
    "                if node.left:\n",
    "                    node = node.left\n",
    "                else:\n",
    "                    node.left = TreeNode(val)\n",
    "                    break\n",
    "            if val>node.val: \n",
    "                if node.right:\n",
    "                    node = node.right\n",
    "                else:\n",
    "                    node.right = TreeNode(val)\n",
    "                    break\n",
    "        return root"
   ]
  }
 ],
 "metadata": {
  "kernelspec": {
   "display_name": "Python 3",
   "language": "python",
   "name": "python3"
  },
  "language_info": {
   "codemirror_mode": {
    "name": "ipython",
    "version": 3
   },
   "file_extension": ".py",
   "mimetype": "text/x-python",
   "name": "python",
   "nbconvert_exporter": "python",
   "pygments_lexer": "ipython3",
   "version": "3.8.3"
  }
 },
 "nbformat": 4,
 "nbformat_minor": 5
}
