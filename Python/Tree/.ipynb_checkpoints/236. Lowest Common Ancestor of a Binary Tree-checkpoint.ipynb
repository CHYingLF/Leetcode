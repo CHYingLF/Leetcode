{
 "cells": [
  {
   "cell_type": "code",
   "execution_count": 7,
   "id": "green-links",
   "metadata": {},
   "outputs": [
    {
     "name": "stdout",
     "output_type": "stream",
     "text": [
      "5\n"
     ]
    }
   ],
   "source": [
    "def test(x):\n",
    "    a=None\n",
    "    b=5\n",
    "    return a or b\n",
    "\n",
    "print(test(1))"
   ]
  },
  {
   "cell_type": "markdown",
   "id": "boolean-video",
   "metadata": {},
   "source": [
    "# Method 1*"
   ]
  },
  {
   "cell_type": "code",
   "execution_count": null,
   "id": "developing-attachment",
   "metadata": {},
   "outputs": [],
   "source": [
    "# Definition for a binary tree node.\n",
    "# class TreeNode:\n",
    "#     def __init__(self, x):\n",
    "#         self.val = x\n",
    "#         self.left = None\n",
    "#         self.right = None\n",
    "\n",
    "class Solution:\n",
    "    def lowestCommonAncestor(self, root: 'TreeNode', p: 'TreeNode', q: 'TreeNode') -> 'TreeNode':\n",
    "        if root == p or root==q: # root is the ancestor\n",
    "            return root\n",
    "        \n",
    "        left = right = None\n",
    "        \n",
    "        if root.left:\n",
    "            left = self.lowestCommonAncestor(root.left,p,q) # None if p,q not in left subtree\n",
    "        if root.right:\n",
    "            right = self.lowestCommonAncestor(root.right,p,q) # None if p,q not in right subtree\n",
    "            \n",
    "        if left and right: # p in left subtree, q in right subtree\n",
    "            return root\n",
    "        else:\n",
    "            return left or right"
   ]
  },
  {
   "cell_type": "markdown",
   "id": "grand-beginning",
   "metadata": {},
   "source": [
    "# Method 2*\n",
    "\n",
    "Iterative\n",
    "\n",
    "record ancestor by dict until p, q are recorded"
   ]
  },
  {
   "cell_type": "code",
   "execution_count": null,
   "id": "civic-italian",
   "metadata": {},
   "outputs": [],
   "source": [
    "# Definition for a binary tree node.\n",
    "# class TreeNode:\n",
    "#     def __init__(self, x):\n",
    "#         self.val = x\n",
    "#         self.left = None\n",
    "#         self.right = None\n",
    "\n",
    "class Solution:\n",
    "    def lowestCommonAncestor(self, root: 'TreeNode', p: 'TreeNode', q: 'TreeNode') -> 'TreeNode':\n",
    "        stack = [root]\n",
    "        parent={root :  None}\n",
    "        \n",
    "        while p not in parent or q not in parent: #record each node ancestor untill p,q are recorded using dict\n",
    "            node = stack.pop()\n",
    "            \n",
    "            if node.left:\n",
    "                parent[node.left] = node\n",
    "                stack.append(node.left)\n",
    "            if node.right:\n",
    "                parent[node.right] = node\n",
    "                stack.append(node.right)\n",
    "                \n",
    "        ancestor = set()\n",
    "        while p:     #record all p's ancestor\n",
    "            ancestor.add(p)\n",
    "            p = parent[p]\n",
    "        while q not in ancestor:\n",
    "            q = parent[q]\n",
    "            \n",
    "        return q"
   ]
  }
 ],
 "metadata": {
  "kernelspec": {
   "display_name": "Python 3",
   "language": "python",
   "name": "python3"
  },
  "language_info": {
   "codemirror_mode": {
    "name": "ipython",
    "version": 3
   },
   "file_extension": ".py",
   "mimetype": "text/x-python",
   "name": "python",
   "nbconvert_exporter": "python",
   "pygments_lexer": "ipython3",
   "version": "3.8.3"
  }
 },
 "nbformat": 4,
 "nbformat_minor": 5
}
