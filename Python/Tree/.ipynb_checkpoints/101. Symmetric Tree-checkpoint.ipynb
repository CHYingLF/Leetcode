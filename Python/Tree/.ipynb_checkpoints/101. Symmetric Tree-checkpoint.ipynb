{
 "cells": [
  {
   "cell_type": "code",
   "execution_count": null,
   "id": "million-singles",
   "metadata": {},
   "outputs": [],
   "source": []
  },
  {
   "cell_type": "markdown",
   "id": "entertaining-swedish",
   "metadata": {},
   "source": [
    "# Method 1*"
   ]
  },
  {
   "cell_type": "markdown",
   "id": "front-illness",
   "metadata": {},
   "source": [
    "Recursive\n",
    "\n",
    "Could pass down left and right at same time\n",
    "\n",
    "mutually check its left and right"
   ]
  },
  {
   "cell_type": "code",
   "execution_count": null,
   "id": "wrong-hydrogen",
   "metadata": {},
   "outputs": [],
   "source": [
    "# Definition for a binary tree node.\n",
    "# class TreeNode:\n",
    "#     def __init__(self, val=0, left=None, right=None):\n",
    "#         self.val = val\n",
    "#         self.left = left\n",
    "#         self.right = right\n",
    "class Solution:\n",
    "    def isSymmetric(self, root: Optional[TreeNode]) -> bool:\n",
    "        \n",
    "        def isSym(L,R):\n",
    "            if L and R and L.val == R.val:\n",
    "                return isSym(L.left,R.right) and isSym(L.right,R.left)\n",
    "            return L==R\n",
    "        \n",
    "        return not root or isSym(root.left, root.right)"
   ]
  },
  {
   "cell_type": "markdown",
   "id": "abstract-radical",
   "metadata": {},
   "source": [
    "# Method 2*"
   ]
  },
  {
   "cell_type": "markdown",
   "id": "distant-margin",
   "metadata": {},
   "source": [
    "Iteratively\n",
    "\n",
    "Use stack to store the pair\n",
    "\n",
    "T=O(logn)\n",
    "S=O(n)"
   ]
  },
  {
   "cell_type": "code",
   "execution_count": null,
   "id": "posted-enemy",
   "metadata": {},
   "outputs": [],
   "source": [
    "# Definition for a binary tree node.\n",
    "# class TreeNode:\n",
    "#     def __init__(self, val=0, left=None, right=None):\n",
    "#         self.val = val\n",
    "#         self.left = left\n",
    "#         self.right = right\n",
    "class Solution:\n",
    "    def isSymmetric(self, root: Optional[TreeNode]) -> bool:\n",
    "        \n",
    "        stack = [(root.left,root.right)]\n",
    "        \n",
    "        while stack:\n",
    "            l, r = stack.pop()\n",
    "            if l and r and l.val == r.val:\n",
    "                stack.append((l.left,r.right))\n",
    "                stack.append((l.right,r.left))\n",
    "            elif not l and not r:\n",
    "                continue\n",
    "            else:\n",
    "                return False\n",
    "        return True"
   ]
  }
 ],
 "metadata": {
  "kernelspec": {
   "display_name": "Python 3",
   "language": "python",
   "name": "python3"
  },
  "language_info": {
   "codemirror_mode": {
    "name": "ipython",
    "version": 3
   },
   "file_extension": ".py",
   "mimetype": "text/x-python",
   "name": "python",
   "nbconvert_exporter": "python",
   "pygments_lexer": "ipython3",
   "version": "3.8.3"
  }
 },
 "nbformat": 4,
 "nbformat_minor": 5
}
