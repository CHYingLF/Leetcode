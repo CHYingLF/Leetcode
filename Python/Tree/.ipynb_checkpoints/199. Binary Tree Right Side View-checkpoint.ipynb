{
 "cells": [
  {
   "cell_type": "code",
   "execution_count": null,
   "id": "reported-integral",
   "metadata": {},
   "outputs": [],
   "source": []
  },
  {
   "cell_type": "markdown",
   "id": "starting-produce",
   "metadata": {},
   "source": [
    "# Method 1\n",
    "\n",
    "level idea, BFS"
   ]
  },
  {
   "cell_type": "code",
   "execution_count": null,
   "id": "steady-wilderness",
   "metadata": {},
   "outputs": [],
   "source": [
    "# Definition for a binary tree node.\n",
    "# class TreeNode:\n",
    "#     def __init__(self, val=0, left=None, right=None):\n",
    "#         self.val = val\n",
    "#         self.left = left\n",
    "#         self.right = right\n",
    "class Solution:\n",
    "    def rightSideView(self, root: Optional[TreeNode]) -> List[int]:\n",
    "        if not root : return []\n",
    "        stack, res = [root], []\n",
    "        \n",
    "        while stack:\n",
    "             res.append(stack[-1].val)\n",
    "            for _ in range(len(stack)):\n",
    "                node=stack.pop(0)\n",
    "                if node.left: stack.append(node.left)\n",
    "                if node.right: stack.append(node.right)\n",
    "            \n",
    "        return res\n",
    "                \n",
    "                "
   ]
  },
  {
   "cell_type": "markdown",
   "id": "developing-macedonia",
   "metadata": {},
   "source": [
    "# Method 2"
   ]
  },
  {
   "cell_type": "markdown",
   "id": "upset-banana",
   "metadata": {},
   "source": [
    "DFS-traverse the tree right-to-left, add values to the view whenever we first reach a new record depth. This is O(n)."
   ]
  },
  {
   "cell_type": "code",
   "execution_count": null,
   "id": "altered-unknown",
   "metadata": {},
   "outputs": [],
   "source": [
    "# Definition for a binary tree node.\n",
    "# class TreeNode:\n",
    "#     def __init__(self, val=0, left=None, right=None):\n",
    "#         self.val = val\n",
    "#         self.left = left\n",
    "#         self.right = right\n",
    "class Solution:\n",
    "    def rightSideView(self, root: Optional[TreeNode]) -> List[int]:\n",
    "        def collect(node, depth):\n",
    "            if not node: return\n",
    "            if depth == len(view):\n",
    "                view.append(node.val)\n",
    "            collect(node.right,depth+1)\n",
    "            collect(node.left, depth+1)\n",
    "                \n",
    "        view = []\n",
    "        collect(root,0)\n",
    "        return view"
   ]
  }
 ],
 "metadata": {
  "kernelspec": {
   "display_name": "Python 3",
   "language": "python",
   "name": "python3"
  },
  "language_info": {
   "codemirror_mode": {
    "name": "ipython",
    "version": 3
   },
   "file_extension": ".py",
   "mimetype": "text/x-python",
   "name": "python",
   "nbconvert_exporter": "python",
   "pygments_lexer": "ipython3",
   "version": "3.8.3"
  }
 },
 "nbformat": 4,
 "nbformat_minor": 5
}
