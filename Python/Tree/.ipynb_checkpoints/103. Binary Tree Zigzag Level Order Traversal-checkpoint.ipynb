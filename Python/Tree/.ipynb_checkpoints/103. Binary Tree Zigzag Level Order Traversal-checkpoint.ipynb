{
 "cells": [
  {
   "cell_type": "code",
   "execution_count": 4,
   "id": "contrary-ghana",
   "metadata": {},
   "outputs": [
    {
     "data": {
      "text/plain": [
       "[1, 2]"
      ]
     },
     "execution_count": 4,
     "metadata": {},
     "output_type": "execute_result"
    }
   ],
   "source": [
    "a=[]\n",
    "b=[1,2]\n",
    "a+b"
   ]
  },
  {
   "cell_type": "markdown",
   "id": "committed-corpus",
   "metadata": {},
   "source": [
    "# Method 1"
   ]
  },
  {
   "cell_type": "code",
   "execution_count": null,
   "id": "visible-collaboration",
   "metadata": {},
   "outputs": [],
   "source": [
    "# Definition for a binary tree node.\n",
    "# class TreeNode:\n",
    "#     def __init__(self, val=0, left=None, right=None):\n",
    "#         self.val = val\n",
    "#         self.left = left\n",
    "#         self.right = right\n",
    "class Solution:\n",
    "    def zigzagLevelOrder(self, root: Optional[TreeNode]) -> List[List[int]]:\n",
    "        if not root : return None\n",
    "        dq, direction, res = deque([root]), 1, []\n",
    "        \n",
    "        while dq:\n",
    "            temp = []\n",
    "            for i in range(len(dq)):\n",
    "                node = dq.popleft()\n",
    "                temp.append(node.val)\n",
    "                if node.left: dq.append(node.left)\n",
    "                if node.right: dq.append(node.right)\n",
    "                \n",
    "            res = res + [temp[::direction]]\n",
    "            direction*=-1\n",
    "            \n",
    "        return res\n",
    "            \n",
    "                "
   ]
  }
 ],
 "metadata": {
  "kernelspec": {
   "display_name": "Python 3",
   "language": "python",
   "name": "python3"
  },
  "language_info": {
   "codemirror_mode": {
    "name": "ipython",
    "version": 3
   },
   "file_extension": ".py",
   "mimetype": "text/x-python",
   "name": "python",
   "nbconvert_exporter": "python",
   "pygments_lexer": "ipython3",
   "version": "3.8.3"
  }
 },
 "nbformat": 4,
 "nbformat_minor": 5
}
