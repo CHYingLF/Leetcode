{
 "cells": [
  {
   "cell_type": "code",
   "execution_count": null,
   "id": "ahead-layer",
   "metadata": {},
   "outputs": [],
   "source": []
  },
  {
   "cell_type": "markdown",
   "id": "auburn-colon",
   "metadata": {},
   "source": [
    "# Method 1*\n",
    "\n",
    "We construct a dp tree.\\\n",
    "Each node (dp_node) in this dp tree is an array of two elements:\\\n",
    "dp_node = [your gain when you ROB the current node, your gain when you SKIP the current node]\\\n",
    "\n",
    "dp_node[0] =[your gain when you ROB the current node]\\\n",
    "dp_node[1] =[your gain when you SKIP the current node]\\\n",
    "we start by scanning from the leaf: Depth First Search\\\n",
    "\n",
    "For each node you have 2 options:\\\n",
    "\n",
    "## option 1: ROB the node, then you can't rob the child/children of the node.\\\n",
    "dp_node[0] = node.val + dp_node.left[1] + dp_node.right[1]\\\n",
    "## option 2: SKIP the node, then you can ROB or SKIP the child/children of the node.\\\n",
    "dp_node[1] = max(dp_node.left[0], dp_node.left[1]) + max(dp_node.right[0], dp_node.right[1])\\\n",
    "the maximum of gain of the node depents on max(dp_node[0],dp_node[1])\\"
   ]
  },
  {
   "cell_type": "code",
   "execution_count": null,
   "id": "sporting-validity",
   "metadata": {},
   "outputs": [],
   "source": [
    "# Definition for a binary tree node.\n",
    "# class TreeNode:\n",
    "#     def __init__(self, val=0, left=None, right=None):\n",
    "#         self.val = val\n",
    "#         self.left = left\n",
    "#         self.right = right\n",
    "class Solution:\n",
    "    def rob(self, root: Optional[TreeNode]) -> int:\n",
    "        def dfs(root):\n",
    "            if not root: return [0,0]\n",
    "            \n",
    "            left = dfs(root.left)\n",
    "            right = dfs(root.right)\n",
    "            \n",
    "            return [root.val+left[1]+right[1], max(left)+max(right)]\n",
    "        \n",
    "        return max(dfs(root))\n",
    "            \n",
    "            \n",
    "            \n",
    "            \n",
    "            \n",
    "            \n",
    "                    "
   ]
  }
 ],
 "metadata": {
  "kernelspec": {
   "display_name": "Python 3",
   "language": "python",
   "name": "python3"
  },
  "language_info": {
   "codemirror_mode": {
    "name": "ipython",
    "version": 3
   },
   "file_extension": ".py",
   "mimetype": "text/x-python",
   "name": "python",
   "nbconvert_exporter": "python",
   "pygments_lexer": "ipython3",
   "version": "3.8.3"
  }
 },
 "nbformat": 4,
 "nbformat_minor": 5
}
