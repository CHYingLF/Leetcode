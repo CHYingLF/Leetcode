{
 "cells": [
  {
   "cell_type": "code",
   "execution_count": null,
   "id": "brutal-pioneer",
   "metadata": {},
   "outputs": [],
   "source": []
  },
  {
   "cell_type": "markdown",
   "id": "amateur-dublin",
   "metadata": {},
   "source": [
    "# Method 1\n",
    "\n",
    "Say we have 2 arrays, PRE and IN.\n",
    "\n",
    "\n",
    "Preorder traversing implies that PRE[0] is the root node.\n",
    "\n",
    "\n",
    "Then we can find this PRE[0] in IN, say it's IN[5].\n",
    "\n",
    "\n",
    "Now we know that IN[5] is root, so we know that IN[0] - IN[4] is on the left side, IN[6] to the end is on the right side.\n",
    "\n",
    "\n",
    "Recursively doing this on subarrays, we can build a tree out of it."
   ]
  },
  {
   "cell_type": "code",
   "execution_count": 1,
   "id": "disturbed-rates",
   "metadata": {},
   "outputs": [],
   "source": [
    "# Definition for a binary tree node.\n",
    "# class TreeNode:\n",
    "#     def __init__(self, val=0, left=None, right=None):\n",
    "#         self.val = val\n",
    "#         self.left = left\n",
    "#         self.right = right\n",
    "class Solution:\n",
    "    def buildTree(self, preorder, inorder) :\n",
    "        if inorder:\n",
    "            idx = inorder.index(preorder.pop(0))\n",
    "            root = TreeNode(inorder[idx])\n",
    "            \n",
    "            root.left = self.buildTree(preorder, inorder[:idx]) # preorder has been changed inside the function\n",
    "            root.right = self.buildTree(preorder, inorder[idx+1:])\n",
    "            \n",
    "            return root"
   ]
  }
 ],
 "metadata": {
  "kernelspec": {
   "display_name": "Python 3",
   "language": "python",
   "name": "python3"
  },
  "language_info": {
   "codemirror_mode": {
    "name": "ipython",
    "version": 3
   },
   "file_extension": ".py",
   "mimetype": "text/x-python",
   "name": "python",
   "nbconvert_exporter": "python",
   "pygments_lexer": "ipython3",
   "version": "3.8.3"
  }
 },
 "nbformat": 4,
 "nbformat_minor": 5
}
