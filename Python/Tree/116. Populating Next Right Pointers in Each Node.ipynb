{
 "cells": [
  {
   "cell_type": "code",
   "execution_count": null,
   "id": "retained-shoulder",
   "metadata": {},
   "outputs": [],
   "source": []
  },
  {
   "cell_type": "markdown",
   "id": "peripheral-millennium",
   "metadata": {},
   "source": [
    "# Method 1\n",
    "\n",
    "1. level by level, set next"
   ]
  },
  {
   "cell_type": "code",
   "execution_count": null,
   "id": "steady-encounter",
   "metadata": {},
   "outputs": [],
   "source": [
    "\"\"\"\n",
    "# Definition for a Node.\n",
    "class Node:\n",
    "    def __init__(self, val: int = 0, left: 'Node' = None, right: 'Node' = None, next: 'Node' = None):\n",
    "        self.val = val\n",
    "        self.left = left\n",
    "        self.right = right\n",
    "        self.next = next\n",
    "\"\"\"\n",
    "\n",
    "class Solution:\n",
    "    def connect(self, root: 'Optional[Node]') -> 'Optional[Node]':\n",
    "        if not root : return None\n",
    "        m = root\n",
    "        stack = [m]\n",
    "        \n",
    "        while stack:\n",
    "            n = len(stack)\n",
    "            for i in range(n-1):\n",
    "                node = stack.pop(0)\n",
    "                node.next = stack[0]\n",
    "                if node.left: stack.append(node.left)\n",
    "                if node.right: stack.append(node.right)\n",
    "            node = stack.pop(0)\n",
    "            node.next = None\n",
    "            if node.left: stack.append(node.left)\n",
    "            if node.right: stack.append(node.right)\n",
    "            \n",
    "        return root"
   ]
  },
  {
   "cell_type": "markdown",
   "id": "removed-badge",
   "metadata": {},
   "source": [
    "# Method 2*\n",
    "\n",
    "S=O(1)"
   ]
  },
  {
   "cell_type": "code",
   "execution_count": null,
   "id": "varying-papua",
   "metadata": {},
   "outputs": [],
   "source": [
    "class Solution:\n",
    "    def connect(self, root: 'Optional[Node]') -> 'Optional[Node]':\n",
    "        Q = root\n",
    "        while root and root.left:\n",
    "            next = root.left\n",
    "            while root:\n",
    "                root.left.next = root.right\n",
    "                root.right.next = root.next and root.next.left\n",
    "                root = root.next\n",
    "            root = next\n",
    "            \n",
    "        return Q"
   ]
  }
 ],
 "metadata": {
  "kernelspec": {
   "display_name": "Python 3",
   "language": "python",
   "name": "python3"
  },
  "language_info": {
   "codemirror_mode": {
    "name": "ipython",
    "version": 3
   },
   "file_extension": ".py",
   "mimetype": "text/x-python",
   "name": "python",
   "nbconvert_exporter": "python",
   "pygments_lexer": "ipython3",
   "version": "3.8.3"
  }
 },
 "nbformat": 4,
 "nbformat_minor": 5
}
