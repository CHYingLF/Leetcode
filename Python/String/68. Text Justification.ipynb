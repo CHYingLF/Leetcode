{
 "cells": [
  {
   "cell_type": "code",
   "execution_count": null,
   "id": "quantitative-sixth",
   "metadata": {},
   "outputs": [],
   "source": []
  },
  {
   "cell_type": "code",
   "execution_count": null,
   "id": "arctic-packing",
   "metadata": {},
   "outputs": [],
   "source": []
  },
  {
   "cell_type": "code",
   "execution_count": null,
   "id": "expanded-gothic",
   "metadata": {},
   "outputs": [],
   "source": [
    "class Solution:\n",
    "    def fullJustify(self, words, maxWidth):\n",
    "        res, cur, len_w=[],[],0\n",
    "        \n",
    "        for w in words:\n",
    "            if len_w+len(cur)+len(w)>maxWidth:\n",
    "                for i in range(maxWidth-len_w):\n",
    "                    cur[i%(len(cur)-1 or 1)]+=\" \"\n",
    "                    \n",
    "                res.append(\"\".join(cur))\n",
    "                cur=[]\n",
    "                len_w=0\n",
    "                \n",
    "            cur.append(w)\n",
    "            len_w+=len(w)\n",
    "            \n",
    "        return res+[\" \".join(cur).ljust(maxWidth)]"
   ]
  }
 ],
 "metadata": {
  "kernelspec": {
   "display_name": "Python 3",
   "language": "python",
   "name": "python3"
  },
  "language_info": {
   "codemirror_mode": {
    "name": "ipython",
    "version": 3
   },
   "file_extension": ".py",
   "mimetype": "text/x-python",
   "name": "python",
   "nbconvert_exporter": "python",
   "pygments_lexer": "ipython3",
   "version": "3.8.3"
  }
 },
 "nbformat": 4,
 "nbformat_minor": 5
}
