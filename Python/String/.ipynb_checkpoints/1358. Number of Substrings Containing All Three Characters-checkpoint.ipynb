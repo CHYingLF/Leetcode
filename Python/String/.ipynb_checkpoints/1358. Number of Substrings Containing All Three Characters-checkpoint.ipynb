{
 "cells": [
  {
   "cell_type": "code",
   "execution_count": 3,
   "id": "initial-franchise",
   "metadata": {},
   "outputs": [
    {
     "name": "stdout",
     "output_type": "stream",
     "text": [
      "dict_values([0, 0, 0, 0])\n",
      "dict_keys(['a', 'b', 'c', 'd'])\n",
      "dict_items([('a', 0), ('b', 0), ('c', 0), ('d', 0)])\n"
     ]
    }
   ],
   "source": [
    "a={c:0 for c in 'abcd'}\n",
    "print(a.values()) #value from the dict\n",
    "print(a.keys()) #keys from the dict\n",
    "print(a.items()) #items from the dict"
   ]
  },
  {
   "cell_type": "markdown",
   "id": "sufficient-logic",
   "metadata": {},
   "source": [
    "# Method 1"
   ]
  },
  {
   "cell_type": "markdown",
   "id": "junior-pride",
   "metadata": {},
   "source": [
    "Use a dict to store number of each character\n",
    "\n",
    "T=O(5n), S=O(1)"
   ]
  },
  {
   "cell_type": "code",
   "execution_count": 6,
   "id": "oriented-manner",
   "metadata": {},
   "outputs": [
    {
     "name": "stdout",
     "output_type": "stream",
     "text": [
      "0 2 0 {'a': 3, 'b': 0, 'c': 0}\n",
      "0 3 0 {'a': 3, 'b': 0, 'c': 1}\n",
      "0 4 0 {'a': 3, 'b': 1, 'c': 1}\n"
     ]
    },
    {
     "data": {
      "text/plain": [
       "3"
      ]
     },
     "execution_count": 6,
     "metadata": {},
     "output_type": "execute_result"
    }
   ],
   "source": [
    "class Solution:\n",
    "    def numberOfSubstrings(self, s: str) -> int:\n",
    "        out=i=0\n",
    "        n=len(s)\n",
    "        set_i={} #store the number of 'a', 'b', 'c' in current window\n",
    "        for c in 'abc':set_i[c]=0\n",
    "        for c in s[:2]:set_i[c]+=1\n",
    "        \n",
    "        for j in range(2,n):\n",
    "            set_i[s[j]]+=1\n",
    "            print(i,j,out,set_i)\n",
    "            while all(set_i.values()): #increase i unitil current window fails\n",
    "                out+=(n-j) #add from right\n",
    "                set_i[s[i]]-=1\n",
    "                i+=1\n",
    "        return out\n",
    "                \n",
    "s=Solution()\n",
    "inp=\"aaacb\"\n",
    "#inp='abccccccca'\n",
    "s.numberOfSubstrings(inp)"
   ]
  },
  {
   "cell_type": "code",
   "execution_count": 5,
   "id": "grave-harvard",
   "metadata": {},
   "outputs": [
    {
     "name": "stdout",
     "output_type": "stream",
     "text": [
      "0 2 0 {'a': 3, 'b': 0, 'c': 0}\n",
      "0 3 0 {'a': 3, 'b': 0, 'c': 1}\n",
      "0 4 0 {'a': 3, 'b': 1, 'c': 1}\n"
     ]
    },
    {
     "data": {
      "text/plain": [
       "3"
      ]
     },
     "execution_count": 5,
     "metadata": {},
     "output_type": "execute_result"
    }
   ],
   "source": [
    "class Solution:\n",
    "    def numberOfSubstrings(self, s: str) -> int:\n",
    "        out=i=0\n",
    "        n=len(s)\n",
    "        set_i={} #store the number of 'a', 'b', 'c' in current window\n",
    "        for c in 'abc':set_i[c]=0\n",
    "        for c in s[:2]:set_i[c]+=1\n",
    "        \n",
    "        for j in range(2,n):\n",
    "            set_i[s[j]]+=1\n",
    "            print(i,j,out,set_i)\n",
    "            while all(set_i.values()): #increase i unitil current window fails\n",
    "                set_i[s[i]]-=1\n",
    "                i+=1\n",
    "            out+=i #add from left hand\n",
    "        return out\n",
    "                \n",
    "s=Solution()\n",
    "inp=\"aaacb\"\n",
    "#inp='abccccccca'\n",
    "s.numberOfSubstrings(inp)"
   ]
  },
  {
   "cell_type": "markdown",
   "id": "asian-quantum",
   "metadata": {},
   "source": [
    "# Method 2"
   ]
  },
  {
   "cell_type": "code",
   "execution_count": 7,
   "id": "differential-batch",
   "metadata": {},
   "outputs": [
    {
     "data": {
      "text/plain": [
       "3"
      ]
     },
     "execution_count": 7,
     "metadata": {},
     "output_type": "execute_result"
    }
   ],
   "source": [
    "class Solution:\n",
    "    def numberOfSubstrings(self, s: str) -> int:\n",
    "        last=[-1]*3\n",
    "        res=0\n",
    "        \n",
    "        for i,c in enumerate(s):\n",
    "            last[ord(c)-97]=i\n",
    "            res+=1+min(last)\n",
    "            \n",
    "        return res\n",
    "    \n",
    "s=Solution()\n",
    "inp=\"aaacb\"\n",
    "#inp='abccccccca'\n",
    "s.numberOfSubstrings(inp)"
   ]
  }
 ],
 "metadata": {
  "kernelspec": {
   "display_name": "Python 3",
   "language": "python",
   "name": "python3"
  },
  "language_info": {
   "codemirror_mode": {
    "name": "ipython",
    "version": 3
   },
   "file_extension": ".py",
   "mimetype": "text/x-python",
   "name": "python",
   "nbconvert_exporter": "python",
   "pygments_lexer": "ipython3",
   "version": "3.8.3"
  }
 },
 "nbformat": 4,
 "nbformat_minor": 5
}
