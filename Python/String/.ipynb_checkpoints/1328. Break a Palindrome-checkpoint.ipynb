{
 "cells": [
  {
   "cell_type": "markdown",
   "id": "naval-block",
   "metadata": {},
   "source": [
    "Given a palindromic string of lowercase English letters palindrome, replace exactly one character with any lowercase English letter so that the resulting string is not a palindrome and that it is the lexicographically smallest one possible.\n",
    "\n",
    "Return the resulting string. If there is no way to replace a character to make it not a palindrome, return an empty string.\n",
    "\n",
    "A string a is lexicographically smaller than a string b (of the same length) if in the first position where a and b differ, a has a character strictly smaller than the corresponding character in b. For example, \"abcc\" is lexicographically smaller than \"abcd\" because the first position they differ is at the fourth character, and 'c' is smaller than 'd'."
   ]
  },
  {
   "cell_type": "markdown",
   "id": "crazy-scout",
   "metadata": {},
   "source": [
    "1. Clean code, do not need to define much variables only when necessary\n",
    "\n",
    "2. a[:-1]='' if len(a)=1\n",
    "\n",
    "3. a[x:]='' if x>len(len(a))"
   ]
  },
  {
   "cell_type": "code",
   "execution_count": 6,
   "id": "leading-supervisor",
   "metadata": {},
   "outputs": [],
   "source": [
    "class Solution:\n",
    "    def breakPalindrome(self, palindrome: str):\n",
    "        for i in range(len(palindrome)-1):\n",
    "            if palindrome[i]!='a':\n",
    "                return palindrome[:i]+'a'+palindrome[i+1:]\n",
    "            \n",
    "        return palindrome[:-1]+'b' if palindrome[:-1] else ''"
   ]
  },
  {
   "cell_type": "code",
   "execution_count": 7,
   "id": "demonstrated-taiwan",
   "metadata": {},
   "outputs": [
    {
     "data": {
      "text/plain": [
       "'aaaca'"
      ]
     },
     "execution_count": 7,
     "metadata": {},
     "output_type": "execute_result"
    }
   ],
   "source": [
    "s=Solution()\n",
    "s.breakPalindrome('acaca')"
   ]
  }
 ],
 "metadata": {
  "kernelspec": {
   "display_name": "Python 3",
   "language": "python",
   "name": "python3"
  },
  "language_info": {
   "codemirror_mode": {
    "name": "ipython",
    "version": 3
   },
   "file_extension": ".py",
   "mimetype": "text/x-python",
   "name": "python",
   "nbconvert_exporter": "python",
   "pygments_lexer": "ipython3",
   "version": "3.8.3"
  }
 },
 "nbformat": 4,
 "nbformat_minor": 5
}
