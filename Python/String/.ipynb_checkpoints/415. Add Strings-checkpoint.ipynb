{
 "cells": [
  {
   "cell_type": "markdown",
   "id": "infinite-reasoning",
   "metadata": {},
   "source": [
    "# ASCII code"
   ]
  },
  {
   "cell_type": "markdown",
   "id": "optical-intellectual",
   "metadata": {},
   "source": [
    "1. ord('0')=48\n",
    "\n",
    "2. ord('a')=97\n",
    "\n",
    "3. ord('A')=65"
   ]
  },
  {
   "cell_type": "code",
   "execution_count": 4,
   "id": "hired-salvation",
   "metadata": {},
   "outputs": [],
   "source": [
    "class Solution:\n",
    "    def addStrings(self, num1: str, num2: str) -> str:\n",
    "        i1,i2=len(num1)-1,len(num2)-1 #two pointer, add one by one\n",
    "        carry=0\n",
    "        out=''\n",
    "        \n",
    "        while i1>=0 or i2>=0 or carry>0:\n",
    "            if i1>=0:\n",
    "                carry+=(ord(num1[i1])-ord('0'))\n",
    "                i1-=1\n",
    "            if i2>=0:\n",
    "                carry+=(ord(num2[i2])-ord('0'))\n",
    "                i2-=1\n",
    "            out+=chr(carry%10+ord('0'))\n",
    "            carry//=10\n",
    "            \n",
    "        return out[::-1]"
   ]
  }
 ],
 "metadata": {
  "kernelspec": {
   "display_name": "Python 3",
   "language": "python",
   "name": "python3"
  },
  "language_info": {
   "codemirror_mode": {
    "name": "ipython",
    "version": 3
   },
   "file_extension": ".py",
   "mimetype": "text/x-python",
   "name": "python",
   "nbconvert_exporter": "python",
   "pygments_lexer": "ipython3",
   "version": "3.8.3"
  }
 },
 "nbformat": 4,
 "nbformat_minor": 5
}
