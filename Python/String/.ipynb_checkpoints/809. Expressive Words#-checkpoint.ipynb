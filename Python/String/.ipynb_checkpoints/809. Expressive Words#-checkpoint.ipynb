{
 "cells": [
  {
   "cell_type": "code",
   "execution_count": null,
   "id": "domestic-greenhouse",
   "metadata": {},
   "outputs": [],
   "source": []
  },
  {
   "cell_type": "markdown",
   "id": "written-mexico",
   "metadata": {},
   "source": [
    "1. Two pointers, one by one check\n",
    "\n",
    "2. check S[i-1:i+2]!=S[i]*3!=S[i-2:i+1]"
   ]
  },
  {
   "cell_type": "code",
   "execution_count": null,
   "id": "partial-rochester",
   "metadata": {},
   "outputs": [],
   "source": [
    "class Solution():\n",
    "    def expressiveWords(self, S, words):\n",
    "        return sum(self.check(S,W) for W in words)\n",
    "    \n",
    "    def check(self, S, W):\n",
    "        i,j,n,m=0,0,len(S),len(W)\n",
    "        for i in range(n):\n",
    "            if j<m and S[i]==W[j]: j+=1\n",
    "            elif S[i-1:i+2]!=S[i]*3!=S[i-2:i+1]: return False\n",
    "            \n",
    "        return j==m     \n"
   ]
  }
 ],
 "metadata": {
  "kernelspec": {
   "display_name": "Python 3",
   "language": "python",
   "name": "python3"
  },
  "language_info": {
   "codemirror_mode": {
    "name": "ipython",
    "version": 3
   },
   "file_extension": ".py",
   "mimetype": "text/x-python",
   "name": "python",
   "nbconvert_exporter": "python",
   "pygments_lexer": "ipython3",
   "version": "3.8.3"
  }
 },
 "nbformat": 4,
 "nbformat_minor": 5
}
