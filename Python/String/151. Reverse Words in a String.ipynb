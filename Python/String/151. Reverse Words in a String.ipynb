{
 "cells": [
  {
   "cell_type": "code",
   "execution_count": null,
   "id": "neural-rwanda",
   "metadata": {},
   "outputs": [],
   "source": []
  },
  {
   "cell_type": "code",
   "execution_count": null,
   "id": "hundred-trial",
   "metadata": {},
   "outputs": [],
   "source": []
  },
  {
   "cell_type": "code",
   "execution_count": 1,
   "id": "fatty-award",
   "metadata": {},
   "outputs": [],
   "source": [
    "class Solution:\n",
    "    def reverseWords(self, s: str) -> str:\n",
    "        res=[]\n",
    "        temp=\"\"\n",
    "        \n",
    "        for i in range(len(s)-1,-1,-1): #backward\n",
    "            if s[i]==\" \":\n",
    "                if temp: #add temp only when temp != none\n",
    "                    res.append(temp[::-1])\n",
    "                    temp=\"\"\n",
    "                continue\n",
    "            temp+=s[i] #keep adding character\n",
    "            \n",
    "        if temp: res.append(temp[::-1]) #add temp only when temp != none\n",
    "        \n",
    "        return \" \".join(res)"
   ]
  }
 ],
 "metadata": {
  "kernelspec": {
   "display_name": "Python 3",
   "language": "python",
   "name": "python3"
  },
  "language_info": {
   "codemirror_mode": {
    "name": "ipython",
    "version": 3
   },
   "file_extension": ".py",
   "mimetype": "text/x-python",
   "name": "python",
   "nbconvert_exporter": "python",
   "pygments_lexer": "ipython3",
   "version": "3.8.3"
  }
 },
 "nbformat": 4,
 "nbformat_minor": 5
}
