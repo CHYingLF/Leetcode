{
 "cells": [
  {
   "cell_type": "code",
   "execution_count": 5,
   "id": "julian-association",
   "metadata": {},
   "outputs": [
    {
     "name": "stdout",
     "output_type": "stream",
     "text": [
      "Counter({'a': 4, 'b': 1, 'c': 1, 's': 1})\n"
     ]
    }
   ],
   "source": [
    "import collections\n",
    "b=collections.Counter('abcsaaa')\n",
    "print(b)"
   ]
  },
  {
   "cell_type": "markdown",
   "id": "precious-hebrew",
   "metadata": {},
   "source": [
    "# Method 1*"
   ]
  },
  {
   "cell_type": "markdown",
   "id": "imported-corrections",
   "metadata": {},
   "source": [
    "We want a minimum length of substring,\n",
    "\n",
    "which leads us to the solution of sliding window.\n",
    "\n",
    "Specilly this time we don't care the count of elements inside the window,\n",
    "\n",
    "we want to know the count outside the window."
   ]
  },
  {
   "cell_type": "code",
   "execution_count": 6,
   "id": "published-connecticut",
   "metadata": {},
   "outputs": [
    {
     "data": {
      "text/plain": [
       "3"
      ]
     },
     "execution_count": 6,
     "metadata": {},
     "output_type": "execute_result"
    }
   ],
   "source": [
    "class Solution:\n",
    "    def balancedString(self, s: str) -> int:\n",
    "        count=collections.Counter(s)\n",
    "        i, n=0,len(s) #i start from 0\n",
    "        res=n\n",
    "        \n",
    "        for j,c in enumerate(s): #sliding window, increase j ahead\n",
    "            count[c]-=1\n",
    "            \n",
    "            while i<n and all(n/4 >= count[b] for b in 'QWER'):\n",
    "                res=min(res,j-i+1)\n",
    "                count[s[i]]+=1\n",
    "                i+=1 #increase i afterwards\n",
    "                \n",
    "        return res\n",
    "    \n",
    "s=Solution()\n",
    "s.balancedString(\"WQWRQQQW\")"
   ]
  }
 ],
 "metadata": {
  "kernelspec": {
   "display_name": "Python 3",
   "language": "python",
   "name": "python3"
  },
  "language_info": {
   "codemirror_mode": {
    "name": "ipython",
    "version": 3
   },
   "file_extension": ".py",
   "mimetype": "text/x-python",
   "name": "python",
   "nbconvert_exporter": "python",
   "pygments_lexer": "ipython3",
   "version": "3.8.3"
  }
 },
 "nbformat": 4,
 "nbformat_minor": 5
}
