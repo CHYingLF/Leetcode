{
 "cells": [
  {
   "cell_type": "code",
   "execution_count": null,
   "id": "early-holmes",
   "metadata": {},
   "outputs": [],
   "source": []
  },
  {
   "cell_type": "markdown",
   "id": "hindu-cotton",
   "metadata": {},
   "source": [
    "1. sort identifier first, then sort content. \n",
    "\n",
    "2. sort function"
   ]
  },
  {
   "cell_type": "code",
   "execution_count": 6,
   "id": "blocked-screening",
   "metadata": {},
   "outputs": [],
   "source": [
    "class Solution:\n",
    "    def reorderLogFiles(self, logs):\n",
    "        letter=[]\n",
    "        digit=[]\n",
    "        \n",
    "        for log in logs:\n",
    "            if log[-1].isdigit():\n",
    "                digit.append(log)\n",
    "            else:\n",
    "                letter.append(log)\n",
    "                \n",
    "        letter.sort(key=lambda x: x.split()[0] )\n",
    "        letter.sort(key=lambda x: x.split()[1:] )\n",
    "        \n",
    "        return letter+digit"
   ]
  },
  {
   "cell_type": "markdown",
   "id": "surgical-edgar",
   "metadata": {},
   "source": [
    "**Further**\n",
    "\n",
    "sort dict\n",
    "\n"
   ]
  },
  {
   "cell_type": "code",
   "execution_count": 5,
   "id": "resistant-kinase",
   "metadata": {},
   "outputs": [
    {
     "data": {
      "text/plain": [
       "dict_items([(1, 2), (3, 4), (4, 3), (2, 1), (0, 0)])"
      ]
     },
     "execution_count": 5,
     "metadata": {},
     "output_type": "execute_result"
    }
   ],
   "source": [
    "x = {1: 2, 3: 4, 4: 3, 2: 1, 0: 0}\n",
    "x.items()\n",
    "#{k: v for k, v in sorted(x.items(), key=lambda item: item[1])}"
   ]
  }
 ],
 "metadata": {
  "kernelspec": {
   "display_name": "Python 3",
   "language": "python",
   "name": "python3"
  },
  "language_info": {
   "codemirror_mode": {
    "name": "ipython",
    "version": 3
   },
   "file_extension": ".py",
   "mimetype": "text/x-python",
   "name": "python",
   "nbconvert_exporter": "python",
   "pygments_lexer": "ipython3",
   "version": "3.8.3"
  }
 },
 "nbformat": 4,
 "nbformat_minor": 5
}
