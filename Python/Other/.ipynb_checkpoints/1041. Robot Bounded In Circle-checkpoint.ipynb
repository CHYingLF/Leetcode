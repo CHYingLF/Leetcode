{
 "cells": [
  {
   "cell_type": "code",
   "execution_count": null,
   "id": "pleasant-handle",
   "metadata": {},
   "outputs": [],
   "source": []
  },
  {
   "cell_type": "code",
   "execution_count": 6,
   "id": "completed-touch",
   "metadata": {},
   "outputs": [
    {
     "data": {
      "text/plain": [
       "True"
      ]
     },
     "execution_count": 6,
     "metadata": {},
     "output_type": "execute_result"
    }
   ],
   "source": [
    "class Solution:\n",
    "    def isRobotBounded(self, instructions: str) -> bool:\n",
    "        pos=[0,0]\n",
    "        d=[0,1]\n",
    "        for c in instructions:\n",
    "            if c == 'G':\n",
    "                pos=[pos[0]+d[0],pos[1]+d[1]]\n",
    "            if c == 'L':\n",
    "                d=[-d[1],d[0]]\n",
    "            if c == 'R':\n",
    "                d=[d[1],-d[0]]\n",
    "                \n",
    "        return d!=[0,1] or pos==[0,0]    \n",
    "        \n",
    "s=Solution()\n",
    "s.isRobotBounded(\"GLRLLGLL\")"
   ]
  }
 ],
 "metadata": {
  "kernelspec": {
   "display_name": "Python 3",
   "language": "python",
   "name": "python3"
  },
  "language_info": {
   "codemirror_mode": {
    "name": "ipython",
    "version": 3
   },
   "file_extension": ".py",
   "mimetype": "text/x-python",
   "name": "python",
   "nbconvert_exporter": "python",
   "pygments_lexer": "ipython3",
   "version": "3.8.3"
  }
 },
 "nbformat": 4,
 "nbformat_minor": 5
}
