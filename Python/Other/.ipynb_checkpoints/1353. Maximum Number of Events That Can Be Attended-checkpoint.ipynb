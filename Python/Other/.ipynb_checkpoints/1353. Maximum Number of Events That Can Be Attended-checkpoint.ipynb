{
 "cells": [
  {
   "cell_type": "code",
   "execution_count": 8,
   "id": "fiscal-pleasure",
   "metadata": {},
   "outputs": [
    {
     "data": {
      "text/plain": [
       "3"
      ]
     },
     "execution_count": 8,
     "metadata": {},
     "output_type": "execute_result"
    }
   ],
   "source": [
    "a=[[3,1],[3,0],[1,2],[1,5]]\n",
    "a=sorted(a,key=lambda x: (x[0],x[1]))\n",
    "max(max(a))"
   ]
  },
  {
   "cell_type": "markdown",
   "id": "bulgarian-philadelphia",
   "metadata": {},
   "source": [
    "# Method 1"
   ]
  },
  {
   "cell_type": "code",
   "execution_count": null,
   "id": "structural-colorado",
   "metadata": {},
   "outputs": [],
   "source": [
    "class Solution:\n",
    "    def maxEvents(self, events: List[List[int]]) -> int:\n",
    "        A=events\n",
    "        A.sort(reverse=1)\n",
    "        h = []\n",
    "        res = d = 0\n",
    "        while A or h:\n",
    "            if not h: d = A[-1][0]\n",
    "            while A and A[-1][0] <= d:\n",
    "                heapq.heappush(h, A.pop()[1])\n",
    "            heapq.heappop(h)\n",
    "            res += 1\n",
    "            d += 1\n",
    "            while h and h[0] < d:\n",
    "                heapq.heappop(h)\n",
    "        return res"
   ]
  }
 ],
 "metadata": {
  "kernelspec": {
   "display_name": "Python 3",
   "language": "python",
   "name": "python3"
  },
  "language_info": {
   "codemirror_mode": {
    "name": "ipython",
    "version": 3
   },
   "file_extension": ".py",
   "mimetype": "text/x-python",
   "name": "python",
   "nbconvert_exporter": "python",
   "pygments_lexer": "ipython3",
   "version": "3.8.3"
  }
 },
 "nbformat": 4,
 "nbformat_minor": 5
}
