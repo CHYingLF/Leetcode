{
 "cells": [
  {
   "cell_type": "code",
   "execution_count": null,
   "id": "emerging-hartford",
   "metadata": {},
   "outputs": [],
   "source": []
  },
  {
   "cell_type": "markdown",
   "id": "incomplete-campus",
   "metadata": {},
   "source": [
    "# Method 1"
   ]
  },
  {
   "cell_type": "markdown",
   "id": "vocal-cigarette",
   "metadata": {},
   "source": [
    "T=O(n), S=O(1)\n",
    "\n",
    "sliding window\n",
    "\n",
    "initialize res as len(nums)+1"
   ]
  },
  {
   "cell_type": "code",
   "execution_count": null,
   "id": "threaded-conclusion",
   "metadata": {},
   "outputs": [],
   "source": [
    "class Solution:\n",
    "    def minSubArrayLen(self, target: int, nums: List[int]) -> int:\n",
    "        n=len(nums)\n",
    "        l,res=0,n+1\n",
    "        \n",
    "        for r in range(len(nums)):\n",
    "            target-=nums[r]\n",
    "            \n",
    "            while target<=0:\n",
    "                res=min(res,r-l+1)\n",
    "                target+=nums[l]\n",
    "                l+=1\n",
    "                \n",
    "        return res%(n+1)"
   ]
  }
 ],
 "metadata": {
  "kernelspec": {
   "display_name": "Python 3",
   "language": "python",
   "name": "python3"
  },
  "language_info": {
   "codemirror_mode": {
    "name": "ipython",
    "version": 3
   },
   "file_extension": ".py",
   "mimetype": "text/x-python",
   "name": "python",
   "nbconvert_exporter": "python",
   "pygments_lexer": "ipython3",
   "version": "3.8.3"
  }
 },
 "nbformat": 4,
 "nbformat_minor": 5
}
