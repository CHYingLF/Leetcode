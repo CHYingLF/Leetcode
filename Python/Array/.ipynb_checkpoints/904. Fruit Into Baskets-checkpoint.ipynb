{
 "cells": [
  {
   "cell_type": "code",
   "execution_count": 33,
   "id": "written-denial",
   "metadata": {},
   "outputs": [
    {
     "data": {
      "text/plain": [
       "1"
      ]
     },
     "execution_count": 33,
     "metadata": {},
     "output_type": "execute_result"
    }
   ],
   "source": [
    "a=[0]*8\n",
    "a[1]=5\n",
    "a={}\n",
    "import collections\n",
    "a=collections.defaultdict(int)\n",
    "len(a)\n",
    "a[0]=1\n",
    "a[1]=2\n",
    "a[1]=0\n",
    "a.pop(1)\n",
    "len(a)\n"
   ]
  },
  {
   "cell_type": "markdown",
   "id": "surprising-youth",
   "metadata": {},
   "source": [
    "# Method 1\n",
    "\n",
    "1. Sliding windows\n",
    "\n",
    "2. Use a defaultdict to record number of items in between"
   ]
  },
  {
   "cell_type": "code",
   "execution_count": 36,
   "id": "compliant-concept",
   "metadata": {},
   "outputs": [
    {
     "data": {
      "text/plain": [
       "5"
      ]
     },
     "execution_count": 36,
     "metadata": {},
     "output_type": "execute_result"
    }
   ],
   "source": [
    "class Solution:\n",
    "    def totalFruit(self, fruits) -> int:\n",
    "        i,n=0,len(fruits)\n",
    "        count=collections.defaultdict(int)\n",
    "        \n",
    "        \n",
    "        for j,c in enumerate(fruits):\n",
    "            count[c]+=1 #count number of occurence inside the window\n",
    "            \n",
    "            if len(count)>=3: #move i simultaneously if len>=3\n",
    "                count[fruits[i]]-=1 #delete one occurence\n",
    "                if count[fruits[i]]==0: count.pop(fruits[i]) #pop out the fruit that has 0 occurence in the window\n",
    "                i+=1\n",
    "                    \n",
    "        return j-i+1 \n",
    "s=Solution()\n",
    "fruits=[3,3,3,1,2,1,1,2,3,3,4]\n",
    "#fruits=[1,2,1]\n",
    "s.totalFruit(fruits)"
   ]
  }
 ],
 "metadata": {
  "kernelspec": {
   "display_name": "Python 3",
   "language": "python",
   "name": "python3"
  },
  "language_info": {
   "codemirror_mode": {
    "name": "ipython",
    "version": 3
   },
   "file_extension": ".py",
   "mimetype": "text/x-python",
   "name": "python",
   "nbconvert_exporter": "python",
   "pygments_lexer": "ipython3",
   "version": "3.8.3"
  }
 },
 "nbformat": 4,
 "nbformat_minor": 5
}
