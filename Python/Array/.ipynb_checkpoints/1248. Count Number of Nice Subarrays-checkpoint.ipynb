{
 "cells": [
  {
   "cell_type": "code",
   "execution_count": 26,
   "id": "tribal-elder",
   "metadata": {},
   "outputs": [
    {
     "name": "stdout",
     "output_type": "stream",
     "text": [
      "0 0 0 0\n",
      "1 1 1 1\n"
     ]
    }
   ],
   "source": [
    "#bitwise operator\n",
    "print(6&1,4&1,8&1,0&1) #0&1=0\n",
    "print(5&1,1&1,3&1,9&1) #1&1"
   ]
  },
  {
   "cell_type": "markdown",
   "id": "treated-rugby",
   "metadata": {},
   "source": [
    "# Method 1"
   ]
  },
  {
   "cell_type": "markdown",
   "id": "outstanding-toilet",
   "metadata": {},
   "source": [
    "T=O(n)\n",
    "\n",
    "S=O(k)"
   ]
  },
  {
   "cell_type": "code",
   "execution_count": 2,
   "id": "quick-cathedral",
   "metadata": {},
   "outputs": [
    {
     "data": {
      "text/plain": [
       "13"
      ]
     },
     "execution_count": 2,
     "metadata": {},
     "output_type": "execute_result"
    }
   ],
   "source": [
    "import collections\n",
    "class Solution:\n",
    "    def numberOfSubarrays(self, nums, k: int) -> int:\n",
    "        left,res=-1,0 #left indicates the left odd value that is not counted in the current deque\n",
    "        dq=collections.deque()\n",
    "        \n",
    "        for i,c in enumerate(nums):\n",
    "            #print(i,dq,left,res)\n",
    "            if c%2 == 1: \n",
    "                if len(dq)==k: left=dq.popleft() #pop left if deque is already full\n",
    "                dq.append(i)\n",
    "            \n",
    "            if len(dq)==k: res+=(dq[0]-left) #count from left odd value\n",
    "                \n",
    "        return res\n",
    "                \n",
    "\n",
    "s=Solution()\n",
    "nums = [2,2,2,1,2,2,1,1,2,2]\n",
    "k = 2\n",
    "s.numberOfSubarrays(nums,k)"
   ]
  },
  {
   "cell_type": "markdown",
   "id": "protective-toddler",
   "metadata": {},
   "source": [
    "Actually two pointers, same as Method 2"
   ]
  },
  {
   "cell_type": "code",
   "execution_count": 7,
   "id": "useful-monitor",
   "metadata": {},
   "outputs": [
    {
     "data": {
      "text/plain": [
       "13"
      ]
     },
     "execution_count": 7,
     "metadata": {},
     "output_type": "execute_result"
    }
   ],
   "source": [
    "import collections\n",
    "class Solution:\n",
    "    def numberOfSubarrays(self, nums, k: int) -> int:\n",
    "        left=count=res=0 #left indicates the left odd value that is not counted in the current deque\n",
    "        \n",
    "        for i,c in enumerate(nums):\n",
    "            if c&1: \n",
    "                k-=1\n",
    "                count=0\n",
    "            while k==0:\n",
    "                k+=nums[left]&1\n",
    "                left+=1\n",
    "                count+=1\n",
    "            res+=count\n",
    "                \n",
    "        return res\n",
    "                \n",
    "\n",
    "s=Solution()\n",
    "nums = [2,2,2,1,2,2,1,1,2,2]\n",
    "k = 2\n",
    "s.numberOfSubarrays(nums,k)"
   ]
  },
  {
   "cell_type": "markdown",
   "id": "signed-direction",
   "metadata": {},
   "source": [
    "# Method 2*"
   ]
  },
  {
   "cell_type": "markdown",
   "id": "floppy-locking",
   "metadata": {},
   "source": [
    "T=O(n)\n",
    "\n",
    "**S=O(1)**"
   ]
  },
  {
   "cell_type": "code",
   "execution_count": 27,
   "id": "generic-harvest",
   "metadata": {},
   "outputs": [],
   "source": [
    "class Solution:\n",
    "    def numberOfSubarrays(self, nums, k: int) -> int:\n",
    "        count=res=i=0\n",
    "        \n",
    "        for j in range(len(nums)):\n",
    "            if nums[j] & 1:\n",
    "                k-=1 #reduce k whenever meet an odd number\n",
    "                count = 0\n",
    "            while k==0: #when k=0, means num(odd)=k, start counting subarray\n",
    "                k+=nums[i] & 1 #increment by 1 when meet left odd\n",
    "                i+=1\n",
    "                count+=1\n",
    "                \n",
    "            res+=count\n",
    "            \n",
    "        return res\n",
    "            "
   ]
  }
 ],
 "metadata": {
  "kernelspec": {
   "display_name": "Python 3",
   "language": "python",
   "name": "python3"
  },
  "language_info": {
   "codemirror_mode": {
    "name": "ipython",
    "version": 3
   },
   "file_extension": ".py",
   "mimetype": "text/x-python",
   "name": "python",
   "nbconvert_exporter": "python",
   "pygments_lexer": "ipython3",
   "version": "3.8.3"
  }
 },
 "nbformat": 4,
 "nbformat_minor": 5
}
