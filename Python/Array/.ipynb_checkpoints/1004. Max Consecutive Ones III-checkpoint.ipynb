{
 "cells": [
  {
   "cell_type": "code",
   "execution_count": 3,
   "id": "retired-commodity",
   "metadata": {},
   "outputs": [
    {
     "data": {
      "text/plain": [
       "0"
      ]
     },
     "execution_count": 3,
     "metadata": {},
     "output_type": "execute_result"
    }
   ],
   "source": []
  },
  {
   "cell_type": "markdown",
   "id": "continuous-manor",
   "metadata": {},
   "source": [
    "# Method 1"
   ]
  },
  {
   "cell_type": "markdown",
   "id": "fourth-natural",
   "metadata": {},
   "source": [
    "Sliding windows"
   ]
  },
  {
   "cell_type": "code",
   "execution_count": 7,
   "id": "opening-justice",
   "metadata": {},
   "outputs": [
    {
     "data": {
      "text/plain": [
       "6"
      ]
     },
     "execution_count": 7,
     "metadata": {},
     "output_type": "execute_result"
    }
   ],
   "source": [
    "class Solution:\n",
    "    def longestOnes(self, nums, k: int) -> int:\n",
    "        i=res=0\n",
    "        zeros=0\n",
    "        \n",
    "        for j,c in enumerate(nums):\n",
    "            zeros+=c^1\n",
    "            \n",
    "            while zeros==k+1:\n",
    "                zeros-=nums[i]^1\n",
    "                i+=1\n",
    "            res=max(res,j-i+1)\n",
    "            \n",
    "        return res\n",
    "\n",
    "nums = [0,0,1,1,0,0,1,1,1,0,1,1,0,0,0,1,1,1,1]\n",
    "k = 3\n",
    "\n",
    "nums = [1,1,1,0,0,0,1,1,1,1,0]\n",
    "k = 2\n",
    "\n",
    "s=Solution()\n",
    "s.longestOnes(nums,k)"
   ]
  },
  {
   "cell_type": "markdown",
   "id": "shared-mathematics",
   "metadata": {},
   "source": [
    "**Modified 1**\n",
    "\n",
    "Use k directly to record 0s"
   ]
  },
  {
   "cell_type": "code",
   "execution_count": 8,
   "id": "generic-element",
   "metadata": {},
   "outputs": [],
   "source": [
    "class Solution:\n",
    "    def longestOnes(self, nums, k: int) -> int:\n",
    "        i=res=0\n",
    "        \n",
    "        for j,c in enumerate(nums):\n",
    "            k-=c^1\n",
    "            \n",
    "            while k==-1:\n",
    "                k+=nums[i]^1\n",
    "                i+=1\n",
    "            \n",
    "            res=max(res,j-i+1)\n",
    "        return res"
   ]
  },
  {
   "cell_type": "markdown",
   "id": "employed-candidate",
   "metadata": {},
   "source": [
    "**Modified 2**\n",
    "\n",
    "Because the window size is already the valid maximum length, you don't need to save it in a separate variable. If K < 0, both i, j, will move forward together. that's how it keeps the current maximum window size. if K > 0, j is increased to expand the current window size to get a new maximum."
   ]
  },
  {
   "cell_type": "code",
   "execution_count": 12,
   "id": "banned-assault",
   "metadata": {},
   "outputs": [
    {
     "data": {
      "text/plain": [
       "6"
      ]
     },
     "execution_count": 12,
     "metadata": {},
     "output_type": "execute_result"
    }
   ],
   "source": [
    "class Solution:\n",
    "    def longestOnes(self, nums, k: int) -> int:\n",
    "        i=res=0\n",
    "        \n",
    "        for j in range(len(nums)):\n",
    "            k-=nums[j]^1 #count 0s\n",
    "            \n",
    "            if k<0: #move i at the same time if k<0\n",
    "                k+=nums[i]^1\n",
    "                i+=1\n",
    "            \n",
    "        return j-i+1\n",
    "    \n",
    "nums = [1,1,1,0,0,0,1,1,1,1,0]\n",
    "k = 2\n",
    "\n",
    "s=Solution()\n",
    "s.longestOnes(nums,k)"
   ]
  }
 ],
 "metadata": {
  "kernelspec": {
   "display_name": "Python 3",
   "language": "python",
   "name": "python3"
  },
  "language_info": {
   "codemirror_mode": {
    "name": "ipython",
    "version": 3
   },
   "file_extension": ".py",
   "mimetype": "text/x-python",
   "name": "python",
   "nbconvert_exporter": "python",
   "pygments_lexer": "ipython3",
   "version": "3.8.3"
  }
 },
 "nbformat": 4,
 "nbformat_minor": 5
}
