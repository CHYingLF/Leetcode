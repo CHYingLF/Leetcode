{
 "cells": [
  {
   "cell_type": "code",
   "execution_count": null,
   "id": "auburn-kitchen",
   "metadata": {},
   "outputs": [],
   "source": []
  },
  {
   "cell_type": "markdown",
   "id": "based-legislature",
   "metadata": {},
   "source": [
    "# Method 1\n",
    "\n",
    "B: store prefix sum of nums\n",
    "\n",
    "d: a deque, store possible index with inceasing order of elements in B\n",
    "\n",
    "***General idea***: \n",
    "\n",
    "1. B[j]-B[d[0]] is the sum of the subarray between A[d[0]] to A[j-1]. If this sum is larger than k, then res can be updated until sum is smaller than k.\n",
    "\n",
    "2. d stores index in increasing order such that B[d[1]]>B[d[0]], thus B[j]-B[d[0]]>B[j]-B[d[1]], thus if we violate the condition at j, then we are sure we will violate it for further than j in d.\n",
    "\n",
    "3. But we satisfy the condition at j, then we don't need d[0] anymore, because further than j, the subarray starting at d[0] will be longer. That is why  res=min(res,j-d.popleft()). "
   ]
  },
  {
   "cell_type": "code",
   "execution_count": null,
   "id": "known-daily",
   "metadata": {},
   "outputs": [],
   "source": [
    "class Solution:\n",
    "    def shortestSubarray(self, nums: List[int], k: int) -> int:\n",
    "        n=len(nums)\n",
    "        B=[0]*(n+1)\n",
    "        res=n+1\n",
    "        \n",
    "        for i in range(n):B[i+1]=B[i]+nums[i]\n",
    "            \n",
    "        d=collections.deque()\n",
    "        \n",
    "        for j in range(n+1):\n",
    "            while d and B[j]-B[d[0]]>=k: res=min(res,j-d.popleft())\n",
    "            while d and B[j]<=B[d[-1]]: d.pop()\n",
    "            \n",
    "            d.append(j)\n",
    "            \n",
    "        return res if res<=n else -1"
   ]
  }
 ],
 "metadata": {
  "kernelspec": {
   "display_name": "Python 3",
   "language": "python",
   "name": "python3"
  },
  "language_info": {
   "codemirror_mode": {
    "name": "ipython",
    "version": 3
   },
   "file_extension": ".py",
   "mimetype": "text/x-python",
   "name": "python",
   "nbconvert_exporter": "python",
   "pygments_lexer": "ipython3",
   "version": "3.8.3"
  }
 },
 "nbformat": 4,
 "nbformat_minor": 5
}
