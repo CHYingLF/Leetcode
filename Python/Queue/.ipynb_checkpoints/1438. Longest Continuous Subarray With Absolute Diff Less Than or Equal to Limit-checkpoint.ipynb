{
 "cells": [
  {
   "cell_type": "code",
   "execution_count": 3,
   "id": "criminal-breathing",
   "metadata": {},
   "outputs": [
    {
     "data": {
      "text/plain": [
       "3"
      ]
     },
     "execution_count": 3,
     "metadata": {},
     "output_type": "execute_result"
    }
   ],
   "source": [
    "import collections\n",
    "dq=collections.deque([1,2,3])\n",
    "dq[2]"
   ]
  },
  {
   "cell_type": "markdown",
   "id": "official-gallery",
   "metadata": {},
   "source": [
    "# Method 1"
   ]
  },
  {
   "cell_type": "markdown",
   "id": "registered-roller",
   "metadata": {},
   "source": [
    "T=O(n*k), S=O(n)"
   ]
  },
  {
   "cell_type": "code",
   "execution_count": 30,
   "id": "cubic-maintenance",
   "metadata": {},
   "outputs": [
    {
     "data": {
      "text/plain": [
       "4"
      ]
     },
     "execution_count": 30,
     "metadata": {},
     "output_type": "execute_result"
    }
   ],
   "source": [
    "import collections\n",
    "class Solution:\n",
    "    def longestSubarray(self, nums, limit: int) -> int:\n",
    "        dq=collections.deque()\n",
    "        dq.append(0)\n",
    "        p, q, out=nums[0], nums[0], 1 #p min, q max\n",
    "        \n",
    "        for i in range(1,len(nums)):\n",
    "            if abs(nums[i]-p)>limit or abs(nums[i]-q)>limit:\n",
    "                j=len(dq)-1\n",
    "                p=q=nums[i]\n",
    "                while j>=0 and abs(nums[i]-nums[dq[j]])<=limit : \n",
    "                                  p,q=min(p,nums[dq[j]]),max(q,nums[dq[j]])\n",
    "                                  j-=1\n",
    "                for k in range(j+1): dq.popleft()\n",
    "            \n",
    "                \n",
    "            dq.append(i)\n",
    "            p,q=min(p,nums[i]),max(q,nums[i])\n",
    "            out=max(out,i-dq[0]+1)\n",
    "            #print(dq,[nums[m] for m in dq],p,q)\n",
    "            \n",
    "        return out\n",
    "    \n",
    "nums = [10,1,2,4,7,2]\n",
    "limit = 5\n",
    "\n",
    "s=Solution()\n",
    "s.longestSubarray(nums,limit)"
   ]
  },
  {
   "cell_type": "markdown",
   "id": "previous-berkeley",
   "metadata": {},
   "source": [
    "# Method 2*"
   ]
  },
  {
   "cell_type": "markdown",
   "id": "liable-wesley",
   "metadata": {},
   "source": [
    "T=O(n), S=(n)\n",
    "\n",
    "nums = [1, 3, 5, -3, 2, 4, 6, 7], limit = 5\n",
    "\n",
    "The answer is 4 and the specific window is [2, 4, 6, 7].\n",
    "\n",
    "Let's go through the process:\n",
    "\n",
    "First, it's easy to see that the window will grow to [1,3,5]. When we see -3, we know that the window doesn't grow because 5 - (-3) > 5. **Instead, the window slides right and its length doesn't change.** So the window now is [3,5,-3]. So the left bound i has to be incremented by 1 because the right bound was incremented by 1 too. **The window can start growing (meaning i doesn't need to be increased) again when max - min <= limit** which happens when the window is at [2,4,6], so the final answer is 4 ([2,4,6,7)].\n",
    "\n",
    "1. Keep the maximum length of the window, slide it when fails, grow it when qualifies. "
   ]
  },
  {
   "cell_type": "code",
   "execution_count": 1,
   "id": "catholic-finger",
   "metadata": {},
   "outputs": [],
   "source": [
    "class Solution:\n",
    "    def longestSubarray(self, nums, limit: int) -> int:\n",
    "        minq=collections.deque() #ascening order\n",
    "        maxq=collections.deque() #descending order\n",
    "        i=0\n",
    "        \n",
    "        for v in nums:\n",
    "            while minq and v<minq[-1]:\n",
    "                minq.pop()\n",
    "            while maxq and v>maxq[-1]:\n",
    "                maxq.pop()\n",
    "                \n",
    "            minq.append(v)\n",
    "            maxq.append(v)\n",
    "            \n",
    "            if maxq[0]-minq[0]>limit:\n",
    "                if nums[i]==maxq[0]: maxq.popleft()\n",
    "                if nums[i]==minq[0]: minq.popleft()\n",
    "                i+=1 #slide the window when fails, so can keep the length of the widest window.\n",
    "                \n",
    "        return len(nums)-i #the final window will end at last element, and i is the start of the final window."
   ]
  }
 ],
 "metadata": {
  "kernelspec": {
   "display_name": "Python 3",
   "language": "python",
   "name": "python3"
  },
  "language_info": {
   "codemirror_mode": {
    "name": "ipython",
    "version": 3
   },
   "file_extension": ".py",
   "mimetype": "text/x-python",
   "name": "python",
   "nbconvert_exporter": "python",
   "pygments_lexer": "ipython3",
   "version": "3.8.3"
  }
 },
 "nbformat": 4,
 "nbformat_minor": 5
}
