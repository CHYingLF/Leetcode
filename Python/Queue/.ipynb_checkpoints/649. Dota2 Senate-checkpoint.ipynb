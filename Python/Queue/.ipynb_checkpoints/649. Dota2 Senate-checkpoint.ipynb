{
 "cells": [
  {
   "cell_type": "code",
   "execution_count": 10,
   "id": "hired-transcript",
   "metadata": {},
   "outputs": [],
   "source": []
  },
  {
   "cell_type": "markdown",
   "id": "affiliated-force",
   "metadata": {},
   "source": [
    "# Method 1*"
   ]
  },
  {
   "cell_type": "markdown",
   "id": "outdoor-explanation",
   "metadata": {},
   "source": [
    "Simulate the process. We don't have to resolve bans until later - we can just let them \"float\".\n",
    "\n",
    "We have people = [int, int] representing how many people are in the queue, and bans = [int, int] representing how many \"floating\" bans there are. When we meet a person, if there is a floating ban waiting for them, then they are banned and we skip them. Eventually, the queue will just have one type of person, which is when we break.\n",
    "\n",
    "1. collections.deque() for queue in python\n",
    "2. \"^\" change 0 and 1 to its opposite\n",
    "3. all(list) return false when there is 0 or null inside"
   ]
  },
  {
   "cell_type": "code",
   "execution_count": null,
   "id": "proprietary-relative",
   "metadata": {},
   "outputs": [],
   "source": [
    "class Solution:\n",
    "    def predictPartyVictory(self, senate: str) -> str:\n",
    "        A=collections.deque()\n",
    "        \n",
    "        people, bans=[0,0], [0,0]\n",
    "        \n",
    "        for s in senate:\n",
    "            x=s=='R'\n",
    "            people[x]+=1\n",
    "            A.append(x)\n",
    "            \n",
    "        while all(people):\n",
    "            x=A.popleft()\n",
    "            \n",
    "            people[x]-=1\n",
    "            \n",
    "            if bans[x]:\n",
    "                bans[x]-=1\n",
    "            else:\n",
    "                bans[x^1]+=1\n",
    "                people[x]+=1\n",
    "                A.append(x)        \n",
    "        \n",
    "        return \"Radiant\" if people[1] else \"Dire\""
   ]
  },
  {
   "cell_type": "markdown",
   "id": "imported-lingerie",
   "metadata": {},
   "source": [
    "# Method 2*"
   ]
  },
  {
   "cell_type": "markdown",
   "id": "devoted-particular",
   "metadata": {},
   "source": [
    "Save indexes of R and D. Iterate over two queues and decide who is going to be banned. Whoever left added to the next round by adding n to it's index.\n",
    "\n",
    "1. Compare indexes to decide which will be baned. "
   ]
  },
  {
   "cell_type": "code",
   "execution_count": null,
   "id": "suffering-binding",
   "metadata": {},
   "outputs": [],
   "source": [
    "class Solution:\n",
    "    def predictPartyVictory(self, senate: str) -> str:\n",
    "        R=collections.deque()\n",
    "        D=collections.deque()\n",
    "        n=len(senate)\n",
    "        \n",
    "        for i in range(n):\n",
    "            if senate[i]=='R':\n",
    "                R.append(i)\n",
    "            else:\n",
    "                D.append(i)\n",
    "                \n",
    "        while R and D:\n",
    "            r,d=R.popleft(),D.popleft()\n",
    "            \n",
    "            if r<d:\n",
    "                R.append(r+n)\n",
    "            else:\n",
    "                D.append(d+n)\n",
    "                \n",
    "        return \"Radiant\" if R else \"Dire\""
   ]
  }
 ],
 "metadata": {
  "kernelspec": {
   "display_name": "Python 3",
   "language": "python",
   "name": "python3"
  },
  "language_info": {
   "codemirror_mode": {
    "name": "ipython",
    "version": 3
   },
   "file_extension": ".py",
   "mimetype": "text/x-python",
   "name": "python",
   "nbconvert_exporter": "python",
   "pygments_lexer": "ipython3",
   "version": "3.8.3"
  }
 },
 "nbformat": 4,
 "nbformat_minor": 5
}
