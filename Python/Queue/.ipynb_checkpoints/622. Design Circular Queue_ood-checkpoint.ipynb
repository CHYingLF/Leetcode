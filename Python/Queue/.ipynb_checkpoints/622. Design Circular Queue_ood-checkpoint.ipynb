{
 "cells": [
  {
   "cell_type": "code",
   "execution_count": null,
   "id": "metropolitan-index",
   "metadata": {},
   "outputs": [],
   "source": []
  },
  {
   "cell_type": "markdown",
   "id": "attractive-valuation",
   "metadata": {},
   "source": [
    "# Method 1"
   ]
  },
  {
   "cell_type": "markdown",
   "id": "structural-brighton",
   "metadata": {},
   "source": [
    "shift the whole list every deque\n",
    "\n",
    "T=O(n), S=o(n)"
   ]
  },
  {
   "cell_type": "code",
   "execution_count": 12,
   "id": "acting-experiment",
   "metadata": {},
   "outputs": [],
   "source": [
    "class MyCircularQueue:\n",
    "\n",
    "    def __init__(self, k: int):\n",
    "        self.q=[None]*k\n",
    "        self.i,self.n=0,k\n",
    "\n",
    "    def enQueue(self, value: int) -> bool:\n",
    "        if self.i<self.n: \n",
    "            self.q[self.i]=value\n",
    "            self.i+=1\n",
    "            return True\n",
    "        else:\n",
    "            return False\n",
    "\n",
    "    def deQueue(self) -> bool:\n",
    "        if self.i>0:\n",
    "            self.q[0]=None\n",
    "            self.q=self.q[1:]+[None]\n",
    "            self.i-=1\n",
    "            return True\n",
    "        else:\n",
    "            return False\n",
    "\n",
    "    def Front(self) -> int:\n",
    "        return self.q[0] if self.i>0 else -1\n",
    "\n",
    "    def Rear(self) -> int:\n",
    "        return self.q[self.i] if self.i>0 else -1\n",
    "    \n",
    "    def isEmpty(self) -> bool:\n",
    "        return self.i==0\n",
    "\n",
    "    def isFull(self) -> bool:\n",
    "        return self.i==self.n"
   ]
  },
  {
   "cell_type": "markdown",
   "id": "portuguese-precipitation",
   "metadata": {},
   "source": [
    "# Method 2"
   ]
  },
  {
   "cell_type": "markdown",
   "id": "executed-dietary",
   "metadata": {},
   "source": [
    "Use front and rear to locate the index"
   ]
  },
  {
   "cell_type": "code",
   "execution_count": 13,
   "id": "loved-gnome",
   "metadata": {},
   "outputs": [],
   "source": [
    "class MyCircularQueue:\n",
    "\n",
    "    def __init__(self, k: int):\n",
    "        self.q=[0]*k\n",
    "        self.size,self.max_size=0,k\n",
    "        self.front=self.rear=-1\n",
    "        \n",
    "    def enQueue(self, value: int) -> bool:\n",
    "        if self.size==self.max_size: return False\n",
    "        if self.rear==-1:\n",
    "            self.rear=self.front=0\n",
    "        else:\n",
    "            self.rear=(self.rear+1)%self.max_size\n",
    "            \n",
    "        self.q[self.rear]=value\n",
    "        self.size+=1\n",
    "        \n",
    "        return True\n",
    "        \n",
    "    def deQueue(self) -> bool:\n",
    "        if self.size==0:return False\n",
    "        if self.front==self.rear:\n",
    "            self.front=self.rear=-1\n",
    "        else:\n",
    "            self.front=(self.front+1)%self.max_size\n",
    "            \n",
    "        self.size-=1\n",
    "        return True\n",
    "        \n",
    "\n",
    "    def Front(self) -> int:\n",
    "        return self.q[self.front] if self.size>0 else -1  #concise\n",
    "\n",
    "    def Rear(self) -> int:\n",
    "        return self.q[self.rear] if self.size>0 else -1\n",
    "\n",
    "    def isEmpty(self) -> bool:\n",
    "        return self.size==0\n",
    "\n",
    "    def isFull(self) -> bool:\n",
    "        return self.size==self.max_size"
   ]
  },
  {
   "cell_type": "markdown",
   "id": "surgical-clock",
   "metadata": {},
   "source": [
    "More concise\n",
    "\n",
    "1. use self function to proceed\n",
    "\n",
    "2. do not need to start from -1"
   ]
  },
  {
   "cell_type": "code",
   "execution_count": 2,
   "id": "three-prophet",
   "metadata": {},
   "outputs": [],
   "source": [
    "class MyCircularQueue:\n",
    "\n",
    "    def __init__(self, k: int):\n",
    "        self.q=[0]*k\n",
    "        self.size=0\n",
    "        self.front=self.rear=0\n",
    "        \n",
    "    def enQueue(self, value: int) -> bool:\n",
    "        if self.isFull(): return False\n",
    "        self.rear=(self.rear+1)%len(self.q)\n",
    "        self.q[self.rear-1]=value #start from 0\n",
    "        self.size+=1\n",
    "        return True\n",
    "        \n",
    "    def deQueue(self) -> bool:\n",
    "        if self.isEmpty(): return False\n",
    "        self.front=(self.front+1)%len(self.q)\n",
    "        self.size-=1\n",
    "        return True\n",
    "        \n",
    "\n",
    "    def Front(self) -> int:\n",
    "        return -1 if self.isEmpty() else self.q[self.front]\n",
    "\n",
    "    def Rear(self) -> int:\n",
    "        return -1 if self.isEmpty() else self.q[self.rear-1] # back 1 to get rear\n",
    "\n",
    "    def isEmpty(self) -> bool:\n",
    "        return self.size==0\n",
    "\n",
    "    def isFull(self) -> bool:\n",
    "        return self.size==len(self.q)"
   ]
  }
 ],
 "metadata": {
  "kernelspec": {
   "display_name": "Python 3",
   "language": "python",
   "name": "python3"
  },
  "language_info": {
   "codemirror_mode": {
    "name": "ipython",
    "version": 3
   },
   "file_extension": ".py",
   "mimetype": "text/x-python",
   "name": "python",
   "nbconvert_exporter": "python",
   "pygments_lexer": "ipython3",
   "version": "3.8.3"
  }
 },
 "nbformat": 4,
 "nbformat_minor": 5
}
