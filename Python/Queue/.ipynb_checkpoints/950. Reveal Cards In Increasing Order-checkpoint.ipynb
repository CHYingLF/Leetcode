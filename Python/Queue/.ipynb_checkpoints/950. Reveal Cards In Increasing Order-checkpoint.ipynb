{
 "cells": [
  {
   "cell_type": "code",
   "execution_count": null,
   "id": "considered-polyester",
   "metadata": {},
   "outputs": [],
   "source": []
  },
  {
   "cell_type": "markdown",
   "id": "deluxe-parameter",
   "metadata": {},
   "source": [
    "# Method 1"
   ]
  },
  {
   "cell_type": "markdown",
   "id": "unauthorized-politics",
   "metadata": {},
   "source": [
    "From the example, a patter could be found if one go from backwards.\n",
    "\n",
    "1. each time rotate the last element to the first, and append a the next biggest number to the left.\n",
    "2. find pattern from smallest to largest, backwards etc. \n",
    "\n",
    "Time complexity:\n",
    "O(NlogN) to sort,\n",
    "O(N) to construct using deque or queue."
   ]
  },
  {
   "cell_type": "code",
   "execution_count": 2,
   "id": "aboriginal-constraint",
   "metadata": {},
   "outputs": [
    {
     "data": {
      "text/plain": [
       "deque([2, 13, 3, 11, 5, 17, 7])"
      ]
     },
     "execution_count": 2,
     "metadata": {},
     "output_type": "execute_result"
    }
   ],
   "source": [
    "import collections\n",
    "class Solution:\n",
    "    def deckRevealedIncreasing(self, deck):\n",
    "        array=collections.deque()\n",
    "        deck.sort(reverse=True)\n",
    "        \n",
    "        for card in deck:\n",
    "            if array:\n",
    "                array.appendleft(array.pop())\n",
    "                \n",
    "            array.appendleft(card)\n",
    "            \n",
    "        return array\n",
    "\n",
    "s=Solution()\n",
    "deck=[17,13,11,2,3,5,7]\n",
    "s.deckRevealedIncreasing(deck)"
   ]
  }
 ],
 "metadata": {
  "kernelspec": {
   "display_name": "Python 3",
   "language": "python",
   "name": "python3"
  },
  "language_info": {
   "codemirror_mode": {
    "name": "ipython",
    "version": 3
   },
   "file_extension": ".py",
   "mimetype": "text/x-python",
   "name": "python",
   "nbconvert_exporter": "python",
   "pygments_lexer": "ipython3",
   "version": "3.8.3"
  }
 },
 "nbformat": 4,
 "nbformat_minor": 5
}
