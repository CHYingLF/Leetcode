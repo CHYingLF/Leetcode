{
 "cells": [
  {
   "cell_type": "code",
   "execution_count": null,
   "id": "charged-train",
   "metadata": {},
   "outputs": [],
   "source": []
  },
  {
   "cell_type": "markdown",
   "id": "optimum-liability",
   "metadata": {},
   "source": [
    "Keep indexes of good candidates in deque d. The indexes in d are from the current window, they're increasing, and their corresponding nums are decreasing. Then the first deque element is the index of the largest window value.\n",
    "\n",
    "For each index i:\n",
    "\n",
    "1. Pop (from the end) indexes of smaller elements (they'll be useless).\n",
    "2. Append the current index.\n",
    "3. Pop (from the front) the index i - k, if it's still in the deque (it falls out of the window).\n",
    "4. If our window has reached size k, append the current window maximum to the output.\n"
   ]
  },
  {
   "cell_type": "code",
   "execution_count": 9,
   "id": "green-college",
   "metadata": {},
   "outputs": [
    {
     "data": {
      "text/plain": [
       "[7, 4]"
      ]
     },
     "execution_count": 9,
     "metadata": {},
     "output_type": "execute_result"
    }
   ],
   "source": [
    "import collections\n",
    "class Solution:\n",
    "    def maxSlidingWindow(self, nums, k: int):\n",
    "        deque=collections.deque()\n",
    "        out=[]\n",
    "        \n",
    "        for i,v in enumerate(nums):\n",
    "            while deque and nums[deque[-1]]<v: #pop elements that are smaller than current \n",
    "                deque.pop()\n",
    "                \n",
    "            deque.append(i)\n",
    "            if deque[0]+k==i: #slide window\n",
    "                deque.popleft() #pop left when len of the window larger than k\n",
    "            if i>k-2:\n",
    "                out+=[nums[deque[0]]] #record value when ready\n",
    "            \n",
    "        return out\n",
    "    \n",
    "s=Solution()\n",
    "s.maxSlidingWindow([7,2,4],2)"
   ]
  }
 ],
 "metadata": {
  "kernelspec": {
   "display_name": "Python 3",
   "language": "python",
   "name": "python3"
  },
  "language_info": {
   "codemirror_mode": {
    "name": "ipython",
    "version": 3
   },
   "file_extension": ".py",
   "mimetype": "text/x-python",
   "name": "python",
   "nbconvert_exporter": "python",
   "pygments_lexer": "ipython3",
   "version": "3.8.3"
  }
 },
 "nbformat": 4,
 "nbformat_minor": 5
}
