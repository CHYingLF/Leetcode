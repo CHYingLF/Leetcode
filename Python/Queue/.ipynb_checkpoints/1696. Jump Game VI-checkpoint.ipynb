{
 "cells": [
  {
   "cell_type": "code",
   "execution_count": null,
   "id": "norwegian-treatment",
   "metadata": {},
   "outputs": [],
   "source": []
  },
  {
   "cell_type": "markdown",
   "id": "interstate-share",
   "metadata": {},
   "source": [
    "# Method 1*"
   ]
  },
  {
   "cell_type": "markdown",
   "id": "personalized-chicken",
   "metadata": {},
   "source": [
    "Let dp[i] is the maximum score we can get when ending at index i.\n",
    "\n",
    "\n",
    "Base case: dp[0] = nums[0], we start at index 0\n",
    "\n",
    "\n",
    "State transfer equation:\n",
    "\n",
    "\n",
    "1. If we have already computed dp[0], dp[1], ..., dp[i-1], how can we compute dp[i]?\n",
    "\n",
    "\n",
    "2. Since we can jump at most k steps, to arrive index i, we must jump from one of indices [i-k, i-k+1, ..., i-1].\n",
    "\n",
    "\n",
    "3. So dp[i] = max(dp[i-k], dp[i-k+1], ..., dp[i-1]) + nums[i].\n",
    "\n",
    "\n",
    "Finally, dp[n-1] is the maximum score when reaching the last index of the array, index n-1."
   ]
  },
  {
   "cell_type": "code",
   "execution_count": 27,
   "id": "indian-incident",
   "metadata": {},
   "outputs": [
    {
     "name": "stdout",
     "output_type": "stream",
     "text": [
      "1 [1]\n",
      "2 [1, 0]\n",
      "3 [0, -1]\n",
      "4 [-1, 4]\n",
      "5 [4, -3]\n"
     ]
    },
    {
     "data": {
      "text/plain": [
       "7"
      ]
     },
     "execution_count": 27,
     "metadata": {},
     "output_type": "execute_result"
    }
   ],
   "source": [
    "class Solution:\n",
    "    def maxResult(self, nums, k: int) -> int:\n",
    "        res=[nums[0]]*len(nums)\n",
    "        \n",
    "        for i in range(1,len(nums)):\n",
    "            print(i,res[max(0,i-k):i])\n",
    "            res[i]=nums[i]+max(res[max(0,i-k):i])\n",
    "            \n",
    "        return res[-1]\n",
    "\n",
    "s=Solution()\n",
    "\n",
    "#nums=[100,-100,-300,-300,-300,-100,100]\n",
    "\n",
    "nums=[1,-1,-2,4,-7,3]\n",
    "s.maxResult(nums,2)"
   ]
  },
  {
   "cell_type": "markdown",
   "id": "ranking-criticism",
   "metadata": {},
   "source": [
    "Recursive"
   ]
  },
  {
   "cell_type": "code",
   "execution_count": 44,
   "id": "found-battle",
   "metadata": {},
   "outputs": [
    {
     "data": {
      "text/plain": [
       "7"
      ]
     },
     "execution_count": 44,
     "metadata": {},
     "output_type": "execute_result"
    }
   ],
   "source": [
    "class Solution:\n",
    "    def maxResult(self, nums, k: int) -> int:\n",
    "        dp=nums[:] \n",
    "        \n",
    "        def find(i):\n",
    "            if i==0: return nums[0]\n",
    "            \n",
    "            return dp[i]+max(find(j) for j in range(max(0,i-k),i))\n",
    "            \n",
    "        return find(len(nums)-1)\n",
    "\n",
    "s=Solution()\n",
    "\n",
    "#nums=[100,-100,-300,-300,-300,-100,100,500,100,-100]\n",
    "#k=4\n",
    "#nums = [10,-5,-2,4,0,3]\n",
    "#k = 3\n",
    "nums=[1,-1,-2,4,-7,3]\n",
    "k=2\n",
    "s.maxResult(nums,k)"
   ]
  },
  {
   "cell_type": "markdown",
   "id": "verbal-carolina",
   "metadata": {},
   "source": [
    "# Method 2*"
   ]
  },
  {
   "cell_type": "markdown",
   "id": "requested-founder",
   "metadata": {},
   "source": [
    "*Dynamic Programming + Decreasing Deque (Accepted)*\n",
    "\n",
    "We need a way to get a maximum value in range [dp[i-k], dp[i-k+1], ..., dp[i-1]] better than O(K) to avoid Time Limit Exceeded.\n",
    "This is the same with problem 239. Maximum in Sliding Window Size K problem.\n",
    "\n",
    "There are total 3 ways:\n",
    "By using MaxHeap, it costs O(logN)\n",
    "By using TreeMap, it costs O(logK)\n",
    "By using Decreasing Deque, it costs O(1)\n",
    "\n",
    "In Decreasing Deque approach:\n",
    "* We used a deque to store indices of nums elements, elements is in decreasing order, the front is the maximum element.\n",
    "\n",
    "* When adding a new number nums[i], we eliminate elements which is less or equal to nums[i] in deque, which will never be chosen in the future.\n",
    "\n",
    "* Push index of current nums[i] to back of the deque.\n",
    "\n",
    "* If the last element in deque is out of range K then remove it."
   ]
  },
  {
   "cell_type": "code",
   "execution_count": 17,
   "id": "virgin-relative",
   "metadata": {},
   "outputs": [
    {
     "data": {
      "text/plain": [
       "0"
      ]
     },
     "execution_count": 17,
     "metadata": {},
     "output_type": "execute_result"
    }
   ],
   "source": [
    "import collections\n",
    "class Solution:\n",
    "    def maxResult(self, nums, k: int) -> int:\n",
    "        dq=collections.deque()\n",
    "        dq.append(0) # 0 must be started first \n",
    "        \n",
    "        for i in range(1,len(nums)):\n",
    "            # nums[i] = max(nums[i-k], nums[i-k+1],.., nums[i-1]) + nums[i] = nums[dq.front()] + nums[i]\n",
    "            nums[i]=nums[i]+nums[dq[0]]  \n",
    "            \n",
    "            # Eliminate elements less or equal to nums[i], which will never be chosen in the future\n",
    "            while dq and nums[i]>=nums[dq[-1]] : dq.pop()\n",
    "            \n",
    "            # Add nums[i] to the deq\n",
    "            dq.append(i)\n",
    "            \n",
    "            # Remove if the last element is out of window size k\n",
    "            if dq[0]+k==i : dq.popleft()\n",
    "            \n",
    "        return nums[-1]\n",
    "\n",
    "s=Solution()\n",
    "\n",
    "nums=[100,-100,-300,-300,-300,-100,100]\n",
    "\n",
    "#nums=[1,-1,-2,4,-7,3]\n",
    "s.maxResult(nums,4)"
   ]
  }
 ],
 "metadata": {
  "kernelspec": {
   "display_name": "Python 3",
   "language": "python",
   "name": "python3"
  },
  "language_info": {
   "codemirror_mode": {
    "name": "ipython",
    "version": 3
   },
   "file_extension": ".py",
   "mimetype": "text/x-python",
   "name": "python",
   "nbconvert_exporter": "python",
   "pygments_lexer": "ipython3",
   "version": "3.8.3"
  }
 },
 "nbformat": 4,
 "nbformat_minor": 5
}
