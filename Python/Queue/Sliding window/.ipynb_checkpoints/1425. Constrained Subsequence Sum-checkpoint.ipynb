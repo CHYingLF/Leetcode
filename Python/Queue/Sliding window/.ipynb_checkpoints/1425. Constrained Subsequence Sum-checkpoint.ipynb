{
 "cells": [
  {
   "cell_type": "code",
   "execution_count": null,
   "id": "affected-aaron",
   "metadata": {},
   "outputs": [],
   "source": []
  },
  {
   "cell_type": "code",
   "execution_count": null,
   "id": "tested-dollar",
   "metadata": {},
   "outputs": [],
   "source": []
  },
  {
   "cell_type": "code",
   "execution_count": 2,
   "id": "utility-nursing",
   "metadata": {},
   "outputs": [
    {
     "data": {
      "text/plain": [
       "1"
      ]
     },
     "execution_count": 2,
     "metadata": {},
     "output_type": "execute_result"
    }
   ],
   "source": [
    "import collections\n",
    "class Solution:\n",
    "    def constrainedSubsetSum(self, nums, k: int) -> int:\n",
    "        nums=[0]+nums\n",
    "        out=nums[0]\n",
    "        dq=collections.deque([0])\n",
    "        \n",
    "        for i in range(1,len(nums)):\n",
    "            nums[i]=nums[i]+max(nums[dq[0]],0) #upate nums[i] to be the largest sum can be\n",
    "            out=max(out, nums[i])\n",
    "            \n",
    "            while dq and nums[dq[-1]]<nums[i]: #update dq, pop until no value is smaller than nums[i]\n",
    "                dq.pop()\n",
    "                \n",
    "            dq.append(i)\n",
    "            if dq[0]+k-1<i: dq.popleft() #pop if reach the length\n",
    "        return out\n",
    "    \n",
    "nums = [10,-2,-10,-5,20]\n",
    "k = 2\n",
    "\n",
    "nums = [-1,-2,-3,1]\n",
    "k = 2\n",
    "s=Solution()\n",
    "s.constrainedSubsetSum(nums,k)"
   ]
  }
 ],
 "metadata": {
  "kernelspec": {
   "display_name": "Python 3",
   "language": "python",
   "name": "python3"
  },
  "language_info": {
   "codemirror_mode": {
    "name": "ipython",
    "version": 3
   },
   "file_extension": ".py",
   "mimetype": "text/x-python",
   "name": "python",
   "nbconvert_exporter": "python",
   "pygments_lexer": "ipython3",
   "version": "3.8.3"
  }
 },
 "nbformat": 4,
 "nbformat_minor": 5
}
