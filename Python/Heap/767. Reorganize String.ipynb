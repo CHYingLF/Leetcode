{
 "cells": [
  {
   "cell_type": "code",
   "execution_count": 46,
   "id": "stretch-alexandria",
   "metadata": {},
   "outputs": [
    {
     "name": "stdout",
     "output_type": "stream",
     "text": [
      "aaabbbaaaaaabbbaaa\n"
     ]
    },
    {
     "data": {
      "text/plain": [
       "[[-6, 'a'], [-3, 'b']]"
      ]
     },
     "execution_count": 46,
     "metadata": {},
     "output_type": "execute_result"
    }
   ],
   "source": [
    "a='aaabbbaaa'\n",
    "print(2*a)\n",
    "b=collections.Counter(a)\n",
    "c=[[-b[d],d] for d in b]\n",
    "import heapq\n",
    "heapq.heapify(c)\n",
    "c"
   ]
  },
  {
   "cell_type": "markdown",
   "id": "optical-lincoln",
   "metadata": {},
   "source": [
    "# Method 1*"
   ]
  },
  {
   "cell_type": "code",
   "execution_count": 45,
   "id": "excited-infection",
   "metadata": {},
   "outputs": [
    {
     "name": "stdout",
     "output_type": "stream",
     "text": [
      "[[-2, 'a'], [-1, 'b']]\n",
      "[-2, 'a']\n",
      "[-1, 'b']\n",
      "[-1, 'a']\n"
     ]
    },
    {
     "data": {
      "text/plain": [
       "'aba'"
      ]
     },
     "execution_count": 45,
     "metadata": {},
     "output_type": "execute_result"
    }
   ],
   "source": [
    "class Solution:\n",
    "    def reorganizeString(self, s: str) -> str:\n",
    "        freq=collections.Counter(s)\n",
    "        count=[[-freq[f],f] for f in freq]\n",
    "        res=''\n",
    "        prev=None\n",
    "        \n",
    "        heapq.heapify(count)\n",
    "        print(count)\n",
    "        while count:\n",
    "            cur=heapq.heappop(count)\n",
    "            print(cur)\n",
    "            res+=cur[1]\n",
    "            cur[0]+=1\n",
    "            \n",
    "            if prev:\n",
    "                heapq.heappush(count,prev)\n",
    "            \n",
    "            if cur[0]<0:\n",
    "                prev=cur\n",
    "            else:\n",
    "                prev=None\n",
    "                \n",
    "        return res\n",
    "s=Solution()\n",
    "s.reorganizeString('aab')"
   ]
  }
 ],
 "metadata": {
  "kernelspec": {
   "display_name": "Python 3",
   "language": "python",
   "name": "python3"
  },
  "language_info": {
   "codemirror_mode": {
    "name": "ipython",
    "version": 3
   },
   "file_extension": ".py",
   "mimetype": "text/x-python",
   "name": "python",
   "nbconvert_exporter": "python",
   "pygments_lexer": "ipython3",
   "version": "3.8.3"
  }
 },
 "nbformat": 4,
 "nbformat_minor": 5
}
