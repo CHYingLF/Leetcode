{
 "cells": [
  {
   "cell_type": "code",
   "execution_count": 5,
   "id": "nasty-honduras",
   "metadata": {},
   "outputs": [
    {
     "name": "stdout",
     "output_type": "stream",
     "text": [
      "(1, 4)\n",
      "(1, 5)\n",
      "(1, 6)\n",
      "(2, 4)\n",
      "(2, 5)\n",
      "(2, 6)\n",
      "(3, 4)\n",
      "(3, 5)\n",
      "(3, 6)\n"
     ]
    }
   ],
   "source": [
    "a=[(1,2,3),(2,3,4),(3,4,5),(0,1,2)]\n",
    "import heapq\n",
    "heapq.heapify(a)\n",
    "#==================================================\n",
    "import itertools\n",
    "n1=[1,2,3]\n",
    "n2=[4,5,6]\n",
    "for s in itertools.product(n1,n2):print(s)"
   ]
  },
  {
   "cell_type": "markdown",
   "id": "qualified-dollar",
   "metadata": {},
   "source": [
    "# Method 1*"
   ]
  },
  {
   "cell_type": "markdown",
   "id": "fitted-canberra",
   "metadata": {},
   "source": [
    "Sorted\n",
    "\n",
    "itertools.product(nums1,nums2) henerate pairs"
   ]
  },
  {
   "cell_type": "code",
   "execution_count": null,
   "id": "naughty-artist",
   "metadata": {},
   "outputs": [],
   "source": [
    "class Solution:\n",
    "    def kSmallestPairs(self, nums1: List[int], nums2: List[int], k: int) -> List[List[int]]:\n",
    "        return sorted(itertools.product(nums1,nums2),key=sum)[:k]"
   ]
  },
  {
   "cell_type": "markdown",
   "id": "unable-burning",
   "metadata": {},
   "source": [
    "Heap\n",
    "\n",
    "heapq.nsmallest"
   ]
  },
  {
   "cell_type": "code",
   "execution_count": null,
   "id": "invisible-grove",
   "metadata": {},
   "outputs": [],
   "source": [
    "class Solution:\n",
    "    def kSmallestPairs(self, nums1: List[int], nums2: List[int], k: int) -> List[List[int]]:\n",
    "        return heapq.nsmallest(k,itertools.product(nums1,nums2),key=sum)"
   ]
  },
  {
   "cell_type": "markdown",
   "id": "effective-artwork",
   "metadata": {},
   "source": []
  },
  {
   "cell_type": "code",
   "execution_count": null,
   "id": "invalid-scene",
   "metadata": {},
   "outputs": [],
   "source": [
    "class Solution():\n",
    "    def kSmallestPairs(self, nums1, nums2, k):\n",
    "        streams=map(lambda u: ([u+v,u,v] for v in nums2),nums1 )\n",
    "        streams=heapq.merge(*streams)\n",
    "        \n",
    "        return [suv[1:] for suv in itertools.islice(streams,k)]"
   ]
  },
  {
   "cell_type": "markdown",
   "id": "suited-worker",
   "metadata": {},
   "source": [
    "# Method 2"
   ]
  },
  {
   "cell_type": "code",
   "execution_count": 1,
   "id": "conceptual-district",
   "metadata": {},
   "outputs": [],
   "source": [
    "class Solution():\n",
    "    def kSmallestPairs(self, nums1, nums2, k):\n",
    "        res,heap=[],[[nums1[0]+nums2[0],0,0]]\n",
    "        heapq.heapify(heap)\n",
    "        visited=set()\n",
    "        while heap and len(res)<k:\n",
    "            [su,i,j]=heapq.heappop(heap)\n",
    "            res.append([nums1[i],nums2[j]])\n",
    "            \n",
    "            if not (i+1,j) in visited and i+1<len(nums1):\n",
    "                heapq.heappush(heap,[nums1[i+1]+nums2[j],i+1,j])\n",
    "                visited.add((i+1,j))\n",
    "            if not (i,j+1) in visited and j+1<len(nums2):\n",
    "                heapq.heappush(heap,[nums1[i]+nums2[j+1],i,j+1])\n",
    "                visited.add((i,j+1))\n",
    "            \n",
    "        return res"
   ]
  }
 ],
 "metadata": {
  "kernelspec": {
   "display_name": "Python 3",
   "language": "python",
   "name": "python3"
  },
  "language_info": {
   "codemirror_mode": {
    "name": "ipython",
    "version": 3
   },
   "file_extension": ".py",
   "mimetype": "text/x-python",
   "name": "python",
   "nbconvert_exporter": "python",
   "pygments_lexer": "ipython3",
   "version": "3.8.3"
  }
 },
 "nbformat": 4,
 "nbformat_minor": 5
}
