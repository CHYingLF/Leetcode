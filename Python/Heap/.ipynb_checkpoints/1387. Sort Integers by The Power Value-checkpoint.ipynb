{
 "cells": [
  {
   "cell_type": "code",
   "execution_count": 10,
   "id": "fundamental-abuse",
   "metadata": {},
   "outputs": [
    {
     "name": "stdout",
     "output_type": "stream",
     "text": [
      "1 1 1 0 0 0\n"
     ]
    },
    {
     "data": {
      "text/plain": [
       "3"
      ]
     },
     "execution_count": 10,
     "metadata": {},
     "output_type": "execute_result"
    }
   ],
   "source": [
    "print(1&1,3&1,5&1,4&1,6&1,8&1)\n",
    "a=[2,3,4,5]\n",
    "sorted(a)[1]"
   ]
  },
  {
   "cell_type": "markdown",
   "id": "quarterly-destruction",
   "metadata": {},
   "source": [
    "# Method 1"
   ]
  },
  {
   "cell_type": "code",
   "execution_count": 16,
   "id": "drawn-mention",
   "metadata": {},
   "outputs": [
    {
     "name": "stdout",
     "output_type": "stream",
     "text": [
      "7 22 {}\n",
      "8 4.0 {7: 16}\n",
      "9 28 {7: 16, 8: 3}\n",
      "10 5.0 {7: 16, 8: 3, 9: 19}\n",
      "11 34 {7: 16, 8: 3, 9: 19, 10: 6}\n"
     ]
    },
    {
     "data": {
      "text/plain": [
       "7"
      ]
     },
     "execution_count": 16,
     "metadata": {},
     "output_type": "execute_result"
    }
   ],
   "source": [
    "class Solution:\n",
    "    def getKth(self, lo: int, hi: int, k: int) -> int:\n",
    "        power={}\n",
    "        for c in range(lo,hi+1):\n",
    "            count,x=1,3*c+1 if c&1 else c/2\n",
    "            print(c,x,power)\n",
    "            while x!=1:\n",
    "                x=3*x+1 if int(x)&1 else x/2\n",
    "                count+=1\n",
    "            power[c]=count\n",
    "        \n",
    "        return sorted(power,key=lambda x: (power[x],x))[k-1]\n",
    "                \n",
    "s=Solution()\n",
    "s.getKth(7,11,4)"
   ]
  }
 ],
 "metadata": {
  "kernelspec": {
   "display_name": "Python 3",
   "language": "python",
   "name": "python3"
  },
  "language_info": {
   "codemirror_mode": {
    "name": "ipython",
    "version": 3
   },
   "file_extension": ".py",
   "mimetype": "text/x-python",
   "name": "python",
   "nbconvert_exporter": "python",
   "pygments_lexer": "ipython3",
   "version": "3.8.3"
  }
 },
 "nbformat": 4,
 "nbformat_minor": 5
}
