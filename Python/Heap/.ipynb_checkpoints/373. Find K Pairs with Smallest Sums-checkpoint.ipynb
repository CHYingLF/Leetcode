{
 "cells": [
  {
   "cell_type": "code",
   "execution_count": 9,
   "id": "nasty-honduras",
   "metadata": {},
   "outputs": [
    {
     "ename": "TypeError",
     "evalue": "'<' not supported between instances of 'function' and 'int'",
     "output_type": "error",
     "traceback": [
      "\u001b[1;31m---------------------------------------------------------------------------\u001b[0m",
      "\u001b[1;31mTypeError\u001b[0m                                 Traceback (most recent call last)",
      "\u001b[1;32m<ipython-input-9-78be5763e1de>\u001b[0m in \u001b[0;36m<module>\u001b[1;34m\u001b[0m\n\u001b[0;32m      2\u001b[0m \u001b[1;32mimport\u001b[0m \u001b[0mheapq\u001b[0m\u001b[1;33m\u001b[0m\u001b[1;33m\u001b[0m\u001b[0m\n\u001b[0;32m      3\u001b[0m \u001b[0mheapq\u001b[0m\u001b[1;33m.\u001b[0m\u001b[0mheapify\u001b[0m\u001b[1;33m(\u001b[0m\u001b[0ma\u001b[0m\u001b[1;33m)\u001b[0m\u001b[1;33m\u001b[0m\u001b[1;33m\u001b[0m\u001b[0m\n\u001b[1;32m----> 4\u001b[1;33m \u001b[0mheapq\u001b[0m\u001b[1;33m.\u001b[0m\u001b[0mheappush\u001b[0m\u001b[1;33m(\u001b[0m\u001b[0ma\u001b[0m\u001b[1;33m,\u001b[0m\u001b[1;33m(\u001b[0m\u001b[1;32mlambda\u001b[0m \u001b[0mx\u001b[0m\u001b[1;33m:\u001b[0m \u001b[0msum\u001b[0m\u001b[1;33m(\u001b[0m\u001b[0mx\u001b[0m\u001b[1;33m)\u001b[0m\u001b[1;33m,\u001b[0m \u001b[1;33m(\u001b[0m\u001b[1;36m1\u001b[0m\u001b[1;33m,\u001b[0m\u001b[1;36m1\u001b[0m\u001b[1;33m,\u001b[0m\u001b[1;36m1\u001b[0m\u001b[1;33m)\u001b[0m\u001b[1;33m)\u001b[0m\u001b[1;33m)\u001b[0m\u001b[1;33m\u001b[0m\u001b[1;33m\u001b[0m\u001b[0m\n\u001b[0m",
      "\u001b[1;31mTypeError\u001b[0m: '<' not supported between instances of 'function' and 'int'"
     ]
    }
   ],
   "source": [
    "a=[(1,2,3),(2,3,4),(3,4,5),(0,1,2)]\n",
    "import heapq\n",
    "heapq.heapify(a)\n",
    "heapq.heappush(a,(lambda x: sum(x), (1,1,1)))"
   ]
  },
  {
   "cell_type": "markdown",
   "id": "qualified-dollar",
   "metadata": {},
   "source": [
    "# Method 1*"
   ]
  },
  {
   "cell_type": "markdown",
   "id": "fitted-canberra",
   "metadata": {},
   "source": [
    "Sorted\n",
    "\n",
    "itertools.product(nums1,nums2) henerate pairs"
   ]
  },
  {
   "cell_type": "code",
   "execution_count": null,
   "id": "naughty-artist",
   "metadata": {},
   "outputs": [],
   "source": [
    "class Solution:\n",
    "    def kSmallestPairs(self, nums1: List[int], nums2: List[int], k: int) -> List[List[int]]:\n",
    "        return sorted(itertools.product(nums1,nums2),key=sum)[:k]"
   ]
  },
  {
   "cell_type": "markdown",
   "id": "unable-burning",
   "metadata": {},
   "source": [
    "Heap\n",
    "\n",
    "heapq.nsmallest"
   ]
  },
  {
   "cell_type": "code",
   "execution_count": null,
   "id": "invisible-grove",
   "metadata": {},
   "outputs": [],
   "source": [
    "class Solution:\n",
    "    def kSmallestPairs(self, nums1: List[int], nums2: List[int], k: int) -> List[List[int]]:\n",
    "        return heapq.nsmallest(k,itertools.product(nums1,nums2),key=sum)"
   ]
  },
  {
   "cell_type": "markdown",
   "id": "effective-artwork",
   "metadata": {},
   "source": []
  },
  {
   "cell_type": "code",
   "execution_count": null,
   "id": "invalid-scene",
   "metadata": {},
   "outputs": [],
   "source": [
    "class Solution():\n",
    "    def kSmallestPairs(self, nums1, nums2, k):\n",
    "        streams=map(lambda u: ([u+v,u,v] for v in nums2),nums1 )\n",
    "        streams=heapq.merge(*streams)\n",
    "        \n",
    "        return [suv[1:] for suv in itertools.islice(streams,k)]"
   ]
  },
  {
   "cell_type": "markdown",
   "id": "controlling-effectiveness",
   "metadata": {},
   "source": [
    "# Method 2"
   ]
  },
  {
   "cell_type": "code",
   "execution_count": 1,
   "id": "republican-superior",
   "metadata": {},
   "outputs": [],
   "source": [
    "class Solution():\n",
    "    def kSmallestPairs(self, nums1, nums2, k):\n",
    "        res,heap=[],[[nums1[0]+nums2[0],0,0]]\n",
    "        heapq.heapify(heap)\n",
    "        visited=set()\n",
    "        while heap and len(res)<k:\n",
    "            [su,i,j]=heapq.heappop(heap)\n",
    "            res.append([nums1[i],nums2[j]])\n",
    "            \n",
    "            if not (i+1,j) in visited and i+1<len(nums1):\n",
    "                heapq.heappush(heap,[nums1[i+1]+nums2[j],i+1,j])\n",
    "                visited.add((i+1,j))\n",
    "            if not (i,j+1) in visited and j+1<len(nums2):\n",
    "                heapq.heappush(heap,[nums1[i]+nums2[j+1],i,j+1])\n",
    "                visited.add((i,j+1))\n",
    "            \n",
    "        return res"
   ]
  }
 ],
 "metadata": {
  "kernelspec": {
   "display_name": "Python 3",
   "language": "python",
   "name": "python3"
  },
  "language_info": {
   "codemirror_mode": {
    "name": "ipython",
    "version": 3
   },
   "file_extension": ".py",
   "mimetype": "text/x-python",
   "name": "python",
   "nbconvert_exporter": "python",
   "pygments_lexer": "ipython3",
   "version": "3.8.3"
  }
 },
 "nbformat": 4,
 "nbformat_minor": 5
}
