{
 "cells": [
  {
   "cell_type": "code",
   "execution_count": null,
   "id": "foreign-south",
   "metadata": {},
   "outputs": [],
   "source": []
  },
  {
   "cell_type": "markdown",
   "id": "closing-series",
   "metadata": {},
   "source": [
    "# Method 1\n",
    "\n",
    "1. heap an array, T=O(n)\n",
    "\n",
    "2. heappop, T=(logn), we need n-k times, so T=O((n-k)logn)"
   ]
  },
  {
   "cell_type": "code",
   "execution_count": 5,
   "id": "fifty-solution",
   "metadata": {},
   "outputs": [
    {
     "data": {
      "text/plain": [
       "3"
      ]
     },
     "execution_count": 5,
     "metadata": {},
     "output_type": "execute_result"
    }
   ],
   "source": [
    "import heapq\n",
    "class Solution:\n",
    "    def findKthLargest(self, nums, k: int) -> int:\n",
    "        heapq.heapify(nums)\n",
    "        \n",
    "        while len(nums)>k:\n",
    "            heapq.heappop(nums)\n",
    "            \n",
    "        return nums[0]\n",
    "    \n",
    "s=Solution()\n",
    "s.findKthLargest([1,2,3,4,6,-5],3)"
   ]
  },
  {
   "cell_type": "markdown",
   "id": "acting-registration",
   "metadata": {},
   "source": [
    "# Method 2\n",
    "\n",
    "**Quick select**\n",
    "1. First, we need to choose so-called pivot and partition element of nums into 3 parts: elements, smaller than pivot, equal to pivot and bigger than pivot. (sometimes two groups enough: less and more or equal)\n",
    "\n",
    "2. Next step is to see how many elements we have in each group: if k <= L, where L is size of left, than we can be sure that we need to look into the left part. If k > L + M, where M is size of mid group, than we can be sure, that we need to look into the right part. Finally, if none of these two condition holds, we need to look in the mid part, but because all elements there are equal, we can immedietly return mid[0].\n",
    "\n",
    "T=O(n) in average"
   ]
  },
  {
   "cell_type": "code",
   "execution_count": null,
   "id": "boolean-clearance",
   "metadata": {},
   "outputs": [],
   "source": [
    "class Solution:\n",
    "    def findKthLargest(self, nums: List[int], k: int) -> int:\n",
    "        if not nums: return\n",
    "        pivot=random.choice(nums)\n",
    "        \n",
    "        left=[x for x in nums if x>pivot]\n",
    "        mid=[x for x in nums if x==pivot ]\n",
    "        right=[x for x in nums if x< pivot]\n",
    "        \n",
    "        L, M=len(left),len(mid)\n",
    "        \n",
    "        if k<=L:\n",
    "            return self.findKthLargest(left,k)\n",
    "        if k>L+M:\n",
    "            return self.findKthLargest(right,k-L-M)\n",
    "        else:\n",
    "            return mid[0]"
   ]
  }
 ],
 "metadata": {
  "kernelspec": {
   "display_name": "Python 3",
   "language": "python",
   "name": "python3"
  },
  "language_info": {
   "codemirror_mode": {
    "name": "ipython",
    "version": 3
   },
   "file_extension": ".py",
   "mimetype": "text/x-python",
   "name": "python",
   "nbconvert_exporter": "python",
   "pygments_lexer": "ipython3",
   "version": "3.8.3"
  }
 },
 "nbformat": 4,
 "nbformat_minor": 5
}
