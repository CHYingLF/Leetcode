{
 "cells": [
  {
   "cell_type": "code",
   "execution_count": 17,
   "id": "inappropriate-extent",
   "metadata": {},
   "outputs": [
    {
     "name": "stdout",
     "output_type": "stream",
     "text": [
      "['a', 'a', 'a', 'b', 'b', 'c', 'd', 'd', 'd', 'd']\n",
      "Counter({'d': 4, 'a': 3, 'b': 2, 'c': 1})\n",
      "c [(2, 'b'), (3, 'a'), (4, 'd')]\n"
     ]
    }
   ],
   "source": [
    "a=['d','d','d','a','b','a','c','b','a','d']\n",
    "print(sorted(a))\n",
    "import collections\n",
    "import heapq\n",
    "b=collections.Counter(a)\n",
    "print(b)\n",
    "c=[(b[x],x) for x in b]\n",
    "heapq.heapify(c)\n",
    "print(heapq.heappop(c)[1],c)"
   ]
  },
  {
   "cell_type": "markdown",
   "id": "behind-water",
   "metadata": {},
   "source": [
    "# Method 1*"
   ]
  },
  {
   "cell_type": "code",
   "execution_count": 28,
   "id": "broad-advocate",
   "metadata": {},
   "outputs": [
    {
     "data": {
      "text/plain": [
       "['i', 'love']"
      ]
     },
     "execution_count": 28,
     "metadata": {},
     "output_type": "execute_result"
    }
   ],
   "source": [
    "class Solution:\n",
    "    def topKFrequent(self, words,k):\n",
    "        freq=collections.Counter(words)\n",
    "        \n",
    "        return heapq.nsmallest(k,freq,lambda x:(~freq[x],x))\n",
    "    \n",
    "s=Solution()\n",
    "words=[\"i\",\"love\",\"leetcode\",\"i\",\"love\",\"coding\"]\n",
    "k=2\n",
    "s.topKFrequent(words,k)"
   ]
  },
  {
   "cell_type": "markdown",
   "id": "canadian-mattress",
   "metadata": {},
   "source": [
    "# Method 2*"
   ]
  },
  {
   "cell_type": "markdown",
   "id": "right-playback",
   "metadata": {},
   "source": [
    "Directly use sort\n",
    "\n",
    "T=O(n+mlogm) where m is the number of unique w in words\n",
    "\n",
    "res=sorted(freq,key=lambda x: (-freq[x],x)), customize key"
   ]
  },
  {
   "cell_type": "code",
   "execution_count": null,
   "id": "noticed-march",
   "metadata": {},
   "outputs": [],
   "source": [
    "class Solution:\n",
    "    def topKFrequent(self, words: List[str], k: int) -> List[str]:\n",
    "        freq=collections.Counter(words)\n",
    "        \n",
    "        res=sorted(freq,key=lambda x: (-freq[x],x))\n",
    "        \n",
    "        return res[:k]"
   ]
  }
 ],
 "metadata": {
  "kernelspec": {
   "display_name": "Python 3",
   "language": "python",
   "name": "python3"
  },
  "language_info": {
   "codemirror_mode": {
    "name": "ipython",
    "version": 3
   },
   "file_extension": ".py",
   "mimetype": "text/x-python",
   "name": "python",
   "nbconvert_exporter": "python",
   "pygments_lexer": "ipython3",
   "version": "3.8.3"
  }
 },
 "nbformat": 4,
 "nbformat_minor": 5
}
