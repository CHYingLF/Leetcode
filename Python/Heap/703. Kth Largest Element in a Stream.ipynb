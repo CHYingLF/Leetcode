{
 "cells": [
  {
   "cell_type": "code",
   "execution_count": 1,
   "id": "organic-album",
   "metadata": {},
   "outputs": [
    {
     "name": "stdout",
     "output_type": "stream",
     "text": [
      "1\n",
      "4 [6, 7, 9, 9, 8]\n",
      "None [0, 7, 6, 9, 8, 9]\n"
     ]
    }
   ],
   "source": [
    "import heapq\n",
    "a=[1,4,8,9,7,6]\n",
    "heapq.heapify(a) #min heap T=(n)\n",
    "print(heapq.heappop(a)) # pop min value, the root, T=O(logn)\n",
    "print(heapq.heapreplace(a,9),a) #pop min, insert value\n",
    "print(heapq.heappush(a,0),a) #push new value"
   ]
  },
  {
   "cell_type": "markdown",
   "id": "naughty-navigator",
   "metadata": {},
   "source": [
    "# Method 1*\n",
    "\n",
    "heap\n",
    "\n",
    "T=O()\n",
    "\n",
    "S=O()"
   ]
  },
  {
   "cell_type": "code",
   "execution_count": 12,
   "id": "fabulous-indie",
   "metadata": {},
   "outputs": [],
   "source": [
    "class KthLargest:\n",
    "\n",
    "    def __init__(self, k: int, nums):\n",
    "        self.pool,self.k=nums,k\n",
    "        heapq.heapify(self.pool)\n",
    "        while len(self.pool)>k:\n",
    "            heapq.heappop(self.pool)\n",
    "\n",
    "    def add(self, val: int) -> int:\n",
    "        if len(self.pool)<self.k:\n",
    "            heapq.heappush(self.pool,val)\n",
    "        elif val>self.pool[0]:\n",
    "            heapq.heapreplace(self.pool,val)\n",
    "            \n",
    "        return self.pool[0]"
   ]
  }
 ],
 "metadata": {
  "kernelspec": {
   "display_name": "Python 3",
   "language": "python",
   "name": "python3"
  },
  "language_info": {
   "codemirror_mode": {
    "name": "ipython",
    "version": 3
   },
   "file_extension": ".py",
   "mimetype": "text/x-python",
   "name": "python",
   "nbconvert_exporter": "python",
   "pygments_lexer": "ipython3",
   "version": "3.8.3"
  }
 },
 "nbformat": 4,
 "nbformat_minor": 5
}
