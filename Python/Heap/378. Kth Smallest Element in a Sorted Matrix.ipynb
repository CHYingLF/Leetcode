{
 "cells": [
  {
   "cell_type": "code",
   "execution_count": null,
   "id": "focal-association",
   "metadata": {},
   "outputs": [],
   "source": []
  },
  {
   "cell_type": "code",
   "execution_count": null,
   "id": "expired-replication",
   "metadata": {},
   "outputs": [],
   "source": []
  },
  {
   "cell_type": "code",
   "execution_count": 8,
   "id": "demonstrated-stocks",
   "metadata": {},
   "outputs": [
    {
     "name": "stdout",
     "output_type": "stream",
     "text": [
      "1 1 set()\n",
      "2 5 {(1, 0), (0, 1)}\n",
      "3 9 {(1, 0), (0, 2), (1, 1), (0, 1)}\n",
      "4 10 {(0, 1), (1, 2), (1, 1), (0, 2), (1, 0)}\n",
      "5 11 {(0, 1), (1, 2), (1, 1), (2, 0), (0, 2), (1, 0)}\n",
      "6 12 {(0, 1), (1, 2), (2, 1), (1, 1), (2, 0), (0, 2), (1, 0)}\n",
      "7 13 {(0, 1), (1, 2), (2, 1), (1, 1), (2, 0), (0, 2), (1, 0)}\n",
      "8 13 {(0, 1), (1, 2), (2, 1), (1, 1), (2, 0), (0, 2), (2, 2), (1, 0)}\n"
     ]
    },
    {
     "data": {
      "text/plain": [
       "13"
      ]
     },
     "execution_count": 8,
     "metadata": {},
     "output_type": "execute_result"
    }
   ],
   "source": [
    "import heapq\n",
    "class Solution:\n",
    "    def kthSmallest(self, matrix, k: int) -> int:\n",
    "        n,count=len(matrix),0\n",
    "        heap=[[matrix[0][0],0,0]]\n",
    "        heapq.heapify(heap)\n",
    "        check=set()\n",
    "        while count<k:\n",
    "            [c,i,j]=heapq.heappop(heap)\n",
    "            count+=1\n",
    "            print(count,c,check)\n",
    "            if i+1<n and (not (i+1,j) in check):\n",
    "                check.add((i+1,j))\n",
    "                heapq.heappush(heap,(matrix[i+1][j],i+1,j))\n",
    "            if j+1<n and (not (i,j+1) in check):\n",
    "                heapq.heappush(heap,(matrix[i][j+1],i,j+1))\n",
    "                check.add((i,j+1))\n",
    "        return c\n",
    "        \n",
    "S=Solution()\n",
    "matrix = [[1,5,9],[10,11,13],[12,13,15]]\n",
    "k = 8\n",
    "S.kthSmallest(matrix,k)"
   ]
  }
 ],
 "metadata": {
  "kernelspec": {
   "display_name": "Python 3",
   "language": "python",
   "name": "python3"
  },
  "language_info": {
   "codemirror_mode": {
    "name": "ipython",
    "version": 3
   },
   "file_extension": ".py",
   "mimetype": "text/x-python",
   "name": "python",
   "nbconvert_exporter": "python",
   "pygments_lexer": "ipython3",
   "version": "3.8.3"
  }
 },
 "nbformat": 4,
 "nbformat_minor": 5
}
