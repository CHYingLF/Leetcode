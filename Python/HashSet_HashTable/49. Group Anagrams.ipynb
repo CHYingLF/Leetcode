{
 "cells": [
  {
   "cell_type": "code",
   "execution_count": 5,
   "id": "anticipated-month",
   "metadata": {},
   "outputs": [
    {
     "data": {
      "text/plain": [
       "['a', 'b', 'd']"
      ]
     },
     "execution_count": 5,
     "metadata": {},
     "output_type": "execute_result"
    }
   ],
   "source": [
    "import collections\n",
    "a=(1,2,3)#you can use only immutable type as a key in hash map.\n",
    "#string and tuple are immutable types in python while list is not.\n",
    "b={}\n",
    "b[a]=2\n",
    "b\n",
    "a='abd'\n",
    "sorted(a) #trun a string to a sorted list"
   ]
  },
  {
   "cell_type": "code",
   "execution_count": 8,
   "id": "theoretical-teens",
   "metadata": {},
   "outputs": [
    {
     "data": {
      "text/plain": [
       "['z']"
      ]
     },
     "execution_count": 8,
     "metadata": {},
     "output_type": "execute_result"
    }
   ],
   "source": [
    "a='acb'\n",
    "b=tuple(sorted(a))\n",
    "[]+['z']"
   ]
  },
  {
   "cell_type": "markdown",
   "id": "amateur-terrace",
   "metadata": {},
   "source": [
    "# Method 1"
   ]
  },
  {
   "cell_type": "code",
   "execution_count": 20,
   "id": "unlikely-circumstances",
   "metadata": {},
   "outputs": [
    {
     "data": {
      "text/plain": [
       "[['eat', 'tea', 'ate'], ['tan', 'nat'], ['bat']]"
      ]
     },
     "execution_count": 20,
     "metadata": {},
     "output_type": "execute_result"
    }
   ],
   "source": [
    "class Solution:\n",
    "    def groupAnagrams(self, strs):\n",
    "        \n",
    "        def check(res,s):\n",
    "            for r in res:\n",
    "                if len(r[0])==len(s):\n",
    "                    d,c=True,list(r[0])\n",
    "                    for b in s:\n",
    "                        if b not in c:\n",
    "                            d=False\n",
    "                            break\n",
    "                        c.remove(b)\n",
    "                    if d: \n",
    "                        r.append(s)\n",
    "                        return\n",
    "                        \n",
    "            res.append([s])\n",
    "                \n",
    "        res=[]\n",
    "        for s in strs:\n",
    "            check(res,s)\n",
    "            \n",
    "        return res\n",
    "s=Solution()\n",
    "s.groupAnagrams([\"eat\",\"tea\",\"tan\",\"ate\",\"nat\",\"bat\"])"
   ]
  },
  {
   "cell_type": "markdown",
   "id": "infinite-dublin",
   "metadata": {},
   "source": [
    "# Method 2*"
   ]
  },
  {
   "cell_type": "code",
   "execution_count": 2,
   "id": "endless-sierra",
   "metadata": {},
   "outputs": [],
   "source": [
    "class Solution:\n",
    "    def groupAnagrams(self, strs):\n",
    "        d = {}\n",
    "        for w in sorted(strs):\n",
    "            key = tuple(sorted(w))\n",
    "            d[key] = d.get(key, []) + [w]\n",
    "        return d.values()"
   ]
  },
  {
   "cell_type": "markdown",
   "id": "municipal-acoustic",
   "metadata": {},
   "source": [
    "use string as key"
   ]
  },
  {
   "cell_type": "code",
   "execution_count": 2,
   "id": "higher-tattoo",
   "metadata": {},
   "outputs": [
    {
     "data": {
      "text/plain": [
       "dict_values([['ate', 'eat', 'tea'], ['bat'], ['nat', 'tan']])"
      ]
     },
     "execution_count": 2,
     "metadata": {},
     "output_type": "execute_result"
    }
   ],
   "source": [
    "class Solution:\n",
    "    def groupAnagrams(self, strs):\n",
    "        d = {}\n",
    "        for w in sorted(strs):\n",
    "            key = \"\".join(sorted(w))\n",
    "            d[key] = d.get(key, []) + [w]\n",
    "        return d.values()\n",
    "    \n",
    "s=Solution()\n",
    "s.groupAnagrams([\"eat\",\"tea\",\"tan\",\"ate\",\"nat\",\"bat\"])"
   ]
  }
 ],
 "metadata": {
  "kernelspec": {
   "display_name": "Python 3",
   "language": "python",
   "name": "python3"
  },
  "language_info": {
   "codemirror_mode": {
    "name": "ipython",
    "version": 3
   },
   "file_extension": ".py",
   "mimetype": "text/x-python",
   "name": "python",
   "nbconvert_exporter": "python",
   "pygments_lexer": "ipython3",
   "version": "3.8.3"
  }
 },
 "nbformat": 4,
 "nbformat_minor": 5
}
