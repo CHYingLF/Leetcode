{
 "cells": [
  {
   "cell_type": "code",
   "execution_count": null,
   "id": "communist-printing",
   "metadata": {},
   "outputs": [],
   "source": []
  },
  {
   "cell_type": "markdown",
   "id": "strange-production",
   "metadata": {},
   "source": [
    "# Method 1*\n",
    "\n",
    "Use a hashmap to make node copy of each original node, an then connect them "
   ]
  },
  {
   "cell_type": "code",
   "execution_count": 1,
   "id": "white-copper",
   "metadata": {},
   "outputs": [],
   "source": [
    "\"\"\"\n",
    "# Definition for a Node.\n",
    "class Node:\n",
    "    def __init__(self, x: int, next: 'Node' = None, random: 'Node' = None):\n",
    "        self.val = int(x)\n",
    "        self.next = next\n",
    "        self.random = random\n",
    "\"\"\"\n",
    "\n",
    "class Solution:\n",
    "    def copyRandomList(self, head: 'Optional[Node]') -> 'Optional[Node]':\n",
    "        old2copy={None:None}\n",
    "        \n",
    "        cur=head\n",
    "        \n",
    "        while cur:\n",
    "            copy=Node(cur.val)\n",
    "            old2copy[cur]=copy\n",
    "            cur=cur.next\n",
    "            \n",
    "        cur=head\n",
    "        \n",
    "        while cur:\n",
    "            copy=old2copy[cur]\n",
    "            copy.next=old2copy[cur.next]\n",
    "            copy.random=old2copy[cur.random]\n",
    "            cur=cur.next\n",
    "            \n",
    "        return old2copy[head]"
   ]
  }
 ],
 "metadata": {
  "kernelspec": {
   "display_name": "Python 3",
   "language": "python",
   "name": "python3"
  },
  "language_info": {
   "codemirror_mode": {
    "name": "ipython",
    "version": 3
   },
   "file_extension": ".py",
   "mimetype": "text/x-python",
   "name": "python",
   "nbconvert_exporter": "python",
   "pygments_lexer": "ipython3",
   "version": "3.8.3"
  }
 },
 "nbformat": 4,
 "nbformat_minor": 5
}
