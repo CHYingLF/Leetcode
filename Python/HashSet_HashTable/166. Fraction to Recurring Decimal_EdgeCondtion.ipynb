{
 "cells": [
  {
   "cell_type": "code",
   "execution_count": null,
   "id": "congressional-emperor",
   "metadata": {},
   "outputs": [],
   "source": []
  },
  {
   "cell_type": "code",
   "execution_count": null,
   "id": "legislative-collapse",
   "metadata": {},
   "outputs": [],
   "source": []
  },
  {
   "cell_type": "code",
   "execution_count": null,
   "id": "acceptable-feedback",
   "metadata": {},
   "outputs": [],
   "source": [
    "class Solution:\n",
    "    def fractionToDecimal(self, numerator: int, denominator: int) -> str:\n",
    "        if numerator % denominator == 0:\n",
    "            return str(numerator//denominator)\n",
    "        sign = '' if numerator * denominator >= 0 else '-'\n",
    "        numerator, denominator = abs(numerator), abs(denominator)\n",
    "        res = sign + str(numerator//denominator) + '.'\n",
    "        numerator %= denominator\n",
    "        i, part = 0, ''\n",
    "        m = {numerator:i}\n",
    "        while numerator % denominator:\n",
    "            numerator *= 10\n",
    "            i += 1\n",
    "            rem = numerator % denominator\n",
    "            part += str(numerator // denominator)\n",
    "            if rem in m:\n",
    "                part = part[:m[rem]]+'('+part[m[rem]:]+')'\n",
    "                return res + part\n",
    "            m[rem] = i\n",
    "            numerator = rem\n",
    "        return res + part"
   ]
  }
 ],
 "metadata": {
  "kernelspec": {
   "display_name": "Python 3",
   "language": "python",
   "name": "python3"
  },
  "language_info": {
   "codemirror_mode": {
    "name": "ipython",
    "version": 3
   },
   "file_extension": ".py",
   "mimetype": "text/x-python",
   "name": "python",
   "nbconvert_exporter": "python",
   "pygments_lexer": "ipython3",
   "version": "3.8.3"
  }
 },
 "nbformat": 4,
 "nbformat_minor": 5
}
