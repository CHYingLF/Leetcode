{
 "cells": [
  {
   "cell_type": "code",
   "execution_count": 34,
   "id": "brilliant-gateway",
   "metadata": {},
   "outputs": [
    {
     "name": "stdout",
     "output_type": "stream",
     "text": [
      "1\n",
      "6\n"
     ]
    }
   ],
   "source": [
    "import random\n",
    "a=set([1,2,3])\n",
    "a=(1,2,3,2)\n",
    "print(random.choice(a))\n",
    "print(random.randint(0,6))"
   ]
  },
  {
   "cell_type": "markdown",
   "id": "addressed-locking",
   "metadata": {},
   "source": [
    "# Method 1*\n",
    "\n",
    "1. We just keep track of the index of the added elements, **so when we remove them, we copy the last one into it.**\n",
    "\n",
    "2. From Python docs (https://wiki.python.org/moin/TimeComplexity) we know that list.append() takes O(1), both average and amortized. Dictionary get and set functions take O(1) average, so we are OK."
   ]
  },
  {
   "cell_type": "code",
   "execution_count": null,
   "id": "australian-proposal",
   "metadata": {},
   "outputs": [],
   "source": [
    "class RandomizedSet:\n",
    "\n",
    "    def __init__(self):\n",
    "        self.nums,self.pos=[],{}\n",
    "\n",
    "    def insert(self, val: int) -> bool:\n",
    "        if not val in self.pos:\n",
    "            self.nums.append(val) #o(1) time\n",
    "            self.pos[val]=len(self.nums)-1\n",
    "            return True\n",
    "        return False\n",
    "\n",
    "    def remove(self, val: int) -> bool:\n",
    "        if val in self.pos:\n",
    "            idx, last=self.pos[val],self.nums[-1]\n",
    "            self.nums[idx],self.pos[last]=last,idx\n",
    "            self.nums.pop(),self.pos.pop(val)\n",
    "            return True\n",
    "        return False\n",
    "\n",
    "    def getRandom(self) -> int:\n",
    "        return self.nums[random.randint(0,len(self.nums)-1)]\n",
    "\n",
    "\n",
    "# Your RandomizedSet object will be instantiated and called as such:\n",
    "# obj = RandomizedSet()\n",
    "# param_1 = obj.insert(val)\n",
    "# param_2 = obj.remove(val)\n",
    "# param_3 = obj.getRandom()"
   ]
  }
 ],
 "metadata": {
  "kernelspec": {
   "display_name": "Python 3",
   "language": "python",
   "name": "python3"
  },
  "language_info": {
   "codemirror_mode": {
    "name": "ipython",
    "version": 3
   },
   "file_extension": ".py",
   "mimetype": "text/x-python",
   "name": "python",
   "nbconvert_exporter": "python",
   "pygments_lexer": "ipython3",
   "version": "3.8.3"
  }
 },
 "nbformat": 4,
 "nbformat_minor": 5
}
