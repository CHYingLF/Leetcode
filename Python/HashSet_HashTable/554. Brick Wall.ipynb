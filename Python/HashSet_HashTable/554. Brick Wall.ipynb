{
 "cells": [
  {
   "cell_type": "code",
   "execution_count": 1,
   "id": "composite-infection",
   "metadata": {},
   "outputs": [
    {
     "data": {
      "text/plain": [
       "1"
      ]
     },
     "execution_count": 1,
     "metadata": {},
     "output_type": "execute_result"
    }
   ],
   "source": [
    "a={2:1,1:0}\n",
    "max(a.values())\n"
   ]
  },
  {
   "cell_type": "markdown",
   "id": "photographic-feeding",
   "metadata": {},
   "source": [
    "# Method 1\n",
    "\n",
    "T=O(NM)\n",
    "S=O(M)\n",
    "\n",
    "Count prefix sum"
   ]
  },
  {
   "cell_type": "code",
   "execution_count": 6,
   "id": "effective-luxembourg",
   "metadata": {},
   "outputs": [
    {
     "data": {
      "text/plain": [
       "2"
      ]
     },
     "execution_count": 6,
     "metadata": {},
     "output_type": "execute_result"
    }
   ],
   "source": [
    "class Solution:\n",
    "    def leastBricks(self, wall) -> int:\n",
    "        n=len(wall)\n",
    "        edges={0:0}\n",
    "        \n",
    "        for r in range(n):\n",
    "            su=0\n",
    "            for c in wall[r][0:-1]:\n",
    "                su+=c\n",
    "                edges[su]=edges.get(su,0)+1\n",
    "            \n",
    "        return n-max(edges.values())\n",
    "    \n",
    "wall = [[1,2,2,1],[3,1,2],[1,3,2],[2,4],[3,1,2],[1,3,1,1]]\n",
    "s=Solution()\n",
    "s.leastBricks(wall)"
   ]
  }
 ],
 "metadata": {
  "kernelspec": {
   "display_name": "Python 3",
   "language": "python",
   "name": "python3"
  },
  "language_info": {
   "codemirror_mode": {
    "name": "ipython",
    "version": 3
   },
   "file_extension": ".py",
   "mimetype": "text/x-python",
   "name": "python",
   "nbconvert_exporter": "python",
   "pygments_lexer": "ipython3",
   "version": "3.8.3"
  }
 },
 "nbformat": 4,
 "nbformat_minor": 5
}
