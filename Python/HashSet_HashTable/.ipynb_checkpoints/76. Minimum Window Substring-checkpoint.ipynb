{
 "cells": [
  {
   "cell_type": "code",
   "execution_count": 16,
   "id": "checked-arrest",
   "metadata": {},
   "outputs": [
    {
     "name": "stdout",
     "output_type": "stream",
     "text": [
      "9 1\n",
      "10 2\n",
      "11 4\n"
     ]
    }
   ],
   "source": [
    "a=[1,2,4]\n",
    "\n",
    "for i,c in enumerate(a,9):\n",
    "    print(i,c)\n"
   ]
  },
  {
   "cell_type": "markdown",
   "id": "driven-gasoline",
   "metadata": {},
   "source": [
    "# Method 1"
   ]
  },
  {
   "cell_type": "markdown",
   "id": "furnished-reynolds",
   "metadata": {},
   "source": [
    "Use a dict to store the number of character in t, and another dict to check if each character meet the condition\n",
    "\n",
    "T=O(S)\n",
    "S=O(T)"
   ]
  },
  {
   "cell_type": "code",
   "execution_count": 11,
   "id": "registered-companion",
   "metadata": {},
   "outputs": [
    {
     "name": "stdout",
     "output_type": "stream",
     "text": [
      "{'c': 0, 'a': 1, 'e': 1} {'c': True, 'a': False, 'e': False}\n",
      "{'c': 0, 'a': 0, 'e': 1} {'c': True, 'a': True, 'e': False}\n",
      "{'c': 0, 'a': 0, 'e': 0} {'c': True, 'a': True, 'e': True}\n",
      "{'c': 1, 'a': 0, 'e': -1} {'c': False, 'a': True, 'e': True}\n",
      "{'c': 0, 'a': 0, 'e': -1} {'c': True, 'a': True, 'e': True}\n",
      "{'c': 0, 'a': 0, 'e': -1} {'c': True, 'a': True, 'e': True}\n",
      "{'c': 0, 'a': 0, 'e': 0} {'c': True, 'a': True, 'e': True}\n",
      "{'c': 0, 'a': 0, 'e': 0} {'c': True, 'a': True, 'e': True}\n"
     ]
    },
    {
     "data": {
      "text/plain": [
       "'cwae'"
      ]
     },
     "execution_count": 11,
     "metadata": {},
     "output_type": "execute_result"
    }
   ],
   "source": [
    "class Solution:\n",
    "    def minWindow(self, s: str, t: str) -> str:\n",
    "        i,res,che,td=0,len(s)+1,{},{}\n",
    "        out=[]\n",
    "        \n",
    "        for c in t: \n",
    "            td[c]=td.get(c,0)+1\n",
    "            che[c]=False\n",
    "        for j in range(len(s)):\n",
    "            if not s[j] in td: continue\n",
    "                \n",
    "            td[s[j]]-=1\n",
    "            che[s[j]]=td[s[j]]<=0\n",
    "            while all(che.values()):\n",
    "                if res>(j-i+1): \n",
    "                    out=[i,j]\n",
    "                    res=j-i+1\n",
    "                if s[i] in td:\n",
    "                    td[s[i]]+=1\n",
    "                    che[s[i]]=td[s[i]]<=0\n",
    "                i+=1\n",
    "        return s[out[0]:out[1]+1] if out else \"\"\n",
    "    \n",
    "s = \"ADOBECODEBANC\"\n",
    "t = \"ABC\"\n",
    "s = \"a\"\n",
    "t = \"aa\"\n",
    "\n",
    "s=\"cabwefgewcwaefgcf\"\n",
    "t=\"cae\"\n",
    "ss=Solution()\n",
    "ss.minWindow(s,t)"
   ]
  },
  {
   "cell_type": "markdown",
   "id": "thorough-couple",
   "metadata": {},
   "source": [
    "# Another way*\n",
    "\n",
    "Use missing=len(t) to check if the condition is met\n",
    "\n",
    "Use collections.Counter() to record character in t\n"
   ]
  },
  {
   "cell_type": "code",
   "execution_count": 21,
   "id": "conditional-billy",
   "metadata": {},
   "outputs": [
    {
     "name": "stdout",
     "output_type": "stream",
     "text": [
      "Counter({'a': 1, 'e': 1, 'c': 0}) 2\n",
      "Counter({'e': 1, 'c': 0, 'a': 0}) 1\n",
      "Counter({'e': 1, 'c': 0, 'a': 0, 'b': -1}) 1\n",
      "Counter({'e': 1, 'c': 0, 'a': 0, 'b': -1, 'w': -1}) 1\n",
      "Counter({'c': 0, 'a': 0, 'e': 0, 'b': -1, 'w': -1}) 0\n",
      "Counter({'c': 0, 'a': 0, 'e': 0, 'b': -1, 'w': -1, 'f': -1}) 0\n",
      "Counter({'c': 0, 'a': 0, 'e': 0, 'b': -1, 'w': -1, 'f': -1, 'g': -1}) 0\n",
      "Counter({'c': 0, 'a': 0, 'e': -1, 'b': -1, 'w': -1, 'f': -1, 'g': -1}) 0\n",
      "Counter({'c': 0, 'a': 0, 'e': -1, 'b': -1, 'f': -1, 'g': -1, 'w': -2}) 0\n",
      "Counter({'a': 0, 'c': -1, 'e': -1, 'b': -1, 'f': -1, 'g': -1, 'w': -2}) 0\n",
      "Counter({'c': 0, 'a': 0, 'e': -1, 'b': -1, 'f': -1, 'g': -1, 'w': -3}) 0\n",
      "Counter({'c': 0, 'a': -1, 'e': -1, 'b': -1, 'f': -1, 'g': -1, 'w': -3}) 0\n",
      "Counter({'c': 0, 'a': 0, 'b': 0, 'f': 0, 'g': 0, 'e': -1, 'w': -2}) 0\n",
      "Counter({'c': 0, 'a': 0, 'e': 0, 'b': 0, 'g': 0, 'w': -1, 'f': -1}) 0\n",
      "Counter({'c': 0, 'a': 0, 'e': 0, 'b': 0, 'w': -1, 'f': -1, 'g': -1}) 0\n",
      "Counter({'a': 0, 'e': 0, 'b': 0, 'c': -1, 'w': -1, 'f': -1, 'g': -1}) 0\n",
      "Counter({'c': 0, 'a': 0, 'e': 0, 'b': 0, 'w': 0, 'g': -1, 'f': -2}) 0\n"
     ]
    },
    {
     "data": {
      "text/plain": [
       "'cwae'"
      ]
     },
     "execution_count": 21,
     "metadata": {},
     "output_type": "execute_result"
    }
   ],
   "source": [
    "import collections\n",
    "class Solution:\n",
    "    def minWindow(self, s: str, t: str) -> str:\n",
    "        need, missing=collections.Counter(t),len(t)\n",
    "        i=I=J=0\n",
    "        \n",
    "        for j,c in enumerate(s,1):\n",
    "            missing-=need[c]>0\n",
    "            need[c]-=1\n",
    "            if not missing:\n",
    "                while i<j and need[s[i]]<0:\n",
    "                    need[s[i]]+=1\n",
    "                    i+=1\n",
    "                if not J or J-I>=j-i:\n",
    "                    I,J=i,j\n",
    "                    \n",
    "        return s[I:J]\n",
    "s=\"cabwefgewcwaefgcf\"\n",
    "t=\"cae\"\n",
    "ss=Solution()\n",
    "ss.minWindow(s,t)"
   ]
  }
 ],
 "metadata": {
  "kernelspec": {
   "display_name": "Python 3",
   "language": "python",
   "name": "python3"
  },
  "language_info": {
   "codemirror_mode": {
    "name": "ipython",
    "version": 3
   },
   "file_extension": ".py",
   "mimetype": "text/x-python",
   "name": "python",
   "nbconvert_exporter": "python",
   "pygments_lexer": "ipython3",
   "version": "3.8.3"
  }
 },
 "nbformat": 4,
 "nbformat_minor": 5
}
