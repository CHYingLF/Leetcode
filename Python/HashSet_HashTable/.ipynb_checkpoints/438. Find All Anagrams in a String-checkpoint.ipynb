{
 "cells": [
  {
   "cell_type": "code",
   "execution_count": 14,
   "id": "fewer-persian",
   "metadata": {},
   "outputs": [
    {
     "name": "stdout",
     "output_type": "stream",
     "text": [
      "False Counter({'c': 3, 'a': 1, 'b': 1}) Counter({'c': 2, 'b': 1, 'a': 1})\n"
     ]
    }
   ],
   "source": [
    "import collections\n",
    "a='abcc'\n",
    "b=collections.Counter(a)\n",
    "c='cbca'\n",
    "d=collections.Counter(c)\n",
    "b['c']+=1\n",
    "print(b==d,b,d) #Counter can be used to compare, use del to delete key "
   ]
  },
  {
   "cell_type": "markdown",
   "id": "coordinated-tribune",
   "metadata": {},
   "source": [
    "# Method 1\n",
    "\n",
    "Use hashmap"
   ]
  },
  {
   "cell_type": "code",
   "execution_count": 13,
   "id": "flush-roads",
   "metadata": {},
   "outputs": [
    {
     "name": "stdout",
     "output_type": "stream",
     "text": [
      "Counter({'c': 1, 'b': 1, 'a': 1}) Counter({'a': 1, 'b': 1, 'c': 1})\n",
      "Counter({'b': 1, 'a': 1, 'e': 1}) Counter({'a': 1, 'b': 1, 'c': 1})\n",
      "Counter({'a': 1, 'e': 1, 'b': 1}) Counter({'a': 1, 'b': 1, 'c': 1})\n",
      "Counter({'e': 1, 'b': 1, 'a': 1}) Counter({'a': 1, 'b': 1, 'c': 1})\n",
      "Counter({'b': 2, 'a': 1}) Counter({'a': 1, 'b': 1, 'c': 1})\n",
      "Counter({'a': 2, 'b': 1}) Counter({'a': 1, 'b': 1, 'c': 1})\n",
      "Counter({'b': 1, 'a': 1, 'c': 1}) Counter({'a': 1, 'b': 1, 'c': 1})\n",
      "Counter({'a': 1, 'c': 1, 'd': 1}) Counter({'a': 1, 'b': 1, 'c': 1})\n"
     ]
    },
    {
     "data": {
      "text/plain": [
       "[0, 6]"
      ]
     },
     "execution_count": 13,
     "metadata": {},
     "output_type": "execute_result"
    }
   ],
   "source": [
    "class Solution:\n",
    "    def findAnagrams(self, s: str, p: str):\n",
    "        i,res,n=0,[],len(p)\n",
    "        pp,ss=collections.Counter(p),collections.Counter(s[:n-1]) \n",
    "        \n",
    "        for j in range(n-1,len(s)):\n",
    "            ss[s[j]]+=1\n",
    "            print(ss,pp)\n",
    "            if pp == ss : res.append(i)\n",
    "            ss[s[i]]-=1\n",
    "            if ss[s[i]]==0:del ss[s[i]]\n",
    "            i+=1\n",
    "        \n",
    "        return res\n",
    "\n",
    "s1=\"cbaebabacd\"\n",
    "p=\"abc\"\n",
    "s=Solution()\n",
    "s.findAnagrams(s1,p)"
   ]
  }
 ],
 "metadata": {
  "kernelspec": {
   "display_name": "Python 3",
   "language": "python",
   "name": "python3"
  },
  "language_info": {
   "codemirror_mode": {
    "name": "ipython",
    "version": 3
   },
   "file_extension": ".py",
   "mimetype": "text/x-python",
   "name": "python",
   "nbconvert_exporter": "python",
   "pygments_lexer": "ipython3",
   "version": "3.8.3"
  }
 },
 "nbformat": 4,
 "nbformat_minor": 5
}
