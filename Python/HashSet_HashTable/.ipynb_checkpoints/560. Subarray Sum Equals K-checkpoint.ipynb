{
 "cells": [
  {
   "cell_type": "code",
   "execution_count": 5,
   "id": "prescription-hundred",
   "metadata": {},
   "outputs": [
    {
     "data": {
      "text/plain": [
       "2"
      ]
     },
     "execution_count": 5,
     "metadata": {},
     "output_type": "execute_result"
    }
   ],
   "source": [
    "a={}\n",
    "a[0]=2\n",
    "a[1]=2\n",
    "a.get(0,0) #dict.get(key,defaultValue)"
   ]
  },
  {
   "cell_type": "markdown",
   "id": "copyrighted-testimony",
   "metadata": {},
   "source": [
    "# Method 1"
   ]
  },
  {
   "cell_type": "markdown",
   "id": "refined-listing",
   "metadata": {},
   "source": [
    "T=O(n), S=O(n)\n",
    "\n",
    "1. prefix sum to calculate subarray sum\n",
    "\n",
    "2. use hashtable to record sum frequency\n",
    "\n",
    "3. d.get(sum-k,0) to get possible subarray."
   ]
  },
  {
   "cell_type": "code",
   "execution_count": 1,
   "id": "cross-coast",
   "metadata": {},
   "outputs": [],
   "source": [
    "class Solution:\n",
    "    def subarraySum(self, nums, k: int) -> int:\n",
    "        count=sum=0\n",
    "        d={}\n",
    "        d[0]=1\n",
    "        for c in nums:\n",
    "            sum+=c\n",
    "            count+=d.get(sum-k,0)\n",
    "            d[sum]=d.get(sum,0)+1\n",
    "            \n",
    "        return count\n",
    "        "
   ]
  },
  {
   "cell_type": "markdown",
   "id": "parental-scheme",
   "metadata": {},
   "source": [
    "Use collection.Counter() or collections.defaultdict() to have better default value"
   ]
  },
  {
   "cell_type": "code",
   "execution_count": 3,
   "id": "eight-thanksgiving",
   "metadata": {},
   "outputs": [],
   "source": [
    "class Solution:\n",
    "    def subarraySum(self, nums, k: int) -> int:\n",
    "        count=sum=0\n",
    "        d=collection.Counter()\n",
    "        d[0]=1\n",
    "        \n",
    "        for c in nums:\n",
    "            sum+=c\n",
    "            count+=d[sum-k]\n",
    "            d[sum]+=1\n",
    "            \n",
    "        return count"
   ]
  }
 ],
 "metadata": {
  "kernelspec": {
   "display_name": "Python 3",
   "language": "python",
   "name": "python3"
  },
  "language_info": {
   "codemirror_mode": {
    "name": "ipython",
    "version": 3
   },
   "file_extension": ".py",
   "mimetype": "text/x-python",
   "name": "python",
   "nbconvert_exporter": "python",
   "pygments_lexer": "ipython3",
   "version": "3.8.3"
  }
 },
 "nbformat": 4,
 "nbformat_minor": 5
}
