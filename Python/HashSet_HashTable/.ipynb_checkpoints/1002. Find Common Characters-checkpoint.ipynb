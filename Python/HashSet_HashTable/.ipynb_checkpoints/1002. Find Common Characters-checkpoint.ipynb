{
 "cells": [
  {
   "cell_type": "code",
   "execution_count": 18,
   "id": "educated-bedroom",
   "metadata": {},
   "outputs": [
    {
     "name": "stdout",
     "output_type": "stream",
     "text": [
      "Counter({'f': 3, 'n': 2, 'a': 1, 'b': 1})\n",
      "Counter({'n': 2, 'a': 1}) ['a', 'n', 'n']\n",
      "Counter({'n': 4, 'a': 2}) [('n', 4)]\n",
      "Counter({'n': 2, 'a': 1}) None Counter({'n': 2, 'a': 1})\n"
     ]
    }
   ],
   "source": [
    "import collections\n",
    "a='annfffb'\n",
    "b=collections.Counter(a) #count number of each element in the string\n",
    "print(b)\n",
    "b&=collections.Counter('anns') #compare two, common thing\n",
    "print(b,list(b.elements())) #convert to list\n",
    "\n",
    "#Counter\n",
    "aa=collections.Counter(a=2,n=4)\n",
    "\n",
    "print(aa,aa.most_common(1))\n",
    "print(aa&b,aa.subtract(b),aa)"
   ]
  },
  {
   "cell_type": "markdown",
   "id": "uniform-reference",
   "metadata": {},
   "source": [
    "# Method 1*\n",
    "\n",
    "1. start check as first word\n",
    "\n",
    "2. use check to compare with the words after, use a newcheck to store common character. \n",
    "\n",
    "3. remove the common character each time to deal with duplicated character."
   ]
  },
  {
   "cell_type": "code",
   "execution_count": 40,
   "id": "stainless-sally",
   "metadata": {},
   "outputs": [],
   "source": [
    "class Solution:\n",
    "    def commonChars(self, words):\n",
    "        check=list(words[0])\n",
    "        \n",
    "        for word in words[1:]:\n",
    "            newcheck=[]\n",
    "            for w in word:\n",
    "                if w in check:\n",
    "                    newcheck.append(w)\n",
    "                    check.remove(w)\n",
    "            check=newcheck\n",
    "        return check"
   ]
  },
  {
   "cell_type": "markdown",
   "id": "italic-slave",
   "metadata": {},
   "source": [
    "# Method 2*\n",
    "\n",
    "1. collections.Counter()\n",
    "\n",
    "2. &=\n",
    "\n",
    "3. list"
   ]
  },
  {
   "cell_type": "code",
   "execution_count": 39,
   "id": "distinct-consumption",
   "metadata": {},
   "outputs": [],
   "source": [
    "class Solution:\n",
    "    def commonChars(self, words):\n",
    "        res=collections.Counter(words[0])\n",
    "        \n",
    "        for w in words:\n",
    "            res&=collections.Counter(w)\n",
    "            \n",
    "        return list(res.elements())"
   ]
  }
 ],
 "metadata": {
  "kernelspec": {
   "display_name": "Python 3",
   "language": "python",
   "name": "python3"
  },
  "language_info": {
   "codemirror_mode": {
    "name": "ipython",
    "version": 3
   },
   "file_extension": ".py",
   "mimetype": "text/x-python",
   "name": "python",
   "nbconvert_exporter": "python",
   "pygments_lexer": "ipython3",
   "version": "3.8.3"
  }
 },
 "nbformat": 4,
 "nbformat_minor": 5
}
