{
 "cells": [
  {
   "cell_type": "code",
   "execution_count": null,
   "id": "controlled-registrar",
   "metadata": {},
   "outputs": [],
   "source": []
  },
  {
   "cell_type": "markdown",
   "id": "embedded-interview",
   "metadata": {},
   "source": [
    "# Method 1\n",
    "\n",
    "compare: one character by one character until one word reachs its end; m<=n, a<=b\n",
    "\n",
    "T<=O(NS)\n",
    "S=O(N)"
   ]
  },
  {
   "cell_type": "code",
   "execution_count": 2,
   "id": "basic-degree",
   "metadata": {},
   "outputs": [],
   "source": [
    "class Solution:\n",
    "    def isAlienSorted(self, words, order: str) -> bool:\n",
    "        \n",
    "        def compare(a,b,o):\n",
    "            m,n=len(a),len(b)\n",
    "            \n",
    "            for i in range(min(m,n)):\n",
    "                if o[a[i]]>o[b[i]]:\n",
    "                    return False\n",
    "                elif o[a[i]]<o[b[i]]:\n",
    "                    return True\n",
    "            \n",
    "            return m<=n\n",
    "        \n",
    "        o={}\n",
    "        for i in range(len(order)):o[order[i]]=i\n",
    "        for j in range(1,len(words)):\n",
    "            if not compare(words[j-1],words[j],o):return False\n",
    "            \n",
    "        return True"
   ]
  },
  {
   "cell_type": "markdown",
   "id": "commercial-corrections",
   "metadata": {},
   "source": [
    "# Method 2\n",
    "\n",
    "Build a transform mapping from order,\n",
    "Find all alien words with letters in normal order.\n",
    "\n",
    "For example, if we have order = \"xyz...\"\n",
    "We can map the word \"xyz\" to \"abc\" or \"123\"\n",
    "\n",
    "Then we check if all words are in sorted order.\n",
    "\n",
    "Time O(NS)\n",
    "Space O(N)"
   ]
  },
  {
   "cell_type": "code",
   "execution_count": 3,
   "id": "verbal-documentary",
   "metadata": {},
   "outputs": [],
   "source": [
    "class Solution:\n",
    "    def isAlienSorted(self, words, order: str) -> bool:\n",
    "        m={c: i for i,c in enumerate(order)}\n",
    "        \n",
    "        new=[[m[w] for w in word] for word in words]\n",
    "        \n",
    "        return all([w1<=w2 for w1,w2 in zip(new,new[1:])])\n",
    "        "
   ]
  }
 ],
 "metadata": {
  "kernelspec": {
   "display_name": "Python 3",
   "language": "python",
   "name": "python3"
  },
  "language_info": {
   "codemirror_mode": {
    "name": "ipython",
    "version": 3
   },
   "file_extension": ".py",
   "mimetype": "text/x-python",
   "name": "python",
   "nbconvert_exporter": "python",
   "pygments_lexer": "ipython3",
   "version": "3.8.3"
  }
 },
 "nbformat": 4,
 "nbformat_minor": 5
}
