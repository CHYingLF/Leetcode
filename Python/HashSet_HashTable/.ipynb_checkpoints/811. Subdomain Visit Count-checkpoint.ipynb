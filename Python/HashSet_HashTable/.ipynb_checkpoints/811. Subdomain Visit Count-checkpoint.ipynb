{
 "cells": [
  {
   "cell_type": "code",
   "execution_count": 11,
   "id": "external-colors",
   "metadata": {},
   "outputs": [
    {
     "name": "stdout",
     "output_type": "stream",
     "text": [
      "1\n",
      "4\n"
     ]
    }
   ],
   "source": [
    "a={}\n",
    "a[1]=2\n",
    "a[4]=3\n",
    "for i in a:\n",
    "    print(i)"
   ]
  },
  {
   "cell_type": "markdown",
   "id": "institutional-vegetarian",
   "metadata": {},
   "source": [
    "# Method 1"
   ]
  },
  {
   "cell_type": "code",
   "execution_count": 13,
   "id": "finished-arcade",
   "metadata": {},
   "outputs": [
    {
     "data": {
      "text/plain": [
       "['951 com',\n",
       " '901 mail.com',\n",
       " '900 google.mail.com',\n",
       " '50 yahoo.com',\n",
       " '1 intel.mail.com',\n",
       " '5 org',\n",
       " '5 wiki.org']"
      ]
     },
     "execution_count": 13,
     "metadata": {},
     "output_type": "execute_result"
    }
   ],
   "source": [
    "class Solution:\n",
    "    def subdomainVisits(self, cpdomains):\n",
    "        res={}\n",
    "        \n",
    "        for domain in cpdomains:\n",
    "            i=domain.find(' ')\n",
    "            rep, d=int(domain[:i]),list(domain[i+1:].split('.'))\n",
    "            \n",
    "            for i in range(len(d))[::-1]:\n",
    "                temp='.'.join(d[i:])\n",
    "                res.setdefault(temp,0)\n",
    "                res[temp]+=rep\n",
    "                \n",
    "        return [str(res[c])+' '+c for c in res]\n",
    "    \n",
    "s=Solution()\n",
    "\n",
    "s.subdomainVisits([\"900 google.mail.com\", \"50 yahoo.com\", \"1 intel.mail.com\", \"5 wiki.org\"])"
   ]
  },
  {
   "cell_type": "markdown",
   "id": "political-norman",
   "metadata": {},
   "source": [
    "# Method 2*\n",
    "\n",
    "Use collections.Counter() as hashtable\n",
    "\n",
    "Format writing\n",
    "\n",
    "split() default use ' ' as separator"
   ]
  },
  {
   "cell_type": "code",
   "execution_count": 14,
   "id": "approved-reporter",
   "metadata": {},
   "outputs": [],
   "source": [
    "class Solution:\n",
    "    def subdomainVisits(self, cpdomains):\n",
    "        count = collections.Counter()\n",
    "        for cd in cpdomains:\n",
    "            n, s = cd.split()\n",
    "            count[s] += int(n)\n",
    "            for i in range(len(s)):\n",
    "                if s[i] == '.':\n",
    "                    count[s[i + 1:]] += int(n)\n",
    "        return [\"%d %s\" % (count[k], k) for k in count]"
   ]
  }
 ],
 "metadata": {
  "kernelspec": {
   "display_name": "Python 3",
   "language": "python",
   "name": "python3"
  },
  "language_info": {
   "codemirror_mode": {
    "name": "ipython",
    "version": 3
   },
   "file_extension": ".py",
   "mimetype": "text/x-python",
   "name": "python",
   "nbconvert_exporter": "python",
   "pygments_lexer": "ipython3",
   "version": "3.8.3"
  }
 },
 "nbformat": 4,
 "nbformat_minor": 5
}
