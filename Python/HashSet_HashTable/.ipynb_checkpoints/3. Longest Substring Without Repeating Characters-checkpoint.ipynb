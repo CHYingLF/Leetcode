{
 "cells": [
  {
   "cell_type": "code",
   "execution_count": null,
   "id": "posted-bennett",
   "metadata": {},
   "outputs": [],
   "source": []
  },
  {
   "cell_type": "markdown",
   "id": "bronze-recruitment",
   "metadata": {},
   "source": [
    "# Method 1"
   ]
  },
  {
   "cell_type": "markdown",
   "id": "moral-subscription",
   "metadata": {},
   "source": [
    "Use set to record the unique subarray"
   ]
  },
  {
   "cell_type": "code",
   "execution_count": null,
   "id": "protected-officer",
   "metadata": {},
   "outputs": [],
   "source": [
    "class Solution:\n",
    "    def lengthOfLongestSubstring(self, s: str) -> int:\n",
    "        res,i,sub=0,0,set()\n",
    "        \n",
    "        for j in range(len(s)):\n",
    "            while s[j] in sub:\n",
    "                sub.remove(s[i])\n",
    "                i+=1\n",
    "            sub.add(s[j])\n",
    "            \n",
    "            res=max(res,len(sub))\n",
    "            \n",
    "        return res\n",
    "        "
   ]
  },
  {
   "cell_type": "markdown",
   "id": "african-cable",
   "metadata": {},
   "source": [
    "Modified\n",
    "\n",
    "Use hashtable to record position of the element, jump i directly after duplicate vale."
   ]
  },
  {
   "cell_type": "code",
   "execution_count": null,
   "id": "editorial-seating",
   "metadata": {},
   "outputs": [],
   "source": [
    "class Solution:\n",
    "    def lengthOfLongestSubstring(self, s: str) -> int:\n",
    "        res,i,sub=0,0,{}\n",
    "        \n",
    "        for j in range(len(s)):\n",
    "            if s[j] in sub and i<=sub[s[j]]:\n",
    "                i=sub[s[j]]+1\n",
    "            else:\n",
    "                res=max(res,j-i+1)\n",
    "            \n",
    "            sub[s[j]]=j\n",
    "            \n",
    "        return res\n",
    "        "
   ]
  }
 ],
 "metadata": {
  "kernelspec": {
   "display_name": "Python 3",
   "language": "python",
   "name": "python3"
  },
  "language_info": {
   "codemirror_mode": {
    "name": "ipython",
    "version": 3
   },
   "file_extension": ".py",
   "mimetype": "text/x-python",
   "name": "python",
   "nbconvert_exporter": "python",
   "pygments_lexer": "ipython3",
   "version": "3.8.3"
  }
 },
 "nbformat": 4,
 "nbformat_minor": 5
}
